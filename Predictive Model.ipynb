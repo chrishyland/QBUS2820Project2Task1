{
 "cells": [
  {
   "cell_type": "code",
   "execution_count": 38,
   "metadata": {},
   "outputs": [],
   "source": [
    "import pandas as pd\n",
    "import numpy as np\n",
    "from sklearn.ensemble import AdaBoostClassifier, GradientBoostingClassifier, ExtraTreesClassifier, RandomForestClassifier\n",
    "from sklearn.ensemble import VotingClassifier\n",
    "from sklearn.naive_bayes import GaussianNB\n",
    "from sklearn.linear_model import LogisticRegression\n",
    "from sklearn.metrics import confusion_matrix, accuracy_score\n",
    "from sklearn import model_selection\n",
    "from sklearn.discriminant_analysis import QuadraticDiscriminantAnalysis, LinearDiscriminantAnalysis\n",
    "from sklearn.tree import DecisionTreeClassifier\n",
    "from sklearn.neighbors import KNeighborsClassifier\n",
    "from sklearn.model_selection import RandomizedSearchCV, GridSearchCV\n",
    "from sklearn import preprocessing\n",
    "from sklearn.preprocessing import normalize\n",
    "from sklearn.cross_validation import cross_val_score\n",
    "import matplotlib.pyplot as plt\n",
    "import seaborn as sb\n",
    "from keras.models import Sequential\n",
    "from keras.layers import Dense\n",
    "from keras.wrappers.scikit_learn import KerasClassifier\n",
    "%matplotlib inline\n",
    "\n",
    "#Stop warnings\n",
    "import warnings\n",
    "def ignore_warn(*args, **kwargs):\n",
    "    pass\n",
    "warnings.warn = ignore_warn"
   ]
  },
  {
   "cell_type": "code",
   "execution_count": 51,
   "metadata": {
    "collapsed": true
   },
   "outputs": [],
   "source": [
    "data = pd.read_csv('Clothing_Store.csv')"
   ]
  },
  {
   "cell_type": "markdown",
   "metadata": {},
   "source": [
    "# Business Understanding"
   ]
  },
  {
   "cell_type": "markdown",
   "metadata": {},
   "source": [
    "50 predictors for 21740 customers."
   ]
  },
  {
   "cell_type": "code",
   "execution_count": 17,
   "metadata": {},
   "outputs": [
    {
     "data": {
      "text/plain": [
       "(21740, 51)"
      ]
     },
     "execution_count": 17,
     "metadata": {},
     "output_type": "execute_result"
    }
   ],
   "source": [
    "data.shape"
   ]
  },
  {
   "cell_type": "markdown",
   "metadata": {},
   "source": [
    "Inspired by: http://www.comp.dit.ie/btierney/Oracle11gDoc/datamine.111/b28129/classify.htm\n",
    "\n",
    "Here, it costs \\$2.5 to send direct mail marketing to a customer. So a false positive will mean a loss of $2.5 since we send mail for no reason (cite a random source to quote this price).\n",
    "\n",
    "Cost/Benefit values (express in terms of cost):\n",
    "\n",
    "True Negative: 0 since we don't send anything to a customer who would have bought something otherwise.\n",
    "\n",
    "True Positive: -14 + 2.5 = -11.5 (profit is negative cost. Thus, we have profit and cost to send mail)\n",
    "\n",
    "False Negative: -14 (Lost profit and therefore don't make money).\n",
    "\n",
    "False Positive: 2.5\n",
    "\n",
    "Talk and elaborate more about TN, TP, FN, and FP."
   ]
  },
  {
   "cell_type": "markdown",
   "metadata": {},
   "source": [
    "Mean amount of money spent by typical customer is \\$114 whilst median was \\$92. Due to data being positively skewed (mean greater than median), we decide to take the average amount spent by a customer was \\$92. We assume profit is 15% of this, so profit made for each successful customer who is sent mail and responds, is \\$14"
   ]
  },
  {
   "cell_type": "code",
   "execution_count": 14,
   "metadata": {},
   "outputs": [
    {
     "name": "stdout",
     "output_type": "stream",
     "text": [
      "Mean amount spent by customer 113.89\n",
      "Median amount spent by customer 92.07\n",
      "Skewness of the amount spent by customer is 3.51\n"
     ]
    }
   ],
   "source": [
    "print(\"Mean amount spent by customer %.2f\"%data['AVRG'].mean())\n",
    "print(\"Median amount spent by customer %.2f\"%data['AVRG'].median())\n",
    "print(\"Skewness of the amount spent by customer is %.2f\"%data['AVRG'].skew())"
   ]
  },
  {
   "cell_type": "code",
   "execution_count": 15,
   "metadata": {},
   "outputs": [
    {
     "data": {
      "text/plain": [
       "count    21740.000000\n",
       "mean       113.889105\n",
       "std         87.249794\n",
       "min          0.490000\n",
       "25%         60.990000\n",
       "50%         92.070000\n",
       "75%        139.505000\n",
       "max       1919.880000\n",
       "Name: AVRG, dtype: float64"
      ]
     },
     "execution_count": 15,
     "metadata": {},
     "output_type": "execute_result"
    }
   ],
   "source": [
    "data['AVRG'].describe()"
   ]
  },
  {
   "cell_type": "markdown",
   "metadata": {},
   "source": [
    "Talk about whether False Negatives or False positives are worse. Seems like false negatives for me since if you send mail to someone who won't respond, you only lose 2 dollars (false positive) whilst if you fail to send it to someone who will respond, you lose \\$9.2 (false negative)"
   ]
  },
  {
   "cell_type": "markdown",
   "metadata": {},
   "source": [
    "# Data Understanding/Data Preperation"
   ]
  },
  {
   "cell_type": "code",
   "execution_count": 27,
   "metadata": {},
   "outputs": [
    {
     "name": "stdout",
     "output_type": "stream",
     "text": [
      "0.17\n"
     ]
    }
   ],
   "source": [
    "#Compute how many people in dataset responded to marketing campain. RESP means whether they responded or not.\n",
    "print(\"%.2f\"%(data['RESP'].sum()/data.shape[0]))"
   ]
  },
  {
   "cell_type": "markdown",
   "metadata": {},
   "source": [
    "Issue here since in dataset, only 17% of observations actually responded to marketing campain. We have a MASSIVE class imbalance here. It will be difficult to obtain a good score for the sensitivity as a result.\n",
    "\n",
    "Let's explore more about this dataset and see if any patterns."
   ]
  },
  {
   "cell_type": "markdown",
   "metadata": {},
   "source": [
    "We have a cluster variable which tells us what kind of customer (segment) they are from. Each type is associated with a number from the Microvision Market Segmentation System: http://www.tetrad.com/pub/prices/microvision.pdf"
   ]
  },
  {
   "cell_type": "code",
   "execution_count": 50,
   "metadata": {},
   "outputs": [
    {
     "data": {
      "image/png": "[encoded data removed]",
      "text/plain": [
       "<matplotlib.figure.Figure at 0x12dd37518>"
      ]
     },
     "metadata": {},
     "output_type": "display_data"
    }
   ],
   "source": [
    "clust_type_count = data['CLUSTYPE'].value_counts()\n",
    "ax = sb.barplot(x =clust_type_count.index[:10], y= clust_type_count[:10])\n",
    "ax.set(xlabel='Cluster Type', ylabel='Count', title=\"Most prevalent customer clusters\")\n",
    "plt.show()"
   ]
  },
  {
   "cell_type": "markdown",
   "metadata": {},
   "source": [
    "Here, cluster 10 (home sweet home) is the most prevalent life style cluster in our data set. These are families with medium-high income. Analyse what the top 3-5 lifestyles are according to the microvision pdf. Appears customer tends to be rich families that are hihgly educated."
   ]
  },
  {
   "cell_type": "markdown",
   "metadata": {},
   "source": [
    "# PLEASE COPY AND PASTE THE CODE FOR THE FEATURE ENGINEERING/EDA TASK THAT YOU'VE DONE OVER HERE (ONLY THE ONES YOU FIND RELEVANT AND WORTH TALKING ABOUT)"
   ]
  },
  {
   "cell_type": "markdown",
   "metadata": {},
   "source": [
    "#### Since you said that everything is skewed, take the log transformation for all variables that have strictly positive values. "
   ]
  },
  {
   "cell_type": "markdown",
   "metadata": {},
   "source": [
    "#### Also include and generate new features even if they don't seem to improve the models dramatically (just so we have stuff to write about)."
   ]
  },
  {
   "cell_type": "markdown",
   "metadata": {},
   "source": [
    "### Delete all these comments after you're done!"
   ]
  },
  {
   "cell_type": "code",
   "execution_count": null,
   "metadata": {
    "collapsed": true
   },
   "outputs": [],
   "source": []
  },
  {
   "cell_type": "code",
   "execution_count": null,
   "metadata": {
    "collapsed": true
   },
   "outputs": [],
   "source": []
  },
  {
   "cell_type": "code",
   "execution_count": null,
   "metadata": {
    "collapsed": true
   },
   "outputs": [],
   "source": []
  },
  {
   "cell_type": "markdown",
   "metadata": {},
   "source": [
    "# Modelling"
   ]
  },
  {
   "cell_type": "code",
   "execution_count": 52,
   "metadata": {
    "collapsed": true
   },
   "outputs": [],
   "source": [
    "dummies = pd.get_dummies(data[['VALPHON']],  drop_first=True)\n",
    "data=data.join(dummies)\n",
    "\n",
    "del data['VALPHON']\n",
    "final_train = data.sample(frac=0.6, random_state=450411920)\n",
    "final_test = data[data.index.isin(final_train.index)==False]\n",
    "#Now we have final train/test which only has predictors whilst y_train/test are the response\n",
    "y_train = final_train.pop('RESP')\n",
    "y_test = final_test.pop('RESP')\n",
    "\n",
    "#Normalise the features for some models\n",
    "norm_train = preprocessing.normalize(final_train)\n",
    "norm_test = preprocessing.normalize(final_test)"
   ]
  },
  {
   "cell_type": "markdown",
   "metadata": {},
   "source": [
    "### Baseline Model"
   ]
  },
  {
   "cell_type": "markdown",
   "metadata": {},
   "source": [
    "First I will define a baseline model for us to have a benchmark for our models to beat. Here, I will use the model of whereby the store sends a marketing letter to every customer (very inefficient but what is normally done!). From this, if our model does better than this, then it shows our model has promise."
   ]
  },
  {
   "cell_type": "code",
   "execution_count": 54,
   "metadata": {},
   "outputs": [
    {
     "name": "stdout",
     "output_type": "stream",
     "text": [
      "Percentage of people who actually respond is 16.61\n"
     ]
    }
   ],
   "source": [
    "print(\"Percentage of people who actually respond is %.2f\"%((data['RESP'].sum()/data.shape[0])*100))"
   ]
  },
  {
   "cell_type": "code",
   "execution_count": 58,
   "metadata": {},
   "outputs": [
    {
     "name": "stdout",
     "output_type": "stream",
     "text": [
      "People who respond 3611.0\n",
      "People who don't respond 21740.0\n"
     ]
    }
   ],
   "source": [
    "print(\"People who respond %.1f\"%data['RESP'].sum())\n",
    "print(\"People who don't respond %.1f\"%data.shape[0])"
   ]
  },
  {
   "cell_type": "markdown",
   "metadata": {},
   "source": [
    "Now we compute the cost/profit from sending a letter to everyone. We have 3611 true positives and 21740 false positives as a result of our strategy. Profit from true positive is 11.5 and cost of false positive is 2.5"
   ]
  },
  {
   "cell_type": "code",
   "execution_count": 59,
   "metadata": {},
   "outputs": [
    {
     "name": "stdout",
     "output_type": "stream",
     "text": [
      "Profit from true positive is 41526.50 \n",
      "Cost from false positive is 54350.00 \n"
     ]
    }
   ],
   "source": [
    "print(\"Profit from true positive is %.2f \"%(data['RESP'].sum()*11.5))\n",
    "print(\"Cost from false positive is %.2f \"%(data.shape[0]*2.5))"
   ]
  },
  {
   "cell_type": "code",
   "execution_count": 62,
   "metadata": {},
   "outputs": [
    {
     "name": "stdout",
     "output_type": "stream",
     "text": [
      "Overall cost from this strategy is 12823.50\n"
     ]
    }
   ],
   "source": [
    "print(\"Overall cost from this strategy is %.2f\"%((data.shape[0]*2.5)-(data['RESP'].sum()*11.5)))"
   ]
  },
  {
   "cell_type": "code",
   "execution_count": 67,
   "metadata": {},
   "outputs": [
    {
     "name": "stdout",
     "output_type": "stream",
     "text": [
      "Cost per person is $0.59\n"
     ]
    }
   ],
   "source": [
    "print(\"Cost per person is $%.2f\"%(12823.50/data.shape[0]))"
   ]
  },
  {
   "cell_type": "markdown",
   "metadata": {},
   "source": [
    "This baseline model makes a loss of 0.59 dollar on every customer it sends out material too."
   ]
  },
  {
   "cell_type": "markdown",
   "metadata": {},
   "source": [
    "## Improved Models"
   ]
  },
  {
   "cell_type": "code",
   "execution_count": null,
   "metadata": {
    "collapsed": true
   },
   "outputs": [],
   "source": []
  },
  {
   "cell_type": "code",
   "execution_count": null,
   "metadata": {
    "collapsed": true
   },
   "outputs": [],
   "source": []
  },
  {
   "cell_type": "code",
   "execution_count": null,
   "metadata": {
    "collapsed": true
   },
   "outputs": [],
   "source": []
  },
  {
   "cell_type": "code",
   "execution_count": null,
   "metadata": {
    "collapsed": true
   },
   "outputs": [],
   "source": []
  },
  {
   "cell_type": "code",
   "execution_count": null,
   "metadata": {
    "collapsed": true
   },
   "outputs": [],
   "source": []
  },
  {
   "cell_type": "markdown",
   "metadata": {},
   "source": [
    "You can see more information about the models I use in this: http://scikit-learn.org/stable/modules/ensemble.html#gradient-boosting"
   ]
  },
  {
   "cell_type": "code",
   "execution_count": 3,
   "metadata": {
    "collapsed": true
   },
   "outputs": [],
   "source": [
    "#In order to store the results from our models\n",
    "pred = []\n",
    "method = []\n",
    "model = []"
   ]
  },
  {
   "cell_type": "code",
   "execution_count": 4,
   "metadata": {
    "collapsed": true
   },
   "outputs": [],
   "source": [
    "#KNN\n",
    "neigh = KNeighborsClassifier(n_neighbors=3)\n",
    "neigh.fit(final_train,y_train)\n",
    "predneigh = neigh.predict(final_test)\n",
    "pred.append(predneigh)\n",
    "method.append('KNN')"
   ]
  },
  {
   "cell_type": "code",
   "execution_count": 25,
   "metadata": {
    "collapsed": true
   },
   "outputs": [],
   "source": [
    "#Adaptive Boosting\n",
    "regr = AdaBoostClassifier(learning_rate = 1, n_estimators = 350)\n",
    "model.append(regr)\n",
    "regr = regr.fit(final_train,y_train)\n",
    "adapred = regr.predict(final_test)\n",
    "pred.append(adapred)\n",
    "method.append('AdaptiveBoost')"
   ]
  },
  {
   "cell_type": "code",
   "execution_count": 26,
   "metadata": {
    "collapsed": true
   },
   "outputs": [],
   "source": [
    "#Quadratic Discriminant analysis\n",
    "QDA = QuadraticDiscriminantAnalysis()\n",
    "QDA.fit(norm_train, y_train)\n",
    "predQDA = QDA.predict(norm_test)\n",
    "pred.append(predQDA)\n",
    "method.append('QDA')"
   ]
  },
  {
   "cell_type": "code",
   "execution_count": 27,
   "metadata": {
    "collapsed": true
   },
   "outputs": [],
   "source": [
    "#Linear Discriminant analysis\n",
    "LDA = LinearDiscriminantAnalysis()\n",
    "LDA.fit(norm_train, y_train)\n",
    "predLDA = LDA.predict(norm_test)\n",
    "pred.append(predLDA)\n",
    "method.append('LDA')\n"
   ]
  },
  {
   "cell_type": "code",
   "execution_count": 28,
   "metadata": {
    "collapsed": true
   },
   "outputs": [],
   "source": [
    "#Decision Tree\n",
    "DT = DecisionTreeClassifier(random_state=0)\n",
    "DT.fit(final_train,y_train)\n",
    "predDT = DT.predict(final_test)\n",
    "pred.append(predDT)\n",
    "method.append('Decision Tree')"
   ]
  },
  {
   "cell_type": "code",
   "execution_count": 29,
   "metadata": {
    "collapsed": true
   },
   "outputs": [],
   "source": [
    "#Random Forest \n",
    "RandomFor = RandomForestClassifier(max_depth=None,min_samples_split=2)\n",
    "model.append(RandomFor)\n",
    "RandomFor = RandomFor.fit(final_train,y_train)\n",
    "randomforpred = RandomFor.predict(final_test)\n",
    "pred.append(randomforpred)\n",
    "method.append('Random Forest')"
   ]
  },
  {
   "cell_type": "code",
   "execution_count": 30,
   "metadata": {
    "collapsed": true
   },
   "outputs": [],
   "source": [
    "#Extremely Random Forest\n",
    "Extratree = ExtraTreesClassifier(max_depth=None,min_samples_split=2)\n",
    "model.append(Extratree)\n",
    "Extratree = Extratree.fit(final_train,y_train)\n",
    "predFinalExtRandomForest = Extratree.predict(final_test)\n",
    "pred.append(predFinalExtRandomForest)\n",
    "method.append('Extreme Random Forest')"
   ]
  },
  {
   "cell_type": "code",
   "execution_count": 31,
   "metadata": {
    "collapsed": true
   },
   "outputs": [],
   "source": [
    "#Gradient Boosting Classifier\n",
    "GradBoost = GradientBoostingClassifier(n_estimators=350, learning_rate=0.1,\n",
    "                                 max_depth=1, random_state=0)\n",
    "model.append(GradBoost)\n",
    "GradBoost = GradBoost.fit(final_train,y_train)\n",
    "predGradBoost = GradBoost.predict(final_test)\n",
    "pred.append(predGradBoost)\n",
    "method.append('Gradient Boost')"
   ]
  },
  {
   "cell_type": "code",
   "execution_count": 32,
   "metadata": {
    "collapsed": true
   },
   "outputs": [],
   "source": [
    "#Naive Bayes\n",
    "NaiveB = GaussianNB()\n",
    "model.append(NaiveB)\n",
    "NaiveB = NaiveB.fit(norm_train, y_train)\n",
    "predNaiveB = NaiveB.predict(norm_test)\n",
    "pred.append(predNaiveB)\n",
    "method.append('Naive Bayes')"
   ]
  },
  {
   "cell_type": "code",
   "execution_count": 33,
   "metadata": {
    "collapsed": true
   },
   "outputs": [],
   "source": [
    "#Logistic regression\n",
    "LogReg = LogisticRegression(random_state=450411920)\n",
    "model.append(LogReg)\n",
    "LogReg = LogReg.fit(final_train,y_train)\n",
    "predLogReg = LogReg.predict(final_test)\n",
    "pred.append(predLogReg)\n",
    "method.append('Logit Reg')"
   ]
  },
  {
   "cell_type": "markdown",
   "metadata": {},
   "source": [
    "We can evaluate how each of our model performs from a confusion matrix.\n",
    "https://machinelearningmastery.com/metrics-evaluate-machine-learning-algorithms-python/"
   ]
  },
  {
   "cell_type": "code",
   "execution_count": 34,
   "metadata": {
    "collapsed": true
   },
   "outputs": [],
   "source": [
    "#Generates us a table for results\n",
    "def getResultTable(rows, predictions):\n",
    "    columns=['Accuracy for No', 'Accuracy for Yes', 'Overall Accuracy']\n",
    "    results=pd.DataFrame(0.0, columns=columns, index=rows)\n",
    "    \n",
    "    for row,pred in zip(range(0,len(rows)),predictions):\n",
    "        matrix = confusion_matrix(y_test, pred)\n",
    "        results.iloc[row,0] = (matrix[0][0]/(matrix[0][0]+matrix[1][0]))\n",
    "        results.iloc[row,1] = (matrix[1][1]/(matrix[0][1]+matrix[1][1]))\n",
    "        results.iloc[row,2] = (accuracy_score(y_test, pred))\n",
    "        \n",
    "    return results.round(3)"
   ]
  },
  {
   "cell_type": "code",
   "execution_count": 35,
   "metadata": {},
   "outputs": [
    {
     "name": "stderr",
     "output_type": "stream",
     "text": [
      "/Users/ChristopherHyland/anaconda/lib/python3.6/site-packages/ipykernel_launcher.py:9: RuntimeWarning: invalid value encountered in long_scalars\n",
      "  if __name__ == '__main__':\n"
     ]
    },
    {
     "data": {
      "text/html": [
       "<div>\n",
       "<style>\n",
       "    .dataframe thead tr:only-child th {\n",
       "        text-align: right;\n",
       "    }\n",
       "\n",
       "    .dataframe thead th {\n",
       "        text-align: left;\n",
       "    }\n",
       "\n",
       "    .dataframe tbody tr th {\n",
       "        vertical-align: top;\n",
       "    }\n",
       "</style>\n",
       "<table border=\"1\" class=\"dataframe\">\n",
       "  <thead>\n",
       "    <tr style=\"text-align: right;\">\n",
       "      <th></th>\n",
       "      <th>Accuracy for No</th>\n",
       "      <th>Accuracy for Yes</th>\n",
       "      <th>Overall Accuracy</th>\n",
       "    </tr>\n",
       "  </thead>\n",
       "  <tbody>\n",
       "    <tr>\n",
       "      <th>KNN</th>\n",
       "      <td>0.836</td>\n",
       "      <td>0.200</td>\n",
       "      <td>0.789</td>\n",
       "    </tr>\n",
       "    <tr>\n",
       "      <th>AdaptiveBoost</th>\n",
       "      <td>0.876</td>\n",
       "      <td>0.594</td>\n",
       "      <td>0.850</td>\n",
       "    </tr>\n",
       "    <tr>\n",
       "      <th>QDA</th>\n",
       "      <td>0.902</td>\n",
       "      <td>0.390</td>\n",
       "      <td>0.782</td>\n",
       "    </tr>\n",
       "    <tr>\n",
       "      <th>LDA</th>\n",
       "      <td>0.866</td>\n",
       "      <td>0.623</td>\n",
       "      <td>0.850</td>\n",
       "    </tr>\n",
       "    <tr>\n",
       "      <th>Decision Tree</th>\n",
       "      <td>0.876</td>\n",
       "      <td>0.381</td>\n",
       "      <td>0.794</td>\n",
       "    </tr>\n",
       "    <tr>\n",
       "      <th>Random Forest</th>\n",
       "      <td>0.863</td>\n",
       "      <td>0.558</td>\n",
       "      <td>0.842</td>\n",
       "    </tr>\n",
       "    <tr>\n",
       "      <th>Extreme Random Forest</th>\n",
       "      <td>0.860</td>\n",
       "      <td>0.570</td>\n",
       "      <td>0.842</td>\n",
       "    </tr>\n",
       "    <tr>\n",
       "      <th>Gradient Boost</th>\n",
       "      <td>0.871</td>\n",
       "      <td>0.655</td>\n",
       "      <td>0.855</td>\n",
       "    </tr>\n",
       "    <tr>\n",
       "      <th>Naive Bayes</th>\n",
       "      <td>0.891</td>\n",
       "      <td>0.427</td>\n",
       "      <td>0.807</td>\n",
       "    </tr>\n",
       "    <tr>\n",
       "      <th>Logit Reg</th>\n",
       "      <td>0.833</td>\n",
       "      <td>NaN</td>\n",
       "      <td>0.833</td>\n",
       "    </tr>\n",
       "  </tbody>\n",
       "</table>\n",
       "</div>"
      ],
      "text/plain": [
       "                       Accuracy for No  Accuracy for Yes  Overall Accuracy\n",
       "KNN                              0.836             0.200             0.789\n",
       "AdaptiveBoost                    0.876             0.594             0.850\n",
       "QDA                              0.902             0.390             0.782\n",
       "LDA                              0.866             0.623             0.850\n",
       "Decision Tree                    0.876             0.381             0.794\n",
       "Random Forest                    0.863             0.558             0.842\n",
       "Extreme Random Forest            0.860             0.570             0.842\n",
       "Gradient Boost                   0.871             0.655             0.855\n",
       "Naive Bayes                      0.891             0.427             0.807\n",
       "Logit Reg                        0.833               NaN             0.833"
      ]
     },
     "execution_count": 35,
     "metadata": {},
     "output_type": "execute_result"
    }
   ],
   "source": [
    "getResultTable(method,pred)"
   ]
  },
  {
   "cell_type": "code",
   "execution_count": 16,
   "metadata": {
    "collapsed": true
   },
   "outputs": [],
   "source": [
    "def cm2df(cm, labels):\n",
    "    df = pd.DataFrame()\n",
    "    # rows\n",
    "    for i, row_label in enumerate(labels):\n",
    "        rowdata={}\n",
    "        # columns\n",
    "        for j, col_label in enumerate(labels): \n",
    "            rowdata[col_label]=cm[i,j]\n",
    "        df = df.append(pd.DataFrame.from_dict({row_label:rowdata}, orient='index'))\n",
    "    return df[labels]\n",
    "\n",
    "## to use, first generate confusion matrix:\n",
    "#cm = confusion_matrix(expected, predicted)\n",
    "## then convert to pandas DataFrame:\n",
    "#cm_as_df=cm2df(cm,dataset.target_names)\n",
    "## and output:\n",
    "#cm_as_df\n",
    "\n",
    "def precision_recall_fscore_support_metrics2df(prfs, labels):\n",
    "    df = pd.DataFrame()\n",
    "    for p,r,f,s,label in zip(prfs[0], prfs[1], prfs[2], prfs[3], dataset.target_names):\n",
    "        rowdata={}\n",
    "        rowdata['precision']=p\n",
    "        rowdata['recall']=r\n",
    "        rowdata['f1-score']=f\n",
    "        rowdata['support']=s\n",
    "        df = df.append(pd.DataFrame.from_dict({label:rowdata}, orient='index'))   \n",
    "    return df[['precision','recall','f1-score','support']]"
   ]
  },
  {
   "cell_type": "code",
   "execution_count": 18,
   "metadata": {},
   "outputs": [
    {
     "data": {
      "text/html": [
       "<div>\n",
       "<style>\n",
       "    .dataframe thead tr:only-child th {\n",
       "        text-align: right;\n",
       "    }\n",
       "\n",
       "    .dataframe thead th {\n",
       "        text-align: left;\n",
       "    }\n",
       "\n",
       "    .dataframe tbody tr th {\n",
       "        vertical-align: top;\n",
       "    }\n",
       "</style>\n",
       "<table border=\"1\" class=\"dataframe\">\n",
       "  <thead>\n",
       "    <tr style=\"text-align: right;\">\n",
       "      <th></th>\n",
       "      <th>x</th>\n",
       "      <th>y</th>\n",
       "    </tr>\n",
       "  </thead>\n",
       "  <tbody>\n",
       "    <tr>\n",
       "      <th>x</th>\n",
       "      <td>6337</td>\n",
       "      <td>910</td>\n",
       "    </tr>\n",
       "    <tr>\n",
       "      <th>y</th>\n",
       "      <td>772</td>\n",
       "      <td>677</td>\n",
       "    </tr>\n",
       "  </tbody>\n",
       "</table>\n",
       "</div>"
      ],
      "text/plain": [
       "      x    y\n",
       "x  6337  910\n",
       "y   772  677"
      ]
     },
     "execution_count": 18,
     "metadata": {},
     "output_type": "execute_result"
    }
   ],
   "source": [
    "cm = confusion_matrix(y_test,predNaiveB)\n",
    "cm2df(cm,['x','y'])"
   ]
  },
  {
   "cell_type": "code",
   "execution_count": 15,
   "metadata": {},
   "outputs": [
    {
     "name": "stdout",
     "output_type": "stream",
     "text": [
      "QDA confusion matrix is:\n",
      "[[6004 1243]\n",
      " [ 654  795]]\n",
      "Accuracy of predicting Yes is 0.902\n",
      "Accuracy of predicting No is 0.390\n",
      "Overall accuracy is 0.782\n",
      "\n",
      "LDA confusion matrix is:\n",
      "[[7028  219]\n",
      " [1087  362]]\n",
      "Accuracy of predicting Yes is 0.866\n",
      "Accuracy of predicting No is 0.623\n",
      "Overall accuracy is 0.850\n",
      "\n",
      "Naive Bayes confusion matrix is:\n",
      "[[6337  910]\n",
      " [ 772  677]]\n",
      "Accuracy of predicting Yes is 0.891\n",
      "Accuracy of predicting No is 0.427\n",
      "Overall accuracy is 0.807\n",
      "\n",
      "Best model is LDA\n",
      "Accuracy of the model is 0.850\n"
     ]
    }
   ],
   "source": [
    "#If we want to actually see a confusion matrix\n",
    "maxscore = 0\n",
    "bestmodel = 'none'\n",
    "for prediction, name in zip(pred,method):\n",
    "    print('{} confusion matrix is:'.format(name))\n",
    "    matrix = confusion_matrix(y_test, prediction)\n",
    "    print(matrix)\n",
    "    print('Accuracy of predicting No is %.3f'%(matrix[0][0]/(matrix[0][0]+matrix[1][0])))\n",
    "    print('Accuracy of predicting Yes is %.3f'%(matrix[1][1]/(matrix[0][1]+matrix[1][1])))\n",
    "    print('Overall accuracy is %.3f' % (accuracy_score(y_test, prediction)))\n",
    "    print('')\n",
    "    if (accuracy_score(y_test,prediction)>maxscore):\n",
    "        maxscore = accuracy_score(y_test,prediction)\n",
    "        bestmodel = name\n",
    "\n",
    "print('Best model is {}'.format(bestmodel))\n",
    "print('Accuracy of the model is %.3f' %(maxscore))\n",
    "    #8696 is total observations"
   ]
  },
  {
   "cell_type": "markdown",
   "metadata": {},
   "source": [
    "We can see that Gradient Boosting was the most accurate"
   ]
  },
  {
   "cell_type": "markdown",
   "metadata": {},
   "source": [
    "To interpret a confusion matrix, the column 1 and 2 represent the model predicting Yes or No. Then the rows represent were they actually yes or no. The [0,0] entry means that we predicted that many to be Yes, and it turns out that we were correct in predicting those, so that tells us how many yes observations we predicted correctly. Likewise, the [1,1] entry means how many no's we predicted correctly. The bottom left, [1,0] entry means we predicted yes, but was actually no and [0,1] entry is the vice versa. Conclusively, the diagonals of the matrix tells us how accurate are our predictions"
   ]
  },
  {
   "cell_type": "markdown",
   "metadata": {},
   "source": [
    "# Hyperparameter Tuning"
   ]
  },
  {
   "cell_type": "markdown",
   "metadata": {},
   "source": [
    "Now we try to tune the hyperparameter in our models, we use this package called randomizedsearchcv.\n",
    "\n",
    "This allows us to try out different hyperparameters.\n",
    "\n",
    "http://scikit-learn.org/stable/modules/generated/sklearn.model_selection.RandomizedSearchCV.html#sklearn.model_selection.RandomizedSearchCV"
   ]
  },
  {
   "cell_type": "code",
   "execution_count": 17,
   "metadata": {
    "collapsed": true
   },
   "outputs": [],
   "source": [
    "models = []\n",
    "modelname = []"
   ]
  },
  {
   "cell_type": "markdown",
   "metadata": {},
   "source": [
    "### KNN"
   ]
  },
  {
   "cell_type": "markdown",
   "metadata": {},
   "source": [
    "We begin with KNN with inspiration from:\n",
    "\n",
    "http://www.ritchieng.com/machine-learning-efficiently-search-tuning-param/"
   ]
  },
  {
   "cell_type": "code",
   "execution_count": 18,
   "metadata": {
    "collapsed": true
   },
   "outputs": [],
   "source": [
    "#Try setting from 1 - 25 neighbors\n",
    "k_range = range(1, 25)\n",
    "\n",
    "# we create a list. This allows us to see whether we should weigh all neighbours equally or weigh closer ones more\n",
    "weight_options = ['uniform', 'distance']"
   ]
  },
  {
   "cell_type": "code",
   "execution_count": 19,
   "metadata": {
    "collapsed": true
   },
   "outputs": [],
   "source": [
    "#Creating the objects necessary for us to try cross-validation in order to locate best hyperparameters\n",
    "param_dist = dict(n_neighbors=k_range, weights=weight_options)\n",
    "knn = KNeighborsClassifier()\n",
    "rand = RandomizedSearchCV(knn, param_dist, cv=10, scoring='accuracy', n_iter=10, random_state=5)"
   ]
  },
  {
   "cell_type": "code",
   "execution_count": 20,
   "metadata": {
    "collapsed": true
   },
   "outputs": [],
   "source": [
    "#Fitting the model and testing out random hyperparameters. This saves on computation time\n",
    "knnopt = rand.fit(final_train, y_train)"
   ]
  },
  {
   "cell_type": "code",
   "execution_count": 21,
   "metadata": {},
   "outputs": [
    {
     "name": "stdout",
     "output_type": "stream",
     "text": [
      "Accuracy of this model is 0.834\n",
      "{'weights': 'uniform', 'n_neighbors': 22}\n",
      "KNeighborsClassifier(algorithm='auto', leaf_size=30, metric='minkowski',\n",
      "           metric_params=None, n_jobs=1, n_neighbors=22, p=2,\n",
      "           weights='uniform')\n"
     ]
    }
   ],
   "source": [
    "# examine the best model\n",
    "print('Accuracy of this model is %.3f'%rand.best_score_)\n",
    "print(rand.best_params_)\n",
    "print(rand.best_estimator_)\n",
    "models.append(knnopt)\n",
    "modelname.append('KNN')"
   ]
  },
  {
   "cell_type": "markdown",
   "metadata": {},
   "source": [
    "Best hyperparameters for KNN involves 22 neighbours and having uniform neighbours"
   ]
  },
  {
   "cell_type": "code",
   "execution_count": 22,
   "metadata": {},
   "outputs": [
    {
     "name": "stdout",
     "output_type": "stream",
     "text": [
      "[0.7391884083841449, 0.8200690066610925, 0.79262347447833981, 0.82489923806123699, 0.81171339922396868, 0.82804305752590679, 0.82152594443765903, 0.83011278760604679, 0.82712304700344796, 0.83271991469292261, 0.83179966929414972, 0.83317968507783802, 0.83218322231512887, 0.83387010400323169, 0.83325660707071647, 0.83387010400323192, 0.83302666315918028, 0.83394690855795339, 0.83379365176298159, 0.83394690855795317, 0.83387033887954587, 0.83402359567451767, 0.83402359567451767, 0.83417673503133238]\n"
     ]
    }
   ],
   "source": [
    "#Now constructing a graph for this\n",
    "k_range = range(1, 25)\n",
    "\n",
    "# list of scores from k_range\n",
    "k_scores = []\n",
    "\n",
    "# 1. we will loop through reasonable values of k\n",
    "for k in k_range:\n",
    "    # 2. run KNeighborsClassifier with k neighbours\n",
    "    knn = KNeighborsClassifier(n_neighbors=k, weights = 'uniform')\n",
    "    # 3. obtain cross_val_score for KNeighborsClassifier with k neighbours\n",
    "    scores = cross_val_score(knn, final_train, y_train, cv=10, scoring='accuracy')\n",
    "    # 4. append mean of scores for k neighbors to k_scores list\n",
    "    k_scores.append(scores.mean())\n",
    "print(k_scores)"
   ]
  },
  {
   "cell_type": "code",
   "execution_count": 23,
   "metadata": {},
   "outputs": [
    {
     "data": {
      "text/plain": [
       "<matplotlib.text.Text at 0x120af7c88>"
      ]
     },
     "execution_count": 23,
     "metadata": {},
     "output_type": "execute_result"
    },
    {
     "data": {
      "image/png": "[encoded data removed]",
      "text/plain": [
       "<matplotlib.figure.Figure at 0x117bfe0b8>"
      ]
     },
     "metadata": {},
     "output_type": "display_data"
    }
   ],
   "source": [
    "# plot the value of K for KNN (x-axis) versus the cross-validated accuracy (y-axis)\n",
    "plt.plot(k_range, k_scores)\n",
    "plt.xlabel('Value of K for KNN')\n",
    "plt.ylabel('Cross-Validated Accuracy')\n",
    "plt.title('Neighbours vs Cross-validation Accuracy')"
   ]
  },
  {
   "cell_type": "markdown",
   "metadata": {},
   "source": [
    "We can see that increasing number of neighbours improves accuracy. However, we need to be wary of this."
   ]
  },
  {
   "cell_type": "markdown",
   "metadata": {},
   "source": [
    "#### Decision Tree"
   ]
  },
  {
   "cell_type": "code",
   "execution_count": 24,
   "metadata": {
    "collapsed": true
   },
   "outputs": [],
   "source": [
    "# Setup the parameters and distributions to sample from: param_dist\n",
    "param_dist = {\"max_depth\": [3, None],\n",
    "              \"max_features\": range(1, 9),\n",
    "              \"min_samples_leaf\": range(1, 9),\n",
    "              \"criterion\": [\"gini\", \"entropy\"]}\n",
    "\n",
    "# Instantiate a Decision Tree classifier: tree\n",
    "tree = DecisionTreeClassifier()\n",
    "\n",
    "# Instantiate the RandomizedSearchCV object: tree_cv\n",
    "tree_cv = RandomizedSearchCV(tree,param_dist, cv=10, scoring='accuracy', n_iter=10, random_state=5)\n",
    "\n",
    "#Fitting the model and testing out random hyperparameters. This saves on computation time\n",
    "treeopt = tree_cv.fit(final_train, y_train)"
   ]
  },
  {
   "cell_type": "code",
   "execution_count": 25,
   "metadata": {},
   "outputs": [
    {
     "name": "stdout",
     "output_type": "stream",
     "text": [
      "Accuracy of this model is 0.849\n",
      "{'min_samples_leaf': 1, 'max_features': 8, 'max_depth': 3, 'criterion': 'entropy'}\n",
      "DecisionTreeClassifier(class_weight=None, criterion='entropy', max_depth=3,\n",
      "            max_features=8, max_leaf_nodes=None, min_impurity_decrease=0.0,\n",
      "            min_impurity_split=None, min_samples_leaf=1,\n",
      "            min_samples_split=2, min_weight_fraction_leaf=0.0,\n",
      "            presort=False, random_state=None, splitter='best')\n"
     ]
    }
   ],
   "source": [
    "# examine the best model\n",
    "print('Accuracy of this model is %.3f'%tree_cv.best_score_)\n",
    "print(tree_cv.best_params_)\n",
    "print(tree_cv.best_estimator_)\n",
    "models.append(treeopt)\n",
    "modelname.append('Decision Tree')"
   ]
  },
  {
   "cell_type": "markdown",
   "metadata": {},
   "source": [
    "For the decision tree, we should set min sample leaves to 5, have a maximum of 8 features, a max depth of 3, and using the gini criterion."
   ]
  },
  {
   "cell_type": "code",
   "execution_count": 26,
   "metadata": {},
   "outputs": [
    {
     "name": "stdout",
     "output_type": "stream",
     "text": [
      "[0.8467504861939702, 0.84682529430002162, 0.84866566765941054, 0.85042864927329265, 0.84966342224184732, 0.84299223029152837, 0.84261102603369076, 0.84184192354306209]\n"
     ]
    }
   ],
   "source": [
    "#Now constructing a graph for this\n",
    "tree_range = range(2, 10)\n",
    "\n",
    "# list of scores from t_range\n",
    "t_scores = []\n",
    "\n",
    "# 1. we will loop through reasonable values of k\n",
    "for k in tree_range:\n",
    "    # 2. run Decision tree with different value for depth of tree\n",
    "    tree = DecisionTreeClassifier(max_depth = k, criterion='gini', max_features = 8, max_leaf_nodes = None )\n",
    "    # 3. obtain cross_val_score for Decision tree with depth of k\n",
    "    scores = cross_val_score(tree, final_train, y_train, cv=10, scoring='accuracy')\n",
    "    # 4. append mean of scores for decision tree to t_scores list\n",
    "    t_scores.append(scores.mean())\n",
    "print(t_scores)"
   ]
  },
  {
   "cell_type": "code",
   "execution_count": 27,
   "metadata": {},
   "outputs": [
    {
     "data": {
      "text/plain": [
       "<matplotlib.text.Text at 0x115618b38>"
      ]
     },
     "execution_count": 27,
     "metadata": {},
     "output_type": "execute_result"
    },
    {
     "data": {
      "image/png": "[encoded data removed]",
      "text/plain": [
       "<matplotlib.figure.Figure at 0x117bfeba8>"
      ]
     },
     "metadata": {},
     "output_type": "display_data"
    }
   ],
   "source": [
    "# plot the value of Depth for Decision Tree(x-axis) versus the cross-validated accuracy (y-axis)\n",
    "plt.plot(k_range, k_scores)\n",
    "plt.xlabel('Value of Depth for Decision Tree')\n",
    "plt.ylabel('Cross-Validated Accuracy')\n",
    "plt.title('Depth vs Cross-validation Accuracy')"
   ]
  },
  {
   "cell_type": "code",
   "execution_count": null,
   "metadata": {
    "collapsed": true
   },
   "outputs": [],
   "source": []
  },
  {
   "cell_type": "markdown",
   "metadata": {},
   "source": [
    "### Random Forest"
   ]
  },
  {
   "cell_type": "code",
   "execution_count": 28,
   "metadata": {
    "collapsed": true
   },
   "outputs": [],
   "source": [
    "# Setup the parameters and distributions to sample from: param_dist\n",
    "param_dist = {\"n_estimators\": range(5,15),\n",
    "              \"max_depth\": [3, None],\n",
    "              \"max_features\": range(1, 9),\n",
    "              \"min_samples_split\": range(2,5),\n",
    "              \"min_samples_leaf\": range(1, 9),\n",
    "              }\n",
    "\n",
    "# Instantiate a Extremely Random Forest classifier: randext\n",
    "randFor = RandomForestClassifier()\n",
    "\n",
    "# Instantiate the RandomizedSearchCV object: randFor_cv\n",
    "randFor_cv = RandomizedSearchCV(randFor,param_dist, cv=10, scoring='accuracy', n_iter=10, random_state=5)\n",
    "\n",
    "#Fitting the model and testing out random hyperparameters. This saves on computation time\n",
    "optrand = randFor_cv.fit(final_train, y_train)"
   ]
  },
  {
   "cell_type": "code",
   "execution_count": 29,
   "metadata": {},
   "outputs": [
    {
     "name": "stdout",
     "output_type": "stream",
     "text": [
      "Accuracy of this model is 0.853\n",
      "{'n_estimators': 10, 'min_samples_split': 3, 'min_samples_leaf': 2, 'max_features': 8, 'max_depth': 3}\n",
      "RandomForestClassifier(bootstrap=True, class_weight=None, criterion='gini',\n",
      "            max_depth=3, max_features=8, max_leaf_nodes=None,\n",
      "            min_impurity_decrease=0.0, min_impurity_split=None,\n",
      "            min_samples_leaf=2, min_samples_split=3,\n",
      "            min_weight_fraction_leaf=0.0, n_estimators=10, n_jobs=1,\n",
      "            oob_score=False, random_state=None, verbose=0,\n",
      "            warm_start=False)\n"
     ]
    }
   ],
   "source": [
    "# examine the best model\n",
    "print('Accuracy of this model is %.3f'%randFor_cv.best_score_)\n",
    "print(randFor_cv.best_params_)\n",
    "print(randFor_cv.best_estimator_)\n",
    "models.append(optrand)\n",
    "modelname.append('Random Forest')"
   ]
  },
  {
   "cell_type": "markdown",
   "metadata": {},
   "source": [
    "Best hyperparameters:\n",
    "\n",
    "n_estimators: 10\n",
    "\n",
    "maximum features: 8\n",
    "\n",
    "min_samples_split: 2\n",
    "\n",
    "min_samples_leaf: 8\n",
    "\n",
    "No maximum depth"
   ]
  },
  {
   "cell_type": "code",
   "execution_count": null,
   "metadata": {
    "collapsed": true
   },
   "outputs": [],
   "source": []
  },
  {
   "cell_type": "markdown",
   "metadata": {},
   "source": [
    "### Extremely Random Forest"
   ]
  },
  {
   "cell_type": "code",
   "execution_count": 30,
   "metadata": {
    "collapsed": true
   },
   "outputs": [],
   "source": [
    "# Setup the parameters and distributions to sample from: param_dist\n",
    "param_dist = {\"n_estimators\": range(5,15),\n",
    "              \"max_depth\": [3, None],\n",
    "              \"max_features\": range(1, 9),\n",
    "              \"min_samples_split\": range(2,5),\n",
    "              \"min_samples_leaf\": range(1, 9),\n",
    "              }\n",
    "\n",
    "# Instantiate a Extremely Random Forest classifier: randext\n",
    "randExt = ExtraTreesClassifier()\n",
    "\n",
    "# Instantiate the RandomizedSearchCV object: randext_cv\n",
    "randExt_cv = RandomizedSearchCV(randExt,param_dist, cv=10, scoring='accuracy', n_iter=10, random_state=5)\n",
    "\n",
    "#Fitting the model and testing out random hyperparameters. This saves on computation time\n",
    "optext = randExt_cv.fit(final_train, y_train)"
   ]
  },
  {
   "cell_type": "code",
   "execution_count": 31,
   "metadata": {},
   "outputs": [
    {
     "name": "stdout",
     "output_type": "stream",
     "text": [
      "Accuracy of this model is 0.850\n",
      "{'n_estimators': 11, 'min_samples_split': 3, 'min_samples_leaf': 6, 'max_features': 5, 'max_depth': None}\n",
      "ExtraTreesClassifier(bootstrap=False, class_weight=None, criterion='gini',\n",
      "           max_depth=None, max_features=5, max_leaf_nodes=None,\n",
      "           min_impurity_decrease=0.0, min_impurity_split=None,\n",
      "           min_samples_leaf=6, min_samples_split=3,\n",
      "           min_weight_fraction_leaf=0.0, n_estimators=11, n_jobs=1,\n",
      "           oob_score=False, random_state=None, verbose=0, warm_start=False)\n"
     ]
    }
   ],
   "source": [
    "# examine the best model\n",
    "print('Accuracy of this model is %.3f'%randExt_cv.best_score_)\n",
    "print(randExt_cv.best_params_)\n",
    "print(randExt_cv.best_estimator_)\n",
    "models.append(optext)\n",
    "modelname.append('Extremely Random Forest')"
   ]
  },
  {
   "cell_type": "markdown",
   "metadata": {},
   "source": [
    "{'n_estimators': 11, 'min_samples_split': 3, 'min_samples_leaf': 6, 'max_features': 5, 'max_depth': None} tells us the best parameters"
   ]
  },
  {
   "cell_type": "code",
   "execution_count": null,
   "metadata": {
    "collapsed": true
   },
   "outputs": [],
   "source": []
  },
  {
   "cell_type": "markdown",
   "metadata": {},
   "source": [
    "### Adaptive Boosting"
   ]
  },
  {
   "cell_type": "code",
   "execution_count": 32,
   "metadata": {
    "collapsed": true
   },
   "outputs": [],
   "source": [
    "# Setup the parameters and distributions to sample from: param_dist\n",
    "param_dist = {\"n_estimators\": range(330,400,10),\n",
    "              \"learning_rate\": range(1,5),\n",
    "              }\n",
    "\n",
    "# Instantiate a Adaptie boosting classifier: tree\n",
    "randAda = AdaBoostClassifier()\n",
    "\n",
    "# Instantiate the RandomizedSearchCV object: randada_cv\n",
    "randAda_cv = RandomizedSearchCV(randAda,param_dist, cv=10, scoring='accuracy', n_iter=10, random_state=5)\n",
    "\n",
    "#Fitting the model and testing out random hyperparameters. This saves on computation time\n",
    "optada = randAda_cv.fit(final_train, y_train)"
   ]
  },
  {
   "cell_type": "code",
   "execution_count": 33,
   "metadata": {},
   "outputs": [
    {
     "name": "stdout",
     "output_type": "stream",
     "text": [
      "Accuracy of this model is 0.852\n",
      "{'n_estimators': 350, 'learning_rate': 1}\n",
      "AdaBoostClassifier(algorithm='SAMME.R', base_estimator=None, learning_rate=1,\n",
      "          n_estimators=350, random_state=None)\n"
     ]
    }
   ],
   "source": [
    "# examine the best model\n",
    "print('Accuracy of this model is %.3f'%randAda_cv.best_score_)\n",
    "print(randAda_cv.best_params_)\n",
    "print(randAda_cv.best_estimator_)\n",
    "models.append(optada)\n",
    "modelname.append('Adaptive Boosting')"
   ]
  },
  {
   "cell_type": "code",
   "execution_count": null,
   "metadata": {
    "collapsed": true
   },
   "outputs": [],
   "source": []
  },
  {
   "cell_type": "markdown",
   "metadata": {},
   "source": [
    "### Gradient Boosting"
   ]
  },
  {
   "cell_type": "code",
   "execution_count": 34,
   "metadata": {
    "collapsed": true
   },
   "outputs": [],
   "source": [
    "# Setup the parameters and distributions to sample from: param_dist\n",
    "param_dist = {\"loss\": [\"deviance\", \"exponential\"],\n",
    "              \"n_estimators\": range(250,550,50),\n",
    "              \"learning_rate\": [0.1],\n",
    "              \"min_samples_split\" : [2,4],\n",
    "              \"min_samples_leaf\" : range(1,3)\n",
    "              }\n",
    "\n",
    "# Instantiate a GB boosting classifier: randGB\n",
    "randGB = GradientBoostingClassifier()\n",
    "\n",
    "# Instantiate the RandomizedSearchCV object: randGB_cv\n",
    "randGB_cv = RandomizedSearchCV(randGB,param_dist, cv=10, scoring='accuracy', n_iter=10, random_state=5)\n",
    "\n",
    "#Fitting the model and testing out random hyperparameters. This saves on computation time\n",
    "optgb = randGB_cv.fit(final_train, y_train)\n"
   ]
  },
  {
   "cell_type": "code",
   "execution_count": 35,
   "metadata": {},
   "outputs": [
    {
     "name": "stdout",
     "output_type": "stream",
     "text": [
      "Accuracy of this model is 0.856\n",
      "{'n_estimators': 250, 'min_samples_split': 4, 'min_samples_leaf': 2, 'loss': 'exponential', 'learning_rate': 0.1}\n",
      "GradientBoostingClassifier(criterion='friedman_mse', init=None,\n",
      "              learning_rate=0.1, loss='exponential', max_depth=3,\n",
      "              max_features=None, max_leaf_nodes=None,\n",
      "              min_impurity_decrease=0.0, min_impurity_split=None,\n",
      "              min_samples_leaf=2, min_samples_split=4,\n",
      "              min_weight_fraction_leaf=0.0, n_estimators=250,\n",
      "              presort='auto', random_state=None, subsample=1.0, verbose=0,\n",
      "              warm_start=False)\n"
     ]
    }
   ],
   "source": [
    "# examine the best model\n",
    "print('Accuracy of this model is %.3f'%randGB_cv.best_score_)\n",
    "print(randGB_cv.best_params_)\n",
    "print(randGB_cv.best_estimator_)\n",
    "models.append(optgb)\n",
    "modelname.append('Gradient Boosting')"
   ]
  },
  {
   "cell_type": "markdown",
   "metadata": {},
   "source": [
    "Same interpretation as usual"
   ]
  },
  {
   "cell_type": "code",
   "execution_count": null,
   "metadata": {
    "collapsed": true
   },
   "outputs": [],
   "source": []
  },
  {
   "cell_type": "markdown",
   "metadata": {},
   "source": [
    "### We have finalised tuning our hyperparameters and therefore we can retrain our models to see final results"
   ]
  },
  {
   "cell_type": "code",
   "execution_count": 36,
   "metadata": {
    "collapsed": true
   },
   "outputs": [],
   "source": [
    "#Logistic regression\n",
    "LogReg = LogisticRegression()\n",
    "optlog = LogReg.fit(final_train,y_train)\n",
    "models.append(optlog)\n",
    "modelname.append('Logit')\n",
    "\n",
    "#Naive Bayes\n",
    "NaiveB = GaussianNB()\n",
    "optnb = NaiveB.fit(final_train,y_train)\n",
    "models.append(optnb)\n",
    "modelname.append('Naive Bayes')\n",
    "\n",
    "#Linear Discriminant analysis\n",
    "LDA = LinearDiscriminantAnalysis()\n",
    "optlda = LDA.fit(final_train,y_train)\n",
    "models.append(optlda)\n",
    "modelname.append('LDA')\n",
    "\n",
    "#Quadratic Discriminant analysis\n",
    "QDA = QuadraticDiscriminantAnalysis()\n",
    "optqda = QDA.fit(final_train,y_train)\n",
    "models.append(optqda)\n",
    "modelname.append('QDA')"
   ]
  },
  {
   "cell_type": "code",
   "execution_count": 37,
   "metadata": {
    "collapsed": true
   },
   "outputs": [],
   "source": [
    "#Generates us a table for results with hyperparameter optimised models\n",
    "def getResultTable2(rows, modelsUsed):\n",
    "    columns=['Accuracy for No', 'Accuracy for Yes', 'Overall Accuracy']\n",
    "    results=pd.DataFrame(0.0, columns=columns, index=rows)\n",
    "    predictions = []\n",
    "    for clf in modelsUsed:\n",
    "        pred = clf.predict(final_test)\n",
    "        predictions.append(pred)\n",
    "        \n",
    "    for row,pred in zip(range(0,len(rows)),predictions):\n",
    "        matrix = confusion_matrix(y_test, pred)\n",
    "        results.iloc[row,0] = (matrix[0][0]/(matrix[0][0]+matrix[1][0]))\n",
    "        results.iloc[row,1] = (matrix[1][1]/(matrix[0][1]+matrix[1][1]))\n",
    "        results.iloc[row,2] = (accuracy_score(y_test, pred))\n",
    "        \n",
    "    return results.round(3)"
   ]
  },
  {
   "cell_type": "code",
   "execution_count": 38,
   "metadata": {},
   "outputs": [
    {
     "name": "stderr",
     "output_type": "stream",
     "text": [
      "/Users/ChristopherHyland/anaconda/lib/python3.6/site-packages/ipykernel_launcher.py:13: RuntimeWarning: invalid value encountered in long_scalars\n",
      "  del sys.path[0]\n"
     ]
    },
    {
     "data": {
      "text/html": [
       "<div>\n",
       "<style>\n",
       "    .dataframe thead tr:only-child th {\n",
       "        text-align: right;\n",
       "    }\n",
       "\n",
       "    .dataframe thead th {\n",
       "        text-align: left;\n",
       "    }\n",
       "\n",
       "    .dataframe tbody tr th {\n",
       "        vertical-align: top;\n",
       "    }\n",
       "</style>\n",
       "<table border=\"1\" class=\"dataframe\">\n",
       "  <thead>\n",
       "    <tr style=\"text-align: right;\">\n",
       "      <th></th>\n",
       "      <th>Accuracy for Yes</th>\n",
       "      <th>Accuracy for No</th>\n",
       "      <th>Overall Accuracy</th>\n",
       "    </tr>\n",
       "  </thead>\n",
       "  <tbody>\n",
       "    <tr>\n",
       "      <th>KNN</th>\n",
       "      <td>0.833</td>\n",
       "      <td>NaN</td>\n",
       "      <td>0.833</td>\n",
       "    </tr>\n",
       "    <tr>\n",
       "      <th>Decision Tree</th>\n",
       "      <td>0.846</td>\n",
       "      <td>0.686</td>\n",
       "      <td>0.842</td>\n",
       "    </tr>\n",
       "    <tr>\n",
       "      <th>Random Forest</th>\n",
       "      <td>0.859</td>\n",
       "      <td>0.676</td>\n",
       "      <td>0.850</td>\n",
       "    </tr>\n",
       "    <tr>\n",
       "      <th>Extremely Random Forest</th>\n",
       "      <td>0.861</td>\n",
       "      <td>0.649</td>\n",
       "      <td>0.850</td>\n",
       "    </tr>\n",
       "    <tr>\n",
       "      <th>Adaptive Boosting</th>\n",
       "      <td>0.876</td>\n",
       "      <td>0.594</td>\n",
       "      <td>0.850</td>\n",
       "    </tr>\n",
       "    <tr>\n",
       "      <th>Gradient Boosting</th>\n",
       "      <td>0.873</td>\n",
       "      <td>0.647</td>\n",
       "      <td>0.856</td>\n",
       "    </tr>\n",
       "    <tr>\n",
       "      <th>Logit</th>\n",
       "      <td>0.833</td>\n",
       "      <td>NaN</td>\n",
       "      <td>0.833</td>\n",
       "    </tr>\n",
       "    <tr>\n",
       "      <th>Naive Bayes</th>\n",
       "      <td>0.834</td>\n",
       "      <td>0.224</td>\n",
       "      <td>0.830</td>\n",
       "    </tr>\n",
       "    <tr>\n",
       "      <th>LDA</th>\n",
       "      <td>0.868</td>\n",
       "      <td>0.606</td>\n",
       "      <td>0.849</td>\n",
       "    </tr>\n",
       "    <tr>\n",
       "      <th>QDA</th>\n",
       "      <td>0.902</td>\n",
       "      <td>0.391</td>\n",
       "      <td>0.782</td>\n",
       "    </tr>\n",
       "  </tbody>\n",
       "</table>\n",
       "</div>"
      ],
      "text/plain": [
       "                         Accuracy for Yes  Accuracy for No  Overall Accuracy\n",
       "KNN                                 0.833              NaN             0.833\n",
       "Decision Tree                       0.846            0.686             0.842\n",
       "Random Forest                       0.859            0.676             0.850\n",
       "Extremely Random Forest             0.861            0.649             0.850\n",
       "Adaptive Boosting                   0.876            0.594             0.850\n",
       "Gradient Boosting                   0.873            0.647             0.856\n",
       "Logit                               0.833              NaN             0.833\n",
       "Naive Bayes                         0.834            0.224             0.830\n",
       "LDA                                 0.868            0.606             0.849\n",
       "QDA                                 0.902            0.391             0.782"
      ]
     },
     "execution_count": 38,
     "metadata": {},
     "output_type": "execute_result"
    }
   ],
   "source": [
    "#Warning, this takes a while to run!\n",
    "getResultTable2(modelname, models)"
   ]
  },
  {
   "cell_type": "code",
   "execution_count": null,
   "metadata": {
    "collapsed": true
   },
   "outputs": [],
   "source": []
  },
  {
   "cell_type": "markdown",
   "metadata": {},
   "source": [
    "# Ensembles"
   ]
  },
  {
   "cell_type": "markdown",
   "metadata": {},
   "source": [
    "## We can now combine our models in order to create even better models"
   ]
  },
  {
   "cell_type": "markdown",
   "metadata": {},
   "source": [
    "### We have predictions from our models and we can take a majority vote to predict each observation. Here, we use a majority vote. Here, we assign each model as having a vote that is of equal importance."
   ]
  },
  {
   "cell_type": "code",
   "execution_count": 39,
   "metadata": {
    "collapsed": true
   },
   "outputs": [],
   "source": [
    "ensemmodels = []\n",
    "ensempredictions = []"
   ]
  },
  {
   "cell_type": "markdown",
   "metadata": {},
   "source": [
    "Here, we take the 3 and 4 best models to create our model with hard voting"
   ]
  },
  {
   "cell_type": "code",
   "execution_count": 40,
   "metadata": {
    "collapsed": true
   },
   "outputs": [],
   "source": [
    "ensem = VotingClassifier(estimators=[('Adaptive', optada), ('DecisionTree', treeopt), ('GradientBoost', optgb)], voting='hard')\n",
    "ensemmodels.append('Adaboost DecisionTree GradientBoost')"
   ]
  },
  {
   "cell_type": "code",
   "execution_count": 41,
   "metadata": {
    "collapsed": true
   },
   "outputs": [],
   "source": [
    "ensem1 = ensem.fit(final_train,y_train)\n",
    "ensempred1 = ensem1.predict(final_test)\n",
    "ensempredictions.append(ensempred1)"
   ]
  },
  {
   "cell_type": "code",
   "execution_count": 42,
   "metadata": {
    "collapsed": true
   },
   "outputs": [],
   "source": [
    "ensem2 = VotingClassifier(estimators=[('Adaptive', optada), ('DecisionTree', treeopt), ('GradientBoost', optgb), ('LDA', optlda)], voting='hard')\n",
    "ensemmodels.append('Adaboost DecisionTree GradientBoost LDA')"
   ]
  },
  {
   "cell_type": "code",
   "execution_count": 43,
   "metadata": {
    "collapsed": true
   },
   "outputs": [],
   "source": [
    "ensem2 = ensem2.fit(final_train,y_train)\n",
    "ensempred2 = ensem2.predict(final_test)\n",
    "ensempredictions.append(ensempred2)"
   ]
  },
  {
   "cell_type": "code",
   "execution_count": 45,
   "metadata": {},
   "outputs": [
    {
     "data": {
      "text/html": [
       "<div>\n",
       "<style>\n",
       "    .dataframe thead tr:only-child th {\n",
       "        text-align: right;\n",
       "    }\n",
       "\n",
       "    .dataframe thead th {\n",
       "        text-align: left;\n",
       "    }\n",
       "\n",
       "    .dataframe tbody tr th {\n",
       "        vertical-align: top;\n",
       "    }\n",
       "</style>\n",
       "<table border=\"1\" class=\"dataframe\">\n",
       "  <thead>\n",
       "    <tr style=\"text-align: right;\">\n",
       "      <th></th>\n",
       "      <th>Accuracy for Yes</th>\n",
       "      <th>Accuracy for No</th>\n",
       "      <th>Overall Accuracy</th>\n",
       "    </tr>\n",
       "  </thead>\n",
       "  <tbody>\n",
       "    <tr>\n",
       "      <th>Adaboost DecisionTree GradientBoost</th>\n",
       "      <td>0.871</td>\n",
       "      <td>0.655</td>\n",
       "      <td>0.856</td>\n",
       "    </tr>\n",
       "    <tr>\n",
       "      <th>Adaboost DecisionTree GradientBoost LDA</th>\n",
       "      <td>0.860</td>\n",
       "      <td>0.694</td>\n",
       "      <td>0.852</td>\n",
       "    </tr>\n",
       "  </tbody>\n",
       "</table>\n",
       "</div>"
      ],
      "text/plain": [
       "                                         Accuracy for Yes  Accuracy for No  \\\n",
       "Adaboost DecisionTree GradientBoost                 0.871            0.655   \n",
       "Adaboost DecisionTree GradientBoost LDA             0.860            0.694   \n",
       "\n",
       "                                         Overall Accuracy  \n",
       "Adaboost DecisionTree GradientBoost                 0.856  \n",
       "Adaboost DecisionTree GradientBoost LDA             0.852  "
      ]
     },
     "execution_count": 45,
     "metadata": {},
     "output_type": "execute_result"
    }
   ],
   "source": [
    "getResultTable(ensemmodels,ensempredictions)"
   ]
  },
  {
   "cell_type": "markdown",
   "metadata": {},
   "source": [
    "Now we use the best ensemble model and then try soft voting. Here, each base model gets a different weight\n",
    "in their vote. We can use gridsearch CV to find optimal level of weighting for each model.\n",
    "\n",
    "http://scikit-learn.org/stable/modules/ensemble.html#voting-classifier"
   ]
  },
  {
   "cell_type": "code",
   "execution_count": 69,
   "metadata": {
    "collapsed": true
   },
   "outputs": [],
   "source": [
    "finalensem = VotingClassifier(estimators=[('LDA', optada), ('ExtraTrees', Extratree), ('GradientBoost', GradBoost)], voting='soft', weights = [1,1,4])"
   ]
  },
  {
   "cell_type": "code",
   "execution_count": 70,
   "metadata": {},
   "outputs": [
    {
     "data": {
      "text/plain": [
       "VotingClassifier(estimators=[('LDA', RandomizedSearchCV(cv=10, error_score='raise',\n",
       "          estimator=AdaBoostClassifier(algorithm='SAMME.R', base_estimator=None,\n",
       "          learning_rate=1.0, n_estimators=50, random_state=None),\n",
       "          fit_params=None, iid=True, n_iter=10, n_jobs=1,\n",
       "          param_distribution...         presort='auto', random_state=0, subsample=1.0, verbose=0,\n",
       "              warm_start=False))],\n",
       "         flatten_transform=None, n_jobs=1, voting='soft',\n",
       "         weights=[1, 1, 4])"
      ]
     },
     "execution_count": 70,
     "metadata": {},
     "output_type": "execute_result"
    }
   ],
   "source": [
    "finalensem.fit(final_train,y_train)"
   ]
  },
  {
   "cell_type": "code",
   "execution_count": 71,
   "metadata": {
    "collapsed": true
   },
   "outputs": [],
   "source": [
    "finalresults = finalensem.predict(final_test)"
   ]
  },
  {
   "cell_type": "code",
   "execution_count": 72,
   "metadata": {},
   "outputs": [
    {
     "name": "stdout",
     "output_type": "stream",
     "text": [
      "0.855450781969\n"
     ]
    }
   ],
   "source": [
    "#Final results\n",
    "print(accuracy_score(y_test, finalresults))"
   ]
  },
  {
   "cell_type": "markdown",
   "metadata": {},
   "source": [
    "Looks like hardvoting with Adaptive boosting, decision trees, and gradient boosting performed better."
   ]
  },
  {
   "cell_type": "code",
   "execution_count": 9,
   "metadata": {
    "collapsed": true
   },
   "outputs": [],
   "source": []
  },
  {
   "cell_type": "markdown",
   "metadata": {},
   "source": [
    "# Deep Learning"
   ]
  },
  {
   "cell_type": "code",
   "execution_count": 3,
   "metadata": {
    "collapsed": true
   },
   "outputs": [],
   "source": [
    "final_train += 0.001\n",
    "final_test += 0.01"
   ]
  },
  {
   "cell_type": "code",
   "execution_count": 4,
   "metadata": {
    "collapsed": true
   },
   "outputs": [],
   "source": [
    "#Need to scale the dataset to help the neural net learn\n",
    "from sklearn.preprocessing import StandardScaler\n",
    "scaler = StandardScaler()\n",
    "scaler.fit(final_train)\n",
    "x_train_scale = scaler.transform(final_train)\n",
    "x_test_scale = scaler.transform(final_test)"
   ]
  },
  {
   "cell_type": "code",
   "execution_count": null,
   "metadata": {
    "collapsed": true
   },
   "outputs": [],
   "source": []
  },
  {
   "cell_type": "code",
   "execution_count": 5,
   "metadata": {
    "collapsed": true
   },
   "outputs": [],
   "source": [
    "def baseline_model():\n",
    "    \"\"\"Wide neural network model.\"\"\"\n",
    "    #Construct a neural network object:\n",
    "    model = Sequential()\n",
    "    #Input dimension for input layer MUST match the number of predictors in our dataset. Output dimension tells us \n",
    "    #how many edges going into next layer (can be any number from 1 to number of vertices in next layer). \n",
    "    #Kernel_init tells us what initial weightings to set the weights when training it. Relu is activation function:\n",
    "    model.add(Dense(input_dim=50, output_dim = 1000, kernel_initializer='normal', activation='relu'))\n",
    "    #Here we created a layer with 10000 vertices and the same parameters as before:\n",
    "    model.add(Dense(1000, kernel_initializer='normal', activation = 'relu'))\n",
    "    model.add(Dense(250, kernel_initializer='normal', activation = 'relu'))\n",
    "    model.add(Dense(1, kernel_initializer='normal', activation = 'sigmoid'))\n",
    "    # Compile model from this. Keep this loss function whilst rmsprop is a better optimizer:\n",
    "    model.compile(loss='binary_crossentropy', optimizer='rmsprop',metrics=['accuracy'])\n",
    "    return model"
   ]
  },
  {
   "cell_type": "code",
   "execution_count": 6,
   "metadata": {},
   "outputs": [
    {
     "name": "stdout",
     "output_type": "stream",
     "text": [
      "Epoch 1/25\n",
      "13044/13044 [==============================] - 13s - loss: 0.3734 - acc: 0.8434    \n",
      "Epoch 2/25\n",
      "13044/13044 [==============================] - 13s - loss: 0.3463 - acc: 0.8513    \n",
      "Epoch 3/25\n",
      "13044/13044 [==============================] - 13s - loss: 0.3384 - acc: 0.8527    \n",
      "Epoch 4/25\n",
      "13044/13044 [==============================] - 11s - loss: 0.3357 - acc: 0.8507    \n",
      "Epoch 5/25\n",
      "13044/13044 [==============================] - 9s - loss: 0.3192 - acc: 0.8587     \n",
      "Epoch 6/25\n",
      "13044/13044 [==============================] - 10s - loss: 0.3108 - acc: 0.8615    \n",
      "Epoch 7/25\n",
      "13044/13044 [==============================] - 10s - loss: 0.2985 - acc: 0.8679    \n",
      "Epoch 8/25\n",
      "13044/13044 [==============================] - 10s - loss: 0.2880 - acc: 0.8743    \n",
      "Epoch 9/25\n",
      "13044/13044 [==============================] - 11s - loss: 0.2774 - acc: 0.8793    \n",
      "Epoch 10/25\n",
      "13044/13044 [==============================] - 11s - loss: 0.2675 - acc: 0.8865    \n",
      "Epoch 11/25\n",
      "13044/13044 [==============================] - 10s - loss: 0.2435 - acc: 0.9000    \n",
      "Epoch 12/25\n",
      "13044/13044 [==============================] - 11s - loss: 0.2301 - acc: 0.9065    \n",
      "Epoch 13/25\n",
      "13044/13044 [==============================] - 11s - loss: 0.2162 - acc: 0.9098    \n",
      "Epoch 14/25\n",
      "13044/13044 [==============================] - 10s - loss: 0.1952 - acc: 0.9221    \n",
      "Epoch 15/25\n",
      "13044/13044 [==============================] - 11s - loss: 0.1795 - acc: 0.9314    \n",
      "Epoch 16/25\n",
      "13044/13044 [==============================] - 10s - loss: 0.1678 - acc: 0.9342    \n",
      "Epoch 17/25\n",
      "13044/13044 [==============================] - 11s - loss: 0.1507 - acc: 0.9437    \n",
      "Epoch 18/25\n",
      "13044/13044 [==============================] - 11s - loss: 0.1392 - acc: 0.9486    \n",
      "Epoch 19/25\n",
      "13044/13044 [==============================] - 11s - loss: 0.1437 - acc: 0.9495    \n",
      "Epoch 20/25\n",
      "13044/13044 [==============================] - 12s - loss: 0.1374 - acc: 0.9532    \n",
      "Epoch 21/25\n",
      "13044/13044 [==============================] - 11s - loss: 0.1476 - acc: 0.9534    \n",
      "Epoch 22/25\n",
      "13044/13044 [==============================] - 11s - loss: 0.1963 - acc: 0.9506    - ETA: 2s\n",
      "Epoch 23/25\n",
      "13044/13044 [==============================] - 12s - loss: 0.1885 - acc: 0.9541    \n",
      "Epoch 24/25\n",
      "13044/13044 [==============================] - 11s - loss: 0.1991 - acc: 0.9571    \n",
      "Epoch 25/25\n",
      "13044/13044 [==============================] - 11s - loss: 0.2243 - acc: 0.9556    \n"
     ]
    },
    {
     "data": {
      "text/plain": [
       "<keras.callbacks.History at 0x12030ae48>"
      ]
     },
     "execution_count": 6,
     "metadata": {},
     "output_type": "execute_result"
    }
   ],
   "source": [
    "model = baseline_model()\n",
    "model.fit(x_train_scale, y_train, nb_epoch=25, batch_size=50)"
   ]
  },
  {
   "cell_type": "code",
   "execution_count": 15,
   "metadata": {},
   "outputs": [
    {
     "name": "stdout",
     "output_type": "stream",
     "text": [
      "8696/8696 [==============================] - 2s     \n"
     ]
    },
    {
     "data": {
      "text/plain": [
       "[1.6489517377225105, 0.84073137080000426]"
      ]
     },
     "execution_count": 15,
     "metadata": {},
     "output_type": "execute_result"
    }
   ],
   "source": [
    "model.evaluate(x_test_scale,y_test)"
   ]
  },
  {
   "cell_type": "code",
   "execution_count": null,
   "metadata": {
    "collapsed": true
   },
   "outputs": [],
   "source": []
  }
 ],
 "metadata": {
  "kernelspec": {
   "display_name": "Python 3",
   "language": "python",
   "name": "python3"
  },
  "language_info": {
   "codemirror_mode": {
    "name": "ipython",
    "version": 3
   },
   "file_extension": ".py",
   "mimetype": "text/x-python",
   "name": "python",
   "nbconvert_exporter": "python",
   "pygments_lexer": "ipython3",
   "version": "3.6.1"
  }
 },
 "nbformat": 4,
 "nbformat_minor": 2
}
