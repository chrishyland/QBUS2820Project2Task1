{
 "cells": [
  {
   "cell_type": "code",
   "execution_count": 1,
   "metadata": {},
   "outputs": [
    {
     "name": "stderr",
     "output_type": "stream",
     "text": [
      "/Users/ChristopherHyland/anaconda/lib/python3.6/site-packages/sklearn/cross_validation.py:41: DeprecationWarning: This module was deprecated in version 0.18 in favor of the model_selection module into which all the refactored classes and functions are moved. Also note that the interface of the new CV iterators are different from that of this module. This module will be removed in 0.20.\n",
      "  \"This module will be removed in 0.20.\", DeprecationWarning)\n"
     ]
    }
   ],
   "source": [
    "import pandas as pd\n",
    "import numpy as np\n",
    "from sklearn.ensemble import AdaBoostClassifier, GradientBoostingClassifier, ExtraTreesClassifier, RandomForestClassifier\n",
    "from sklearn.ensemble import VotingClassifier\n",
    "from sklearn.naive_bayes import GaussianNB\n",
    "from sklearn.linear_model import LogisticRegression\n",
    "from sklearn.metrics import confusion_matrix, accuracy_score\n",
    "from sklearn import model_selection\n",
    "from sklearn.discriminant_analysis import QuadraticDiscriminantAnalysis, LinearDiscriminantAnalysis\n",
    "from sklearn.tree import DecisionTreeClassifier\n",
    "from sklearn.neighbors import KNeighborsClassifier\n",
    "from sklearn.model_selection import RandomizedSearchCV, GridSearchCV\n",
    "from sklearn import preprocessing\n",
    "from sklearn.preprocessing import normalize\n",
    "from sklearn.cross_validation import cross_val_score\n",
    "import matplotlib.pyplot as plt\n",
    "import seaborn as sb\n",
    "%matplotlib inline\n",
    "\n",
    "#Stop warnings\n",
    "import warnings\n",
    "def ignore_warn(*args, **kwargs):\n",
    "    pass\n",
    "warnings.warn = ignore_warn"
   ]
  },
  {
   "cell_type": "code",
   "execution_count": 2,
   "metadata": {
    "collapsed": true
   },
   "outputs": [],
   "source": [
    "data = pd.read_csv('Clothing_Store.csv')"
   ]
  },
  {
   "cell_type": "markdown",
   "metadata": {},
   "source": [
    "# Business Understanding"
   ]
  },
  {
   "cell_type": "markdown",
   "metadata": {},
   "source": [
    "50 predictors for 21740 customers."
   ]
  },
  {
   "cell_type": "code",
   "execution_count": 3,
   "metadata": {},
   "outputs": [
    {
     "data": {
      "text/plain": [
       "(21740, 51)"
      ]
     },
     "execution_count": 3,
     "metadata": {},
     "output_type": "execute_result"
    }
   ],
   "source": [
    "data.shape"
   ]
  },
  {
   "cell_type": "markdown",
   "metadata": {},
   "source": [
    "Inspired by: http://www.comp.dit.ie/btierney/Oracle11gDoc/datamine.111/b28129/classify.htm\n",
    "\n",
    "Here, it costs \\$2.5 to send direct mail marketing to a customer. So a false positive will mean a loss of $2.5 since we send mail for no reason (cite a random source to quote this price).\n",
    "\n",
    "Cost/Benefit values (express in terms of cost):\n",
    "\n",
    "True Negative: 0 since we don't send anything to a customer who would have bought something otherwise.\n",
    "\n",
    "True Positive: -14 + 2.5 = -11.5 (profit is negative cost. Thus, we have profit and cost to send mail)\n",
    "\n",
    "False Negative: 14 (Lost profit and therefore don't make money).\n",
    "\n",
    "False Positive: 2.5\n",
    "\n",
    "Talk and elaborate more about TN, TP, FN, and FP."
   ]
  },
  {
   "cell_type": "markdown",
   "metadata": {},
   "source": [
    "Mean amount of money spent by typical customer is \\$114 whilst median was \\$92. Due to data being positively skewed (mean greater than median), we decide to take the average amount spent by a customer was \\$92. We assume profit is 15% of this, so profit made for each successful customer who is sent mail and responds, is \\$14"
   ]
  },
  {
   "cell_type": "code",
   "execution_count": 4,
   "metadata": {},
   "outputs": [
    {
     "name": "stdout",
     "output_type": "stream",
     "text": [
      "Mean amount spent by customer 113.89\n",
      "Median amount spent by customer 92.07\n",
      "Skewness of the amount spent by customer is 3.51\n"
     ]
    }
   ],
   "source": [
    "print(\"Mean amount spent by customer %.2f\"%data['AVRG'].mean())\n",
    "print(\"Median amount spent by customer %.2f\"%data['AVRG'].median())\n",
    "print(\"Skewness of the amount spent by customer is %.2f\"%data['AVRG'].skew())"
   ]
  },
  {
   "cell_type": "code",
   "execution_count": 5,
   "metadata": {},
   "outputs": [
    {
     "data": {
      "text/plain": [
       "count    21740.000000\n",
       "mean       113.889105\n",
       "std         87.249794\n",
       "min          0.490000\n",
       "25%         60.990000\n",
       "50%         92.070000\n",
       "75%        139.505000\n",
       "max       1919.880000\n",
       "Name: AVRG, dtype: float64"
      ]
     },
     "execution_count": 5,
     "metadata": {},
     "output_type": "execute_result"
    }
   ],
   "source": [
    "data['AVRG'].describe()"
   ]
  },
  {
   "cell_type": "markdown",
   "metadata": {},
   "source": [
    "Talk about whether False Negatives or False positives are worse. Seems like false negatives for me since if you send mail to someone who won't respond, you only lose 2 dollars (false positive) whilst if you fail to send it to someone who will respond, you lose \\$14.0 (false negative)"
   ]
  },
  {
   "cell_type": "markdown",
   "metadata": {},
   "source": [
    "# Data Understanding/Data Preperation"
   ]
  },
  {
   "cell_type": "code",
   "execution_count": 6,
   "metadata": {},
   "outputs": [
    {
     "name": "stdout",
     "output_type": "stream",
     "text": [
      "0.17\n"
     ]
    }
   ],
   "source": [
    "#Compute how many people in dataset responded to marketing campain. RESP means whether they responded or not.\n",
    "print(\"%.2f\"%(data['RESP'].sum()/data.shape[0]))"
   ]
  },
  {
   "cell_type": "markdown",
   "metadata": {},
   "source": [
    "Issue here since in dataset, only 17% of observations actually responded to marketing campain. We have a MASSIVE class imbalance here. It will be difficult to obtain a good score for the sensitivity as a result.\n",
    "\n",
    "Let's explore more about this dataset and see if any patterns."
   ]
  },
  {
   "cell_type": "markdown",
   "metadata": {},
   "source": [
    "We have a cluster variable which tells us what kind of customer (segment) they are from. Each type is associated with a number from the Microvision Market Segmentation System: http://www.tetrad.com/pub/prices/microvision.pdf"
   ]
  },
  {
   "cell_type": "code",
   "execution_count": 7,
   "metadata": {},
   "outputs": [
    {
     "data": {
      "image/png": "[encoded data removed]",
      "text/plain": [
       "<matplotlib.figure.Figure at 0x127c6cfd0>"
      ]
     },
     "metadata": {},
     "output_type": "display_data"
    }
   ],
   "source": [
    "clust_type_count = data['CLUSTYPE'].value_counts()\n",
    "ax = sb.barplot(x =clust_type_count.index[:10], y= clust_type_count[:10])\n",
    "ax.set(xlabel='Cluster Type', ylabel='Count', title=\"Most prevalent customer clusters\")\n",
    "plt.show()"
   ]
  },
  {
   "cell_type": "markdown",
   "metadata": {},
   "source": [
    "Here, cluster 10 (home sweet home) is the most prevalent life style cluster in our data set. These are families with medium-high income. Analyse what the top 3-5 lifestyles are according to the microvision pdf. Appears customer tends to be rich families that are hihgly educated."
   ]
  },
  {
   "cell_type": "markdown",
   "metadata": {},
   "source": [
    "# PLEASE COPY AND PASTE THE CODE FOR THE FEATURE ENGINEERING/EDA TASK THAT YOU'VE DONE OVER HERE (ONLY THE ONES YOU FIND RELEVANT AND WORTH TALKING ABOUT)"
   ]
  },
  {
   "cell_type": "markdown",
   "metadata": {},
   "source": [
    "#### Since you said that everything is skewed, take the log transformation for all variables that have strictly positive values. "
   ]
  },
  {
   "cell_type": "markdown",
   "metadata": {},
   "source": [
    "#### Also include and generate new features even if they don't seem to improve the models dramatically (just so we have stuff to write about)."
   ]
  },
  {
   "cell_type": "markdown",
   "metadata": {},
   "source": [
    "### Delete all these comments after you're done!"
   ]
  },
  {
   "cell_type": "code",
   "execution_count": null,
   "metadata": {
    "collapsed": true
   },
   "outputs": [],
   "source": []
  },
  {
   "cell_type": "code",
   "execution_count": null,
   "metadata": {
    "collapsed": true
   },
   "outputs": [],
   "source": []
  },
  {
   "cell_type": "code",
   "execution_count": null,
   "metadata": {
    "collapsed": true
   },
   "outputs": [],
   "source": []
  },
  {
   "cell_type": "markdown",
   "metadata": {},
   "source": [
    "# Modelling"
   ]
  },
  {
   "cell_type": "markdown",
   "metadata": {},
   "source": [
    "### Baseline Model"
   ]
  },
  {
   "cell_type": "markdown",
   "metadata": {},
   "source": [
    "First I will define a baseline model for us to have a benchmark for our models to beat. Here, I will use the model of whereby the store sends a marketing letter to every customer (very inefficient but what is normally done!). From this, if our model does better than this, then it shows our model has promise."
   ]
  },
  {
   "cell_type": "code",
   "execution_count": 3,
   "metadata": {},
   "outputs": [
    {
     "name": "stdout",
     "output_type": "stream",
     "text": [
      "Percentage of people who actually respond is 16.61\n"
     ]
    }
   ],
   "source": [
    "print(\"Percentage of people who actually respond is %.2f\"%((data['RESP'].sum()/data.shape[0])*100))"
   ]
  },
  {
   "cell_type": "code",
   "execution_count": 4,
   "metadata": {},
   "outputs": [
    {
     "name": "stdout",
     "output_type": "stream",
     "text": [
      "People who respond 3611.0\n",
      "People who don't respond 21740.0\n"
     ]
    }
   ],
   "source": [
    "print(\"People who respond %.1f\"%data['RESP'].sum())\n",
    "print(\"People who don't respond %.1f\"%data.shape[0])"
   ]
  },
  {
   "cell_type": "markdown",
   "metadata": {},
   "source": [
    "Now we compute the cost/profit from sending a letter to everyone. We have 3611 true positives and 21740 false positives as a result of our strategy. Profit from true positive is 11.5 and cost of false positive is 2.5"
   ]
  },
  {
   "cell_type": "code",
   "execution_count": 11,
   "metadata": {},
   "outputs": [
    {
     "name": "stdout",
     "output_type": "stream",
     "text": [
      "Profit from true positive is 41526.50 \n",
      "Cost from false positive is 54350.00 \n"
     ]
    }
   ],
   "source": [
    "print(\"Profit from true positive is %.2f \"%(data['RESP'].sum()*11.5))\n",
    "print(\"Cost from false positive is %.2f \"%(data.shape[0]*2.5))"
   ]
  },
  {
   "cell_type": "code",
   "execution_count": 12,
   "metadata": {},
   "outputs": [
    {
     "name": "stdout",
     "output_type": "stream",
     "text": [
      "Overall cost from this strategy is 12823.50\n"
     ]
    }
   ],
   "source": [
    "print(\"Overall cost from this strategy is %.2f\"%((data.shape[0]*2.5)-(data['RESP'].sum()*11.5)))"
   ]
  },
  {
   "cell_type": "code",
   "execution_count": 13,
   "metadata": {},
   "outputs": [
    {
     "name": "stdout",
     "output_type": "stream",
     "text": [
      "Cost per person is $0.59\n"
     ]
    }
   ],
   "source": [
    "print(\"Cost per person is $%.2f\"%(12823.50/data.shape[0]))"
   ]
  },
  {
   "cell_type": "markdown",
   "metadata": {},
   "source": [
    "This baseline model makes a loss of 0.59 dollar on every customer it sends out material too."
   ]
  },
  {
   "cell_type": "code",
   "execution_count": 74,
   "metadata": {},
   "outputs": [
    {
     "name": "stdout",
     "output_type": "stream",
     "text": [
      "Error from this is 83.39\n"
     ]
    }
   ],
   "source": [
    "print('Error from this is %.2f'%(100*(1 - (data['RESP'].sum()/data.shape[0]))))"
   ]
  },
  {
   "cell_type": "markdown",
   "metadata": {},
   "source": [
    "It's interesting to note we have a massive error rate of 84% for our classification yet we hardly lose any money on each customer. This is because there is such a low associated cost with a False Positive whilst there is a massive payoff from a True Positive. Therefore this balances out."
   ]
  },
  {
   "cell_type": "markdown",
   "metadata": {},
   "source": [
    "## Improved Models"
   ]
  },
  {
   "cell_type": "markdown",
   "metadata": {},
   "source": [
    "You can see more information about the models I use in this: http://scikit-learn.org/stable/modules/ensemble.html#gradient-boosting"
   ]
  },
  {
   "cell_type": "markdown",
   "metadata": {},
   "source": [
    "Transform valid phone number into dummy variable."
   ]
  },
  {
   "cell_type": "code",
   "execution_count": 5,
   "metadata": {
    "collapsed": true
   },
   "outputs": [],
   "source": [
    "data = pd.read_csv('Clothing_Store.csv')\n",
    "dummies = pd.get_dummies(data[['VALPHON']],  drop_first=True)\n",
    "data=data.join(dummies)\n",
    "\n",
    "del data['VALPHON']\n",
    "x_train = data.sample(frac=0.6, random_state=450411920)\n",
    "x_test = data[data.index.isin(x_train.index)==False]\n",
    "#Now we have final train/test which only has predictors whilst y_train/test are the response\n",
    "y_train = x_train.pop('RESP')\n",
    "y_test = x_test.pop('RESP')\n",
    "\n",
    "#Normalise the features for some models\n",
    "norm_train = preprocessing.normalize(x_train)\n",
    "norm_test = preprocessing.normalize(x_test)"
   ]
  },
  {
   "cell_type": "code",
   "execution_count": 64,
   "metadata": {},
   "outputs": [
    {
     "data": {
      "text/plain": [
       "'Training size is 13044 with 2162 number of yes respondents. Makes up around 16.574670346519476%.'"
      ]
     },
     "execution_count": 64,
     "metadata": {},
     "output_type": "execute_result"
    }
   ],
   "source": [
    "f'Training size is {x_train.shape[0]} with {y_train.sum()} number of yes respondents. Makes up around {100*(y_train.sum()/x_train.shape[0])}%.'"
   ]
  },
  {
   "cell_type": "code",
   "execution_count": 65,
   "metadata": {},
   "outputs": [
    {
     "data": {
      "text/plain": [
       "'Test size is 8696 with 1449 number of yes respondents. Makes up around 16.66283348666053%.'"
      ]
     },
     "execution_count": 65,
     "metadata": {},
     "output_type": "execute_result"
    }
   ],
   "source": [
    "f'Test size is {x_test.shape[0]} with {y_test.sum()} number of yes respondents. Makes up around {100*(y_test.sum()/x_test.shape[0])}%.'"
   ]
  },
  {
   "cell_type": "markdown",
   "metadata": {},
   "source": [
    "Our yes respondents makes up approximately 17% of the training and test sample. Theres quite a bit of class imbalances but not on an extreme level. Normally we would want a range between 25-50 percent, so we shall drop some of the non-respondants in ONLY OUR TRAINING SET. We don't do balance test set since this data shouldn't be tampered with. This means that our algorithms have a chance to learn about BOTH individuals who respond and those who don't respond."
   ]
  },
  {
   "cell_type": "code",
   "execution_count": 6,
   "metadata": {
    "collapsed": true
   },
   "outputs": [],
   "source": [
    "import random\n",
    "'''This will randomly remove observations from the training dataset \n",
    "   IF the individual did NOT respond to marketing material'''\n",
    "rand_index = list(x_train.index.values)\n",
    "np.random.seed(10)\n",
    "for i in range(1,12000):\n",
    "    ind = random.choice(rand_index)\n",
    "    if(y_train[ind]==1):\n",
    "        continue\n",
    "    else:\n",
    "        x_train = x_train.drop(ind)\n",
    "        del y_train[ind]\n",
    "        rand_index.remove(ind)"
   ]
  },
  {
   "cell_type": "code",
   "execution_count": 7,
   "metadata": {},
   "outputs": [
    {
     "data": {
      "text/plain": [
       "'Training size is 4445 with 2162 number of yes respondents. Makes up around 48.638920134983124%.'"
      ]
     },
     "execution_count": 7,
     "metadata": {},
     "output_type": "execute_result"
    }
   ],
   "source": [
    "f'Training size is {x_train.shape[0]} with {y_train.sum()} number of yes respondents. Makes up around {100*(y_train.sum()/x_train.shape[0])}%.'"
   ]
  },
  {
   "cell_type": "markdown",
   "metadata": {},
   "source": [
    "Achieved apprxomiately 50% split now between those who responded and those who didn't."
   ]
  },
  {
   "cell_type": "markdown",
   "metadata": {},
   "source": [
    "#### Loss Function creation"
   ]
  },
  {
   "cell_type": "markdown",
   "metadata": {},
   "source": [
    "Let define some new loss functions to take into account our cost-benefit matrix as we now want to minimise over the false negative, true positive, and a mixture of these two. http://scikit-learn.org/stable/modules/generated/sklearn.metrics.make_scorer.html#sklearn.metrics.make_scorer. We want to minimise the number of false positives and maximize the number of true positives according to cost-benefit matrix."
   ]
  },
  {
   "cell_type": "code",
   "execution_count": 50,
   "metadata": {
    "collapsed": true
   },
   "outputs": [],
   "source": [
    "from sklearn.metrics import make_scorer\n",
    "\n",
    "def false_Negative_Loss(y_truth, y_pred):\n",
    "    '''Computes the False Negative rate and returns it.'''\n",
    "    fn = confusion_matrix(y_truth, y_pred)[1, 0]\n",
    "    return fn\n",
    "\n",
    "def true_Positive_Score(y_truth, y_pred):\n",
    "    '''Computes the True Positive rate and returns it.'''\n",
    "    tp = confusion_matrix(y_truth, y_pred)[1, 1]\n",
    "    return tp\n",
    "\n",
    "#A scorer is created made from the loss functions created earlier. We want to minimise this loss but maximize score.\n",
    "fn_loss = make_scorer(false_Negative_Loss, greater_is_better=False)\n",
    "tp_score = make_scorer(true_Positive_Score, greater_is_better=True)"
   ]
  },
  {
   "cell_type": "markdown",
   "metadata": {},
   "source": [
    "A false negative has a 20% higher impact (in terms of cost) for the company. Therefore we should incorporate this when calculating a mix loss function with both the false negative and true positive rate. This means our algorithm wants to try predict positive when possible."
   ]
  },
  {
   "cell_type": "code",
   "execution_count": 78,
   "metadata": {
    "collapsed": true
   },
   "outputs": [],
   "source": [
    "def mixed_Loss(y_truth, y_pred):\n",
    "    '''Computes the False/True Negative and False/True Positive rate and returns a mixed loss function.'''\n",
    "    fn = confusion_matrix(y_truth, y_pred)[1, 0]\n",
    "    tp = confusion_matrix(y_truth, y_pred)[1, 1]\n",
    "    fp = confusion_matrix(y_truth, y_pred)[0, 1]\n",
    "    mixed_rate = (-11.5*tp) + (14*fn) - (2.5*fp)\n",
    "    return mixed_rate\n",
    "\n",
    "mixed_score = make_scorer(mixed_Loss, greater_is_better=False)"
   ]
  },
  {
   "cell_type": "markdown",
   "metadata": {},
   "source": [
    "#### Model Building"
   ]
  },
  {
   "cell_type": "markdown",
   "metadata": {},
   "source": [
    "We can evaluate how each of our model performs from a confusion matrix.\n",
    "https://machinelearningmastery.com/metrics-evaluate-machine-learning-algorithms-python/"
   ]
  },
  {
   "cell_type": "code",
   "execution_count": 13,
   "metadata": {
    "collapsed": true
   },
   "outputs": [],
   "source": [
    "def getResultTable(rows, predictions):\n",
    "    '''Generates a table highlighting the results of each model.'''\n",
    "    columns=['Accuracy for No', 'Accuracy for Yes', 'Overall Accuracy']\n",
    "    results=pd.DataFrame(0.0, columns=columns, index=rows)\n",
    "    for row,pred in zip(range(0,len(rows)),predictions):\n",
    "        matrix = confusion_matrix(y_test, pred)\n",
    "        results.iloc[row,0] = (matrix[0][0]/(matrix[0][0]+matrix[1][0]))\n",
    "        results.iloc[row,1] = (matrix[1][1]/(matrix[0][1]+matrix[1][1]))\n",
    "        results.iloc[row,2] = (accuracy_score(y_test, pred))\n",
    "    return results.round(3)"
   ]
  },
  {
   "cell_type": "markdown",
   "metadata": {},
   "source": [
    "# Hyperparameter Tuning"
   ]
  },
  {
   "cell_type": "markdown",
   "metadata": {},
   "source": [
    "First we try to tune the hyperparameter in our models, we use this package called randomizedsearchcv. It randomly chooses hyperparameters for each model (rather than try all possible ones) in order to save computation time.\n",
    "\n",
    "This allows us to try out different hyperparameters.\n",
    "\n",
    "http://scikit-learn.org/stable/modules/generated/sklearn.model_selection.RandomizedSearchCV.html#sklearn.model_selection.RandomizedSearchCV"
   ]
  },
  {
   "cell_type": "code",
   "execution_count": 197,
   "metadata": {},
   "outputs": [],
   "source": [
    "models = []\n",
    "modelname = []\n",
    "models_tp = []\n",
    "models_fn = []\n",
    "\n",
    "comb_models = [models,models_tp,models_fn]"
   ]
  },
  {
   "cell_type": "markdown",
   "metadata": {},
   "source": [
    "Furthermore, we tune our models with different loss/score functions in mind in order to see which one gives us the best overall results. We also use the accuracy score too in order for us to have a benchmark model as well for our defined loss/score functions to be evaluated agaisnt."
   ]
  },
  {
   "cell_type": "code",
   "execution_count": 198,
   "metadata": {
    "collapsed": true
   },
   "outputs": [],
   "source": [
    "scores_metric = ['accuracy',fn_loss,tp_score]\n",
    "scoresname = [' Accuracy',' FN_loss',' tp_score']"
   ]
  },
  {
   "cell_type": "markdown",
   "metadata": {},
   "source": [
    "### KNN"
   ]
  },
  {
   "cell_type": "markdown",
   "metadata": {},
   "source": [
    "We begin with KNN with inspiration from:\n",
    "\n",
    "http://www.ritchieng.com/machine-learning-efficiently-search-tuning-param/"
   ]
  },
  {
   "cell_type": "code",
   "execution_count": 199,
   "metadata": {
    "collapsed": true
   },
   "outputs": [],
   "source": [
    "#Try setting from 1 - 25 neighbors\n",
    "k_range = range(1, 25)\n",
    "# we create a list. This allows us to see whether we should weigh all neighbours equally or weigh closer ones more\n",
    "weight_options = ['uniform', 'distance']"
   ]
  },
  {
   "cell_type": "code",
   "execution_count": 200,
   "metadata": {},
   "outputs": [],
   "source": [
    "#Creating the objects necessary for us to try cross-validation in order to locate best hyperparameters\n",
    "param_dist = dict(n_neighbors=k_range, weights=weight_options)\n",
    "\n",
    "for score, model_list,name in zip(scores_metric,comb_models,scoresname):\n",
    "    '''Train cross-validation with 3 different loss functions. Then we store object into list and respective names.'''\n",
    "    knn = KNeighborsClassifier()\n",
    "    rand = RandomizedSearchCV(knn, param_dist, cv=10, scoring=score, n_iter=10, random_state=5)\n",
    "    #Fitting the model and testing out random hyperparameters. This saves on computation time\n",
    "    knnopt = rand.fit(x_train, y_train)\n",
    "    modelname.append('KNN' + name)\n",
    "    model_list.append(knnopt)"
   ]
  },
  {
   "cell_type": "markdown",
   "metadata": {},
   "source": [
    "Best hyperparameters for KNN involves 4 neighbours and having uniform neighbours"
   ]
  },
  {
   "cell_type": "code",
   "execution_count": 169,
   "metadata": {},
   "outputs": [],
   "source": [
    "#Now constructing a graph for this\n",
    "k_range = range(1, 25)\n",
    "\n",
    "# list of scores from k_range\n",
    "k_scores = []\n",
    "\n",
    "# 1. we will loop through reasonable values of k\n",
    "for k in k_range:\n",
    "    # 2. run KNeighborsClassifier with k neighbours\n",
    "    knn = KNeighborsClassifier(n_neighbors=k, weights = 'uniform')\n",
    "    # 3. obtain cross_val_score for KNeighborsClassifier with k neighbours\n",
    "    scores = cross_val_score(knn, x_train, y_train, cv=10, scoring='accuracy')\n",
    "    # 4. append mean of scores for k neighbors to k_scores list\n",
    "    k_scores.append(scores.mean())"
   ]
  },
  {
   "cell_type": "code",
   "execution_count": 170,
   "metadata": {},
   "outputs": [
    {
     "data": {
      "text/plain": [
       "<matplotlib.text.Text at 0x11ddfc198>"
      ]
     },
     "execution_count": 170,
     "metadata": {},
     "output_type": "execute_result"
    },
    {
     "data": {
      "image/png": "[encoded data removed]",
      "text/plain": [
       "<matplotlib.figure.Figure at 0x11dcb77f0>"
      ]
     },
     "metadata": {},
     "output_type": "display_data"
    }
   ],
   "source": [
    "# plot the value of K for KNN (x-axis) versus the cross-validated accuracy (y-axis)\n",
    "plt.plot(k_range, k_scores)\n",
    "plt.xlabel('Value of K for KNN')\n",
    "plt.ylabel('Cross-Validated Accuracy')\n",
    "plt.title('Neighbours vs Cross-validation Accuracy')"
   ]
  },
  {
   "cell_type": "markdown",
   "metadata": {},
   "source": [
    "We can see that increasing number of neighbours improves accuracy. However, we need to be wary of this as eventually accuracy falls."
   ]
  },
  {
   "cell_type": "markdown",
   "metadata": {},
   "source": [
    "#### Decision Tree"
   ]
  },
  {
   "cell_type": "code",
   "execution_count": 201,
   "metadata": {},
   "outputs": [],
   "source": [
    "# Setup the parameters and distributions to sample from: param_dist\n",
    "param_dist = {\"max_depth\": [3, None],\n",
    "              \"max_features\": range(1, 9),\n",
    "              \"min_samples_leaf\": range(1, 9),\n",
    "              \"criterion\": [\"gini\", \"entropy\"]}\n",
    "\n",
    "for score, model_list,name in zip(scores_metric,comb_models,scoresname):\n",
    "    '''Train cross-validation with 3 different loss functions. Then we store object into list and respective names.'''\n",
    "    # Instantiate a Decision Tree classifier:\n",
    "    tree = DecisionTreeClassifier()    \n",
    "    # Instantiate the RandomizedSearchCV object:\n",
    "    tree_cv = RandomizedSearchCV(tree,param_dist, cv=10, scoring=score, n_iter=10, random_state=5)\n",
    "    treeopt = tree_cv.fit(x_train, y_train)\n",
    "    treeopt = treeopt.fit(x_train, y_train)\n",
    "    modelname.append('Decision Tree' + name)\n",
    "    model_list.append(treeopt)"
   ]
  },
  {
   "cell_type": "code",
   "execution_count": 202,
   "metadata": {},
   "outputs": [],
   "source": [
    "#Now constructing a graph for this\n",
    "tree_range = range(2, 10)\n",
    "\n",
    "# list of scores from t_range\n",
    "t_scores = []\n",
    "# 1. we will loop through reasonable values of k\n",
    "for k in tree_range:\n",
    "    # 2. run Decision tree with different value for depth of tree\n",
    "    tree = DecisionTreeClassifier(max_depth = k, criterion='entropy', max_features = 8, max_leaf_nodes = None )\n",
    "    # 3. obtain cross_val_score for Decision tree with depth of k\n",
    "    scores = cross_val_score(tree, x_train, y_train, cv=10, scoring='accuracy')\n",
    "    # 4. append mean of scores for decision tree to t_scores list\n",
    "    t_scores.append(scores.mean())"
   ]
  },
  {
   "cell_type": "code",
   "execution_count": 203,
   "metadata": {},
   "outputs": [
    {
     "data": {
      "text/plain": [
       "<matplotlib.text.Text at 0x11ba1a7f0>"
      ]
     },
     "execution_count": 203,
     "metadata": {},
     "output_type": "execute_result"
    },
    {
     "data": {
      "image/png": "[encoded data removed]",
      "text/plain": [
       "<matplotlib.figure.Figure at 0x11b9cdb38>"
      ]
     },
     "metadata": {},
     "output_type": "display_data"
    }
   ],
   "source": [
    "# plot the value of Depth for Decision Tree(x-axis) versus the cross-validated accuracy (y-axis)\n",
    "plt.plot(k_range, k_scores)\n",
    "plt.xlabel('Value of Depth for Decision Tree')\n",
    "plt.ylabel('Cross-Validated Accuracy')\n",
    "plt.title('Depth vs Cross-validation Accuracy')"
   ]
  },
  {
   "cell_type": "markdown",
   "metadata": {
    "collapsed": true
   },
   "source": [
    "Similar interpretation to KNN graph."
   ]
  },
  {
   "cell_type": "markdown",
   "metadata": {},
   "source": [
    "### Random Forest"
   ]
  },
  {
   "cell_type": "code",
   "execution_count": 174,
   "metadata": {
    "collapsed": true
   },
   "outputs": [],
   "source": [
    "# Setup the parameters and distributions to sample from: param_dist\n",
    "param_dist = {\"n_estimators\": range(5,15),\n",
    "              \"max_depth\": [3, None],\n",
    "              \"max_features\": range(1, 9),\n",
    "              \"min_samples_split\": range(2,5),\n",
    "              \"min_samples_leaf\": range(1, 9),\n",
    "              }\n",
    "\n",
    "for score, model_list,name in zip(scores_metric,comb_models,scoresname):\n",
    "    '''Train cross-validation with 3 different loss functions. Then we store object into list and respective names.'''\n",
    "    # Instantiate a Extremely Random Forest classifier:\n",
    "    randFor = RandomForestClassifier()\n",
    "    # Instantiate the RandomizedSearchCV object:\n",
    "    randFor_cv = RandomizedSearchCV(randFor,param_dist, cv=10, scoring=score, n_iter=10, random_state=5)\n",
    "    optrand = randFor_cv.fit(x_train, y_train)\n",
    "    optrand = optrand.fit(x_train, y_train)\n",
    "    modelname.append('Random Forest' + name)\n",
    "    model_list.append(optrand)"
   ]
  },
  {
   "cell_type": "markdown",
   "metadata": {},
   "source": [
    "### Logistic Regression"
   ]
  },
  {
   "cell_type": "code",
   "execution_count": 175,
   "metadata": {},
   "outputs": [
    {
     "ename": "KeyboardInterrupt",
     "evalue": "",
     "output_type": "error",
     "traceback": [
      "\u001b[0;31m---------------------------------------------------------------------------\u001b[0m",
      "\u001b[0;31mKeyboardInterrupt\u001b[0m                         Traceback (most recent call last)",
      "\u001b[0;32m<ipython-input-175-0c2840b6223a>\u001b[0m in \u001b[0;36m<module>\u001b[0;34m()\u001b[0m\n\u001b[1;32m     14\u001b[0m     \u001b[0;31m# Instantiate a logit model:\u001b[0m\u001b[0;34m\u001b[0m\u001b[0;34m\u001b[0m\u001b[0m\n\u001b[1;32m     15\u001b[0m     \u001b[0mlogit_l1\u001b[0m \u001b[0;34m=\u001b[0m \u001b[0mLogisticRegressionCV\u001b[0m\u001b[0;34m(\u001b[0m\u001b[0mpenalty\u001b[0m\u001b[0;34m=\u001b[0m\u001b[0;34m'l1'\u001b[0m\u001b[0;34m,\u001b[0m \u001b[0msolver\u001b[0m\u001b[0;34m=\u001b[0m\u001b[0;34m'liblinear'\u001b[0m\u001b[0;34m,\u001b[0m \u001b[0mcv\u001b[0m\u001b[0;34m=\u001b[0m\u001b[0;36m10\u001b[0m\u001b[0;34m,\u001b[0m \u001b[0mscoring\u001b[0m\u001b[0;34m=\u001b[0m\u001b[0mscore\u001b[0m\u001b[0;34m)\u001b[0m\u001b[0;34m\u001b[0m\u001b[0m\n\u001b[0;32m---> 16\u001b[0;31m     \u001b[0mlogit_l1\u001b[0m \u001b[0;34m=\u001b[0m \u001b[0mlogit_l1\u001b[0m\u001b[0;34m.\u001b[0m\u001b[0mfit\u001b[0m\u001b[0;34m(\u001b[0m\u001b[0mx_train\u001b[0m\u001b[0;34m,\u001b[0m \u001b[0my_train\u001b[0m\u001b[0;34m)\u001b[0m\u001b[0;34m\u001b[0m\u001b[0m\n\u001b[0m\u001b[1;32m     17\u001b[0m     \u001b[0mmodelname\u001b[0m\u001b[0;34m.\u001b[0m\u001b[0mappend\u001b[0m\u001b[0;34m(\u001b[0m\u001b[0;34m'Logit L1'\u001b[0m \u001b[0;34m+\u001b[0m \u001b[0mname\u001b[0m\u001b[0;34m)\u001b[0m\u001b[0;34m\u001b[0m\u001b[0m\n\u001b[1;32m     18\u001b[0m     \u001b[0mmodel_list\u001b[0m\u001b[0;34m.\u001b[0m\u001b[0mappend\u001b[0m\u001b[0;34m(\u001b[0m\u001b[0mlogit_l1\u001b[0m\u001b[0;34m)\u001b[0m\u001b[0;34m\u001b[0m\u001b[0m\n",
      "\u001b[0;32m/Users/ChristopherHyland/anaconda/lib/python3.6/site-packages/sklearn/linear_model/logistic.py\u001b[0m in \u001b[0;36mfit\u001b[0;34m(self, X, y, sample_weight)\u001b[0m\n\u001b[1;32m   1685\u001b[0m                       \u001b[0msample_weight\u001b[0m\u001b[0;34m=\u001b[0m\u001b[0msample_weight\u001b[0m\u001b[0;34m\u001b[0m\u001b[0m\n\u001b[1;32m   1686\u001b[0m                       )\n\u001b[0;32m-> 1687\u001b[0;31m             \u001b[0;32mfor\u001b[0m \u001b[0mlabel\u001b[0m \u001b[0;32min\u001b[0m \u001b[0miter_encoded_labels\u001b[0m\u001b[0;34m\u001b[0m\u001b[0m\n\u001b[0m\u001b[1;32m   1688\u001b[0m             for train, test in folds)\n\u001b[1;32m   1689\u001b[0m \u001b[0;34m\u001b[0m\u001b[0m\n",
      "\u001b[0;32m/Users/ChristopherHyland/anaconda/lib/python3.6/site-packages/sklearn/externals/joblib/parallel.py\u001b[0m in \u001b[0;36m__call__\u001b[0;34m(self, iterable)\u001b[0m\n\u001b[1;32m    777\u001b[0m             \u001b[0;31m# was dispatched. In particular this covers the edge\u001b[0m\u001b[0;34m\u001b[0m\u001b[0;34m\u001b[0m\u001b[0m\n\u001b[1;32m    778\u001b[0m             \u001b[0;31m# case of Parallel used with an exhausted iterator.\u001b[0m\u001b[0;34m\u001b[0m\u001b[0;34m\u001b[0m\u001b[0m\n\u001b[0;32m--> 779\u001b[0;31m             \u001b[0;32mwhile\u001b[0m \u001b[0mself\u001b[0m\u001b[0;34m.\u001b[0m\u001b[0mdispatch_one_batch\u001b[0m\u001b[0;34m(\u001b[0m\u001b[0miterator\u001b[0m\u001b[0;34m)\u001b[0m\u001b[0;34m:\u001b[0m\u001b[0;34m\u001b[0m\u001b[0m\n\u001b[0m\u001b[1;32m    780\u001b[0m                 \u001b[0mself\u001b[0m\u001b[0;34m.\u001b[0m\u001b[0m_iterating\u001b[0m \u001b[0;34m=\u001b[0m \u001b[0;32mTrue\u001b[0m\u001b[0;34m\u001b[0m\u001b[0m\n\u001b[1;32m    781\u001b[0m             \u001b[0;32melse\u001b[0m\u001b[0;34m:\u001b[0m\u001b[0;34m\u001b[0m\u001b[0m\n",
      "\u001b[0;32m/Users/ChristopherHyland/anaconda/lib/python3.6/site-packages/sklearn/externals/joblib/parallel.py\u001b[0m in \u001b[0;36mdispatch_one_batch\u001b[0;34m(self, iterator)\u001b[0m\n\u001b[1;32m    623\u001b[0m                 \u001b[0;32mreturn\u001b[0m \u001b[0;32mFalse\u001b[0m\u001b[0;34m\u001b[0m\u001b[0m\n\u001b[1;32m    624\u001b[0m             \u001b[0;32melse\u001b[0m\u001b[0;34m:\u001b[0m\u001b[0;34m\u001b[0m\u001b[0m\n\u001b[0;32m--> 625\u001b[0;31m                 \u001b[0mself\u001b[0m\u001b[0;34m.\u001b[0m\u001b[0m_dispatch\u001b[0m\u001b[0;34m(\u001b[0m\u001b[0mtasks\u001b[0m\u001b[0;34m)\u001b[0m\u001b[0;34m\u001b[0m\u001b[0m\n\u001b[0m\u001b[1;32m    626\u001b[0m                 \u001b[0;32mreturn\u001b[0m \u001b[0;32mTrue\u001b[0m\u001b[0;34m\u001b[0m\u001b[0m\n\u001b[1;32m    627\u001b[0m \u001b[0;34m\u001b[0m\u001b[0m\n",
      "\u001b[0;32m/Users/ChristopherHyland/anaconda/lib/python3.6/site-packages/sklearn/externals/joblib/parallel.py\u001b[0m in \u001b[0;36m_dispatch\u001b[0;34m(self, batch)\u001b[0m\n\u001b[1;32m    586\u001b[0m         \u001b[0mdispatch_timestamp\u001b[0m \u001b[0;34m=\u001b[0m \u001b[0mtime\u001b[0m\u001b[0;34m.\u001b[0m\u001b[0mtime\u001b[0m\u001b[0;34m(\u001b[0m\u001b[0;34m)\u001b[0m\u001b[0;34m\u001b[0m\u001b[0m\n\u001b[1;32m    587\u001b[0m         \u001b[0mcb\u001b[0m \u001b[0;34m=\u001b[0m \u001b[0mBatchCompletionCallBack\u001b[0m\u001b[0;34m(\u001b[0m\u001b[0mdispatch_timestamp\u001b[0m\u001b[0;34m,\u001b[0m \u001b[0mlen\u001b[0m\u001b[0;34m(\u001b[0m\u001b[0mbatch\u001b[0m\u001b[0;34m)\u001b[0m\u001b[0;34m,\u001b[0m \u001b[0mself\u001b[0m\u001b[0;34m)\u001b[0m\u001b[0;34m\u001b[0m\u001b[0m\n\u001b[0;32m--> 588\u001b[0;31m         \u001b[0mjob\u001b[0m \u001b[0;34m=\u001b[0m \u001b[0mself\u001b[0m\u001b[0;34m.\u001b[0m\u001b[0m_backend\u001b[0m\u001b[0;34m.\u001b[0m\u001b[0mapply_async\u001b[0m\u001b[0;34m(\u001b[0m\u001b[0mbatch\u001b[0m\u001b[0;34m,\u001b[0m \u001b[0mcallback\u001b[0m\u001b[0;34m=\u001b[0m\u001b[0mcb\u001b[0m\u001b[0;34m)\u001b[0m\u001b[0;34m\u001b[0m\u001b[0m\n\u001b[0m\u001b[1;32m    589\u001b[0m         \u001b[0mself\u001b[0m\u001b[0;34m.\u001b[0m\u001b[0m_jobs\u001b[0m\u001b[0;34m.\u001b[0m\u001b[0mappend\u001b[0m\u001b[0;34m(\u001b[0m\u001b[0mjob\u001b[0m\u001b[0;34m)\u001b[0m\u001b[0;34m\u001b[0m\u001b[0m\n\u001b[1;32m    590\u001b[0m \u001b[0;34m\u001b[0m\u001b[0m\n",
      "\u001b[0;32m/Users/ChristopherHyland/anaconda/lib/python3.6/site-packages/sklearn/externals/joblib/_parallel_backends.py\u001b[0m in \u001b[0;36mapply_async\u001b[0;34m(self, func, callback)\u001b[0m\n\u001b[1;32m    109\u001b[0m     \u001b[0;32mdef\u001b[0m \u001b[0mapply_async\u001b[0m\u001b[0;34m(\u001b[0m\u001b[0mself\u001b[0m\u001b[0;34m,\u001b[0m \u001b[0mfunc\u001b[0m\u001b[0;34m,\u001b[0m \u001b[0mcallback\u001b[0m\u001b[0;34m=\u001b[0m\u001b[0;32mNone\u001b[0m\u001b[0;34m)\u001b[0m\u001b[0;34m:\u001b[0m\u001b[0;34m\u001b[0m\u001b[0m\n\u001b[1;32m    110\u001b[0m         \u001b[0;34m\"\"\"Schedule a func to be run\"\"\"\u001b[0m\u001b[0;34m\u001b[0m\u001b[0m\n\u001b[0;32m--> 111\u001b[0;31m         \u001b[0mresult\u001b[0m \u001b[0;34m=\u001b[0m \u001b[0mImmediateResult\u001b[0m\u001b[0;34m(\u001b[0m\u001b[0mfunc\u001b[0m\u001b[0;34m)\u001b[0m\u001b[0;34m\u001b[0m\u001b[0m\n\u001b[0m\u001b[1;32m    112\u001b[0m         \u001b[0;32mif\u001b[0m \u001b[0mcallback\u001b[0m\u001b[0;34m:\u001b[0m\u001b[0;34m\u001b[0m\u001b[0m\n\u001b[1;32m    113\u001b[0m             \u001b[0mcallback\u001b[0m\u001b[0;34m(\u001b[0m\u001b[0mresult\u001b[0m\u001b[0;34m)\u001b[0m\u001b[0;34m\u001b[0m\u001b[0m\n",
      "\u001b[0;32m/Users/ChristopherHyland/anaconda/lib/python3.6/site-packages/sklearn/externals/joblib/_parallel_backends.py\u001b[0m in \u001b[0;36m__init__\u001b[0;34m(self, batch)\u001b[0m\n\u001b[1;32m    330\u001b[0m         \u001b[0;31m# Don't delay the application, to avoid keeping the input\u001b[0m\u001b[0;34m\u001b[0m\u001b[0;34m\u001b[0m\u001b[0m\n\u001b[1;32m    331\u001b[0m         \u001b[0;31m# arguments in memory\u001b[0m\u001b[0;34m\u001b[0m\u001b[0;34m\u001b[0m\u001b[0m\n\u001b[0;32m--> 332\u001b[0;31m         \u001b[0mself\u001b[0m\u001b[0;34m.\u001b[0m\u001b[0mresults\u001b[0m \u001b[0;34m=\u001b[0m \u001b[0mbatch\u001b[0m\u001b[0;34m(\u001b[0m\u001b[0;34m)\u001b[0m\u001b[0;34m\u001b[0m\u001b[0m\n\u001b[0m\u001b[1;32m    333\u001b[0m \u001b[0;34m\u001b[0m\u001b[0m\n\u001b[1;32m    334\u001b[0m     \u001b[0;32mdef\u001b[0m \u001b[0mget\u001b[0m\u001b[0;34m(\u001b[0m\u001b[0mself\u001b[0m\u001b[0;34m)\u001b[0m\u001b[0;34m:\u001b[0m\u001b[0;34m\u001b[0m\u001b[0m\n",
      "\u001b[0;32m/Users/ChristopherHyland/anaconda/lib/python3.6/site-packages/sklearn/externals/joblib/parallel.py\u001b[0m in \u001b[0;36m__call__\u001b[0;34m(self)\u001b[0m\n\u001b[1;32m    129\u001b[0m \u001b[0;34m\u001b[0m\u001b[0m\n\u001b[1;32m    130\u001b[0m     \u001b[0;32mdef\u001b[0m \u001b[0m__call__\u001b[0m\u001b[0;34m(\u001b[0m\u001b[0mself\u001b[0m\u001b[0;34m)\u001b[0m\u001b[0;34m:\u001b[0m\u001b[0;34m\u001b[0m\u001b[0m\n\u001b[0;32m--> 131\u001b[0;31m         \u001b[0;32mreturn\u001b[0m \u001b[0;34m[\u001b[0m\u001b[0mfunc\u001b[0m\u001b[0;34m(\u001b[0m\u001b[0;34m*\u001b[0m\u001b[0margs\u001b[0m\u001b[0;34m,\u001b[0m \u001b[0;34m**\u001b[0m\u001b[0mkwargs\u001b[0m\u001b[0;34m)\u001b[0m \u001b[0;32mfor\u001b[0m \u001b[0mfunc\u001b[0m\u001b[0;34m,\u001b[0m \u001b[0margs\u001b[0m\u001b[0;34m,\u001b[0m \u001b[0mkwargs\u001b[0m \u001b[0;32min\u001b[0m \u001b[0mself\u001b[0m\u001b[0;34m.\u001b[0m\u001b[0mitems\u001b[0m\u001b[0;34m]\u001b[0m\u001b[0;34m\u001b[0m\u001b[0m\n\u001b[0m\u001b[1;32m    132\u001b[0m \u001b[0;34m\u001b[0m\u001b[0m\n\u001b[1;32m    133\u001b[0m     \u001b[0;32mdef\u001b[0m \u001b[0m__len__\u001b[0m\u001b[0;34m(\u001b[0m\u001b[0mself\u001b[0m\u001b[0;34m)\u001b[0m\u001b[0;34m:\u001b[0m\u001b[0;34m\u001b[0m\u001b[0m\n",
      "\u001b[0;32m/Users/ChristopherHyland/anaconda/lib/python3.6/site-packages/sklearn/externals/joblib/parallel.py\u001b[0m in \u001b[0;36m<listcomp>\u001b[0;34m(.0)\u001b[0m\n\u001b[1;32m    129\u001b[0m \u001b[0;34m\u001b[0m\u001b[0m\n\u001b[1;32m    130\u001b[0m     \u001b[0;32mdef\u001b[0m \u001b[0m__call__\u001b[0m\u001b[0;34m(\u001b[0m\u001b[0mself\u001b[0m\u001b[0;34m)\u001b[0m\u001b[0;34m:\u001b[0m\u001b[0;34m\u001b[0m\u001b[0m\n\u001b[0;32m--> 131\u001b[0;31m         \u001b[0;32mreturn\u001b[0m \u001b[0;34m[\u001b[0m\u001b[0mfunc\u001b[0m\u001b[0;34m(\u001b[0m\u001b[0;34m*\u001b[0m\u001b[0margs\u001b[0m\u001b[0;34m,\u001b[0m \u001b[0;34m**\u001b[0m\u001b[0mkwargs\u001b[0m\u001b[0;34m)\u001b[0m \u001b[0;32mfor\u001b[0m \u001b[0mfunc\u001b[0m\u001b[0;34m,\u001b[0m \u001b[0margs\u001b[0m\u001b[0;34m,\u001b[0m \u001b[0mkwargs\u001b[0m \u001b[0;32min\u001b[0m \u001b[0mself\u001b[0m\u001b[0;34m.\u001b[0m\u001b[0mitems\u001b[0m\u001b[0;34m]\u001b[0m\u001b[0;34m\u001b[0m\u001b[0m\n\u001b[0m\u001b[1;32m    132\u001b[0m \u001b[0;34m\u001b[0m\u001b[0m\n\u001b[1;32m    133\u001b[0m     \u001b[0;32mdef\u001b[0m \u001b[0m__len__\u001b[0m\u001b[0;34m(\u001b[0m\u001b[0mself\u001b[0m\u001b[0;34m)\u001b[0m\u001b[0;34m:\u001b[0m\u001b[0;34m\u001b[0m\u001b[0m\n",
      "\u001b[0;32m/Users/ChristopherHyland/anaconda/lib/python3.6/site-packages/sklearn/linear_model/logistic.py\u001b[0m in \u001b[0;36m_log_reg_scoring_path\u001b[0;34m(X, y, train, test, pos_class, Cs, scoring, fit_intercept, max_iter, tol, class_weight, verbose, solver, penalty, dual, intercept_scaling, multi_class, random_state, max_squared_sum, sample_weight)\u001b[0m\n\u001b[1;32m    921\u001b[0m         \u001b[0mintercept_scaling\u001b[0m\u001b[0;34m=\u001b[0m\u001b[0mintercept_scaling\u001b[0m\u001b[0;34m,\u001b[0m \u001b[0mrandom_state\u001b[0m\u001b[0;34m=\u001b[0m\u001b[0mrandom_state\u001b[0m\u001b[0;34m,\u001b[0m\u001b[0;34m\u001b[0m\u001b[0m\n\u001b[1;32m    922\u001b[0m         \u001b[0mcheck_input\u001b[0m\u001b[0;34m=\u001b[0m\u001b[0;32mFalse\u001b[0m\u001b[0;34m,\u001b[0m \u001b[0mmax_squared_sum\u001b[0m\u001b[0;34m=\u001b[0m\u001b[0mmax_squared_sum\u001b[0m\u001b[0;34m,\u001b[0m\u001b[0;34m\u001b[0m\u001b[0m\n\u001b[0;32m--> 923\u001b[0;31m         sample_weight=sample_weight)\n\u001b[0m\u001b[1;32m    924\u001b[0m \u001b[0;34m\u001b[0m\u001b[0m\n\u001b[1;32m    925\u001b[0m     \u001b[0mlog_reg\u001b[0m \u001b[0;34m=\u001b[0m \u001b[0mLogisticRegression\u001b[0m\u001b[0;34m(\u001b[0m\u001b[0mfit_intercept\u001b[0m\u001b[0;34m=\u001b[0m\u001b[0mfit_intercept\u001b[0m\u001b[0;34m)\u001b[0m\u001b[0;34m\u001b[0m\u001b[0m\n",
      "\u001b[0;32m/Users/ChristopherHyland/anaconda/lib/python3.6/site-packages/sklearn/linear_model/logistic.py\u001b[0m in \u001b[0;36mlogistic_regression_path\u001b[0;34m(X, y, pos_class, Cs, fit_intercept, max_iter, tol, verbose, solver, coef, class_weight, dual, penalty, intercept_scaling, multi_class, random_state, check_input, max_squared_sum, sample_weight)\u001b[0m\n\u001b[1;32m    730\u001b[0m                 \u001b[0mX\u001b[0m\u001b[0;34m,\u001b[0m \u001b[0mtarget\u001b[0m\u001b[0;34m,\u001b[0m \u001b[0mC\u001b[0m\u001b[0;34m,\u001b[0m \u001b[0mfit_intercept\u001b[0m\u001b[0;34m,\u001b[0m \u001b[0mintercept_scaling\u001b[0m\u001b[0;34m,\u001b[0m \u001b[0;32mNone\u001b[0m\u001b[0;34m,\u001b[0m\u001b[0;34m\u001b[0m\u001b[0m\n\u001b[1;32m    731\u001b[0m                 \u001b[0mpenalty\u001b[0m\u001b[0;34m,\u001b[0m \u001b[0mdual\u001b[0m\u001b[0;34m,\u001b[0m \u001b[0mverbose\u001b[0m\u001b[0;34m,\u001b[0m \u001b[0mmax_iter\u001b[0m\u001b[0;34m,\u001b[0m \u001b[0mtol\u001b[0m\u001b[0;34m,\u001b[0m \u001b[0mrandom_state\u001b[0m\u001b[0;34m,\u001b[0m\u001b[0;34m\u001b[0m\u001b[0m\n\u001b[0;32m--> 732\u001b[0;31m                 sample_weight=sample_weight)\n\u001b[0m\u001b[1;32m    733\u001b[0m             \u001b[0;32mif\u001b[0m \u001b[0mfit_intercept\u001b[0m\u001b[0;34m:\u001b[0m\u001b[0;34m\u001b[0m\u001b[0m\n\u001b[1;32m    734\u001b[0m                 \u001b[0mw0\u001b[0m \u001b[0;34m=\u001b[0m \u001b[0mnp\u001b[0m\u001b[0;34m.\u001b[0m\u001b[0mconcatenate\u001b[0m\u001b[0;34m(\u001b[0m\u001b[0;34m[\u001b[0m\u001b[0mcoef_\u001b[0m\u001b[0;34m.\u001b[0m\u001b[0mravel\u001b[0m\u001b[0;34m(\u001b[0m\u001b[0;34m)\u001b[0m\u001b[0;34m,\u001b[0m \u001b[0mintercept_\u001b[0m\u001b[0;34m]\u001b[0m\u001b[0;34m)\u001b[0m\u001b[0;34m\u001b[0m\u001b[0m\n",
      "\u001b[0;32m/Users/ChristopherHyland/anaconda/lib/python3.6/site-packages/sklearn/svm/base.py\u001b[0m in \u001b[0;36m_fit_liblinear\u001b[0;34m(X, y, C, fit_intercept, intercept_scaling, class_weight, penalty, dual, verbose, max_iter, tol, random_state, multi_class, loss, epsilon, sample_weight)\u001b[0m\n\u001b[1;32m    888\u001b[0m         \u001b[0mX\u001b[0m\u001b[0;34m,\u001b[0m \u001b[0my_ind\u001b[0m\u001b[0;34m,\u001b[0m \u001b[0msp\u001b[0m\u001b[0;34m.\u001b[0m\u001b[0misspmatrix\u001b[0m\u001b[0;34m(\u001b[0m\u001b[0mX\u001b[0m\u001b[0;34m)\u001b[0m\u001b[0;34m,\u001b[0m \u001b[0msolver_type\u001b[0m\u001b[0;34m,\u001b[0m \u001b[0mtol\u001b[0m\u001b[0;34m,\u001b[0m \u001b[0mbias\u001b[0m\u001b[0;34m,\u001b[0m \u001b[0mC\u001b[0m\u001b[0;34m,\u001b[0m\u001b[0;34m\u001b[0m\u001b[0m\n\u001b[1;32m    889\u001b[0m         \u001b[0mclass_weight_\u001b[0m\u001b[0;34m,\u001b[0m \u001b[0mmax_iter\u001b[0m\u001b[0;34m,\u001b[0m \u001b[0mrnd\u001b[0m\u001b[0;34m.\u001b[0m\u001b[0mrandint\u001b[0m\u001b[0;34m(\u001b[0m\u001b[0mnp\u001b[0m\u001b[0;34m.\u001b[0m\u001b[0miinfo\u001b[0m\u001b[0;34m(\u001b[0m\u001b[0;34m'i'\u001b[0m\u001b[0;34m)\u001b[0m\u001b[0;34m.\u001b[0m\u001b[0mmax\u001b[0m\u001b[0;34m)\u001b[0m\u001b[0;34m,\u001b[0m\u001b[0;34m\u001b[0m\u001b[0m\n\u001b[0;32m--> 890\u001b[0;31m         epsilon, sample_weight)\n\u001b[0m\u001b[1;32m    891\u001b[0m     \u001b[0;31m# Regarding rnd.randint(..) in the above signature:\u001b[0m\u001b[0;34m\u001b[0m\u001b[0;34m\u001b[0m\u001b[0m\n\u001b[1;32m    892\u001b[0m     \u001b[0;31m# seed for srand in range [0..INT_MAX); due to limitations in Numpy\u001b[0m\u001b[0;34m\u001b[0m\u001b[0;34m\u001b[0m\u001b[0m\n",
      "\u001b[0;31mKeyboardInterrupt\u001b[0m: "
     ]
    }
   ],
   "source": [
    "from sklearn.linear_model import LogisticRegressionCV\n",
    "#Logistic regression\n",
    "for score, model_list,name in zip(scores_metric,comb_models,scoresname):\n",
    "    '''Train cross-validation with 3 different loss functions. Then we store object into list and respective names.'''\n",
    "    # Instantiate a logit model:\n",
    "    logit = LogisticRegressionCV(cv=10, scoring=score)\n",
    "    logit = logit.fit(x_train, y_train)\n",
    "    modelname.append('Logit' + name)\n",
    "    model_list.append(logit)\n",
    "\n",
    "#Logistic regression with l1 pentalty\n",
    "for score, model_list,name in zip(scores_metric,comb_models,scoresname):\n",
    "    '''Train cross-validation with 3 different loss functions. Then we store object into list and respective names.'''\n",
    "    # Instantiate a logit model:\n",
    "    logit_l1 = LogisticRegressionCV(penalty='l1', solver='liblinear', cv=10, scoring=score)\n",
    "    logit_l1 = logit_l1.fit(x_train, y_train)\n",
    "    modelname.append('Logit L1' + name)\n",
    "    model_list.append(logit_l1)\n",
    "\n",
    "#Logistic regression with l2 pentalty\n",
    "for score, model_list,name in zip(scores_metric,comb_models,scoresname):\n",
    "    '''Train cross-validation with 3 different loss functions. Then we store object into list and respective names.'''\n",
    "    # Instantiate a logit model:\n",
    "    logit_l2 = LogisticRegressionCV(penalty='l2', solver='liblinear', cv=10, scoring=score)\n",
    "    logit_l2 = logit_l2.fit(x_train, y_train)\n",
    "    modelname.append('Logit L2' + name)\n",
    "    model_list.append(logit_l2)"
   ]
  },
  {
   "cell_type": "markdown",
   "metadata": {},
   "source": [
    "Now for some further models which we need not to worry about the hyperparameters."
   ]
  },
  {
   "cell_type": "code",
   "execution_count": 204,
   "metadata": {
    "collapsed": true
   },
   "outputs": [],
   "source": [
    "#Naive Bayes\n",
    "NaiveB = GaussianNB()\n",
    "optnb = NaiveB.fit(x_train,y_train)\n",
    "models.append(optnb)\n",
    "modelname.append('Naive Bayes')\n",
    "\n",
    "#Linear Discriminant analysis\n",
    "LDA = LinearDiscriminantAnalysis()\n",
    "optlda = LDA.fit(x_train,y_train)\n",
    "models.append(optlda)\n",
    "modelname.append('LDA')\n",
    "\n",
    "#Quadratic Discriminant analysis\n",
    "QDA = QuadraticDiscriminantAnalysis()\n",
    "optqda = QDA.fit(x_train,y_train)\n",
    "models.append(optqda)\n",
    "modelname.append('QDA')"
   ]
  },
  {
   "cell_type": "code",
   "execution_count": 239,
   "metadata": {},
   "outputs": [],
   "source": [
    "\n",
    "def getResultTable3(rows, modelsUsed,model_num):\n",
    "    '''Generates evaluation table depending on which type of models we are looking at.'''\n",
    "    names = []\n",
    "    model_obj = []\n",
    "    #Retrieves which model we want to analyse based on the score function used to calculate it:\n",
    "    if model_num ==1:\n",
    "        names = rows[0:5:3] + rows[6::1]\n",
    "    elif model_num ==2:\n",
    "        names = rows[1:5:3]\n",
    "    else:\n",
    "        names = rows[2:5:3]\n",
    "\n",
    "    #Create dataframe to store results:\n",
    "    columns=['Overall Accuracy', 'Error Rate', 'SE', 'Sensitivity(TP)', 'Specificity(TN)', \n",
    "             'Precision', 'Profit', 'Profit Per Customer', 'CI for Profit U', 'CI for Profit L']\n",
    "    results=pd.DataFrame(0.0, columns=columns, index=names)\n",
    "    #Iterate through and compute predictions for models we are looking at:\n",
    "    predictions = []\n",
    "    for clf in modelsUsed:\n",
    "        pred = clf.predict(x_test)\n",
    "        predictions.append(pred) \n",
    "        \n",
    "    for row,pred in zip(range(0,len(names)),predictions):\n",
    "        matrix = confusion_matrix(y_test, pred)\n",
    "        error_rate = 1 - (accuracy_score(y_test, pred))\n",
    "        results.iloc[row,0] = (accuracy_score(y_test, pred))\n",
    "        results.iloc[row,1] = error_rate\n",
    "        se = np.sqrt(error_rate*(1- error_rate)/len(y_test))\n",
    "        results.iloc[row,2] = se\n",
    "        results.iloc[row,3] = (matrix[1][1]/(matrix[0][1]+matrix[1][1]))\n",
    "        results.iloc[row,4] = (matrix[0][0]/(matrix[0][0]+matrix[1][0]))\n",
    "        results.iloc[row,5] =  precision_score(y_test, pred)\n",
    "        results.iloc[row,6] = (11.5*matrix[1][1]) - (14*matrix[1][0]) - (2.5*matrix[0][1])\n",
    "        results.iloc[row,7] = ((11.5*matrix[1][1]) - (14*matrix[1][0]) - (2.5*matrix[0][1]))/y_test.shape[0]\n",
    "        results.iloc[row,8] = (((11.5*matrix[1][1]) - (14*matrix[1][0]) - (2.5*matrix[0][1]))/y_test.shape[0])+(1.96*se)\n",
    "        results.iloc[row,9] = (((11.5*matrix[1][1]) - (14*matrix[1][0]) - (2.5*matrix[0][1]))/y_test.shape[0])-(1.96*se)\n",
    "\n",
    "    return results.round(3)"
   ]
  },
  {
   "cell_type": "code",
   "execution_count": 216,
   "metadata": {},
   "outputs": [],
   "source": [
    "from sklearn.metrics import accuracy_score, confusion_matrix, roc_auc_score, precision_score\n",
    "\n",
    "def getResultTable2(rows, modelsUsed,model_num):\n",
    "    '''Generates evaluation table depending on which type of models we are looking at.'''\n",
    "    names = []\n",
    "    #Retrieves which model we want to analyse based on the score function used to calculate it:\n",
    "    if model_num ==1:\n",
    "        names = rows[0:11:3] + rows[12::1]\n",
    "    elif model_num ==2:\n",
    "        names = rows[1:11:3]\n",
    "    else:\n",
    "        names = rows[2:11:3]\n",
    "        \n",
    "  \n",
    "    #Create dataframe to store results:\n",
    "    columns=['Overall Accuracy', 'Error Rate', 'SE', 'Sensitivity(TP)', 'Specificity(TN)', \n",
    "             'Precision', 'Profit', 'Profit Per Customer', 'CI for Profit U', 'CI for Profit L']\n",
    "    results=pd.DataFrame(0.0, columns=columns, index=names)\n",
    "    #Iterate through and compute predictions for models we are looking at:\n",
    "    predictions = []\n",
    "    for clf in modelsUsed:\n",
    "        pred = clf.predict(x_test)\n",
    "        predictions.append(pred) \n",
    "        \n",
    "    for row,pred in zip(range(0,len(names)),predictions):\n",
    "        matrix = confusion_matrix(y_test, pred)\n",
    "        error_rate = 1 - (accuracy_score(y_test, pred))\n",
    "        results.iloc[row,0] = (accuracy_score(y_test, pred))\n",
    "        results.iloc[row,1] = error_rate\n",
    "        se = np.sqrt(error_rate*(1- error_rate)/len(y_test))\n",
    "        results.iloc[row,2] = se\n",
    "        results.iloc[row,3] = (matrix[1][1]/(matrix[0][1]+matrix[1][1]))\n",
    "        results.iloc[row,4] = (matrix[0][0]/(matrix[0][0]+matrix[1][0]))\n",
    "        results.iloc[row,5] =  precision_score(y_test, pred)\n",
    "        results.iloc[row,6] = (11.5*matrix[1][1]) - (14*matrix[1][0]) - (2.5*matrix[0][1])\n",
    "        results.iloc[row,7] = ((11.5*matrix[1][1]) - (14*matrix[1][0]) - (2.5*matrix[0][1]))/y_test.shape[0]\n",
    "        results.iloc[row,8] = (((11.5*matrix[1][1]) - (14*matrix[1][0]) - (2.5*matrix[0][1]))/y_test.shape[0])+(1.96*se)\n",
    "        results.iloc[row,9] = (((11.5*matrix[1][1]) - (14*matrix[1][0]) - (2.5*matrix[0][1]))/y_test.shape[0])-(1.96*se)\n",
    "    return results.round(3)"
   ]
  },
  {
   "cell_type": "markdown",
   "metadata": {},
   "source": [
    "# MATT, ONCE YOU ARE DONE RUNNING THE MODELS, USE GETRESULTTABLE2 NOT 3 FOR NEXT 3 BARS IN ORDER FOR IT TO WORK!!!"
   ]
  },
  {
   "cell_type": "code",
   "execution_count": 240,
   "metadata": {},
   "outputs": [
    {
     "data": {
      "text/html": [
       "<div>\n",
       "<style>\n",
       "    .dataframe thead tr:only-child th {\n",
       "        text-align: right;\n",
       "    }\n",
       "\n",
       "    .dataframe thead th {\n",
       "        text-align: left;\n",
       "    }\n",
       "\n",
       "    .dataframe tbody tr th {\n",
       "        vertical-align: top;\n",
       "    }\n",
       "</style>\n",
       "<table border=\"1\" class=\"dataframe\">\n",
       "  <thead>\n",
       "    <tr style=\"text-align: right;\">\n",
       "      <th></th>\n",
       "      <th>Overall Accuracy</th>\n",
       "      <th>Error Rate</th>\n",
       "      <th>SE</th>\n",
       "      <th>Sensitivity(TP)</th>\n",
       "      <th>Specificity(TN)</th>\n",
       "      <th>Precision</th>\n",
       "      <th>Profit</th>\n",
       "      <th>Profit Per Customer</th>\n",
       "      <th>CI for Profit U</th>\n",
       "      <th>CI for Profit L</th>\n",
       "    </tr>\n",
       "  </thead>\n",
       "  <tbody>\n",
       "    <tr>\n",
       "      <th>KNN Accuracy</th>\n",
       "      <td>0.638</td>\n",
       "      <td>0.362</td>\n",
       "      <td>0.005</td>\n",
       "      <td>0.173</td>\n",
       "      <td>0.836</td>\n",
       "      <td>0.173</td>\n",
       "      <td>-14199.0</td>\n",
       "      <td>-1.633</td>\n",
       "      <td>-1.623</td>\n",
       "      <td>-1.643</td>\n",
       "    </tr>\n",
       "    <tr>\n",
       "      <th>Decision Tree Accuracy</th>\n",
       "      <td>0.745</td>\n",
       "      <td>0.255</td>\n",
       "      <td>0.005</td>\n",
       "      <td>0.366</td>\n",
       "      <td>0.931</td>\n",
       "      <td>0.366</td>\n",
       "      <td>1877.5</td>\n",
       "      <td>0.216</td>\n",
       "      <td>0.225</td>\n",
       "      <td>0.207</td>\n",
       "    </tr>\n",
       "    <tr>\n",
       "      <th>Naive Bayes</th>\n",
       "      <td>0.829</td>\n",
       "      <td>0.171</td>\n",
       "      <td>0.004</td>\n",
       "      <td>0.240</td>\n",
       "      <td>0.834</td>\n",
       "      <td>0.240</td>\n",
       "      <td>-19969.5</td>\n",
       "      <td>-2.296</td>\n",
       "      <td>-2.288</td>\n",
       "      <td>-2.304</td>\n",
       "    </tr>\n",
       "    <tr>\n",
       "      <th>LDA</th>\n",
       "      <td>0.731</td>\n",
       "      <td>0.269</td>\n",
       "      <td>0.005</td>\n",
       "      <td>0.351</td>\n",
       "      <td>0.929</td>\n",
       "      <td>0.351</td>\n",
       "      <td>1521.5</td>\n",
       "      <td>0.175</td>\n",
       "      <td>0.184</td>\n",
       "      <td>0.166</td>\n",
       "    </tr>\n",
       "    <tr>\n",
       "      <th>QDA</th>\n",
       "      <td>0.755</td>\n",
       "      <td>0.245</td>\n",
       "      <td>0.005</td>\n",
       "      <td>0.362</td>\n",
       "      <td>0.911</td>\n",
       "      <td>0.362</td>\n",
       "      <td>-1339.5</td>\n",
       "      <td>-0.154</td>\n",
       "      <td>-0.145</td>\n",
       "      <td>-0.163</td>\n",
       "    </tr>\n",
       "  </tbody>\n",
       "</table>\n",
       "</div>"
      ],
      "text/plain": [
       "                        Overall Accuracy  Error Rate     SE  Sensitivity(TP)  \\\n",
       "KNN Accuracy                       0.638       0.362  0.005            0.173   \n",
       "Decision Tree Accuracy             0.745       0.255  0.005            0.366   \n",
       "Naive Bayes                        0.829       0.171  0.004            0.240   \n",
       "LDA                                0.731       0.269  0.005            0.351   \n",
       "QDA                                0.755       0.245  0.005            0.362   \n",
       "\n",
       "                        Specificity(TN)  Precision   Profit  \\\n",
       "KNN Accuracy                      0.836      0.173 -14199.0   \n",
       "Decision Tree Accuracy            0.931      0.366   1877.5   \n",
       "Naive Bayes                       0.834      0.240 -19969.5   \n",
       "LDA                               0.929      0.351   1521.5   \n",
       "QDA                               0.911      0.362  -1339.5   \n",
       "\n",
       "                        Profit Per Customer  CI for Profit U  CI for Profit L  \n",
       "KNN Accuracy                         -1.633           -1.623           -1.643  \n",
       "Decision Tree Accuracy                0.216            0.225            0.207  \n",
       "Naive Bayes                          -2.296           -2.288           -2.304  \n",
       "LDA                                   0.175            0.184            0.166  \n",
       "QDA                                  -0.154           -0.145           -0.163  "
      ]
     },
     "execution_count": 240,
     "metadata": {},
     "output_type": "execute_result"
    }
   ],
   "source": [
    "#Warning, this takes a while to run!\n",
    "getResultTable3(modelname, models, 1)"
   ]
  },
  {
   "cell_type": "code",
   "execution_count": 241,
   "metadata": {},
   "outputs": [
    {
     "data": {
      "text/html": [
       "<div>\n",
       "<style>\n",
       "    .dataframe thead tr:only-child th {\n",
       "        text-align: right;\n",
       "    }\n",
       "\n",
       "    .dataframe thead th {\n",
       "        text-align: left;\n",
       "    }\n",
       "\n",
       "    .dataframe tbody tr th {\n",
       "        vertical-align: top;\n",
       "    }\n",
       "</style>\n",
       "<table border=\"1\" class=\"dataframe\">\n",
       "  <thead>\n",
       "    <tr style=\"text-align: right;\">\n",
       "      <th></th>\n",
       "      <th>Overall Accuracy</th>\n",
       "      <th>Error Rate</th>\n",
       "      <th>SE</th>\n",
       "      <th>Sensitivity(TP)</th>\n",
       "      <th>Specificity(TN)</th>\n",
       "      <th>Precision</th>\n",
       "      <th>Profit</th>\n",
       "      <th>Profit Per Customer</th>\n",
       "      <th>CI for Profit U</th>\n",
       "      <th>CI for Profit L</th>\n",
       "    </tr>\n",
       "  </thead>\n",
       "  <tbody>\n",
       "    <tr>\n",
       "      <th>KNN FN_loss</th>\n",
       "      <td>0.526</td>\n",
       "      <td>0.474</td>\n",
       "      <td>0.005</td>\n",
       "      <td>0.173</td>\n",
       "      <td>0.839</td>\n",
       "      <td>0.173</td>\n",
       "      <td>-10733.0</td>\n",
       "      <td>-1.234</td>\n",
       "      <td>-1.224</td>\n",
       "      <td>-1.245</td>\n",
       "    </tr>\n",
       "    <tr>\n",
       "      <th>Decision Tree FN_loss</th>\n",
       "      <td>0.740</td>\n",
       "      <td>0.260</td>\n",
       "      <td>0.005</td>\n",
       "      <td>0.353</td>\n",
       "      <td>0.920</td>\n",
       "      <td>0.353</td>\n",
       "      <td>40.0</td>\n",
       "      <td>0.005</td>\n",
       "      <td>0.014</td>\n",
       "      <td>-0.005</td>\n",
       "    </tr>\n",
       "  </tbody>\n",
       "</table>\n",
       "</div>"
      ],
      "text/plain": [
       "                       Overall Accuracy  Error Rate     SE  Sensitivity(TP)  \\\n",
       "KNN FN_loss                       0.526       0.474  0.005            0.173   \n",
       "Decision Tree FN_loss             0.740       0.260  0.005            0.353   \n",
       "\n",
       "                       Specificity(TN)  Precision   Profit  \\\n",
       "KNN FN_loss                      0.839      0.173 -10733.0   \n",
       "Decision Tree FN_loss            0.920      0.353     40.0   \n",
       "\n",
       "                       Profit Per Customer  CI for Profit U  CI for Profit L  \n",
       "KNN FN_loss                         -1.234           -1.224           -1.245  \n",
       "Decision Tree FN_loss                0.005            0.014           -0.005  "
      ]
     },
     "execution_count": 241,
     "metadata": {},
     "output_type": "execute_result"
    }
   ],
   "source": [
    "getResultTable3(modelname, models_tp, 2)"
   ]
  },
  {
   "cell_type": "code",
   "execution_count": 242,
   "metadata": {},
   "outputs": [
    {
     "data": {
      "text/html": [
       "<div>\n",
       "<style>\n",
       "    .dataframe thead tr:only-child th {\n",
       "        text-align: right;\n",
       "    }\n",
       "\n",
       "    .dataframe thead th {\n",
       "        text-align: left;\n",
       "    }\n",
       "\n",
       "    .dataframe tbody tr th {\n",
       "        vertical-align: top;\n",
       "    }\n",
       "</style>\n",
       "<table border=\"1\" class=\"dataframe\">\n",
       "  <thead>\n",
       "    <tr style=\"text-align: right;\">\n",
       "      <th></th>\n",
       "      <th>Overall Accuracy</th>\n",
       "      <th>Error Rate</th>\n",
       "      <th>SE</th>\n",
       "      <th>Sensitivity(TP)</th>\n",
       "      <th>Specificity(TN)</th>\n",
       "      <th>Precision</th>\n",
       "      <th>Profit</th>\n",
       "      <th>Profit Per Customer</th>\n",
       "      <th>CI for Profit U</th>\n",
       "      <th>CI for Profit L</th>\n",
       "    </tr>\n",
       "  </thead>\n",
       "  <tbody>\n",
       "    <tr>\n",
       "      <th>KNN FN_loss</th>\n",
       "      <td>0.526</td>\n",
       "      <td>0.474</td>\n",
       "      <td>0.005</td>\n",
       "      <td>0.173</td>\n",
       "      <td>0.839</td>\n",
       "      <td>0.173</td>\n",
       "      <td>-10733.0</td>\n",
       "      <td>-1.234</td>\n",
       "      <td>-1.224</td>\n",
       "      <td>-1.245</td>\n",
       "    </tr>\n",
       "    <tr>\n",
       "      <th>Decision Tree FN_loss</th>\n",
       "      <td>0.785</td>\n",
       "      <td>0.215</td>\n",
       "      <td>0.004</td>\n",
       "      <td>0.394</td>\n",
       "      <td>0.902</td>\n",
       "      <td>0.394</td>\n",
       "      <td>-3173.5</td>\n",
       "      <td>-0.365</td>\n",
       "      <td>-0.356</td>\n",
       "      <td>-0.374</td>\n",
       "    </tr>\n",
       "  </tbody>\n",
       "</table>\n",
       "</div>"
      ],
      "text/plain": [
       "                       Overall Accuracy  Error Rate     SE  Sensitivity(TP)  \\\n",
       "KNN FN_loss                       0.526       0.474  0.005            0.173   \n",
       "Decision Tree FN_loss             0.785       0.215  0.004            0.394   \n",
       "\n",
       "                       Specificity(TN)  Precision   Profit  \\\n",
       "KNN FN_loss                      0.839      0.173 -10733.0   \n",
       "Decision Tree FN_loss            0.902      0.394  -3173.5   \n",
       "\n",
       "                       Profit Per Customer  CI for Profit U  CI for Profit L  \n",
       "KNN FN_loss                         -1.234           -1.224           -1.245  \n",
       "Decision Tree FN_loss               -0.365           -0.356           -0.374  "
      ]
     },
     "execution_count": 242,
     "metadata": {},
     "output_type": "execute_result"
    }
   ],
   "source": [
    "getResultTable3(modelname, models_fn, 2)"
   ]
  },
  {
   "cell_type": "markdown",
   "metadata": {
    "collapsed": true
   },
   "source": [
    "# Evaluation"
   ]
  },
  {
   "cell_type": "markdown",
   "metadata": {
    "collapsed": true
   },
   "source": [
    "From this, the best 2 models were:\n",
    "\n",
    "Recall that our Cost/Benefit values (express in terms of cost):\n",
    "\n",
    "True Negative: 0 since we don't send anything to a customer who would have bought something otherwise.\n",
    "\n",
    "True Positive: -14 + 2.5 = -11.5 (profit is negative cost. Thus, we have profit and cost to send mail)\n",
    "\n",
    "False Negative: 14 (Lost profit and therefore don't make money).\n",
    "\n",
    "False Positive: 2.5"
   ]
  },
  {
   "cell_type": "markdown",
   "metadata": {},
   "source": [
    "We have models that made profit! Yay!"
   ]
  },
  {
   "cell_type": "code",
   "execution_count": null,
   "metadata": {
    "collapsed": true
   },
   "outputs": [],
   "source": []
  }
 ],
 "metadata": {
  "kernelspec": {
   "display_name": "Python 3",
   "language": "python",
   "name": "python3"
  },
  "language_info": {
   "codemirror_mode": {
    "name": "ipython",
    "version": 3
   },
   "file_extension": ".py",
   "mimetype": "text/x-python",
   "name": "python",
   "nbconvert_exporter": "python",
   "pygments_lexer": "ipython3",
   "version": "3.6.1"
  }
 },
 "nbformat": 4,
 "nbformat_minor": 2
}
