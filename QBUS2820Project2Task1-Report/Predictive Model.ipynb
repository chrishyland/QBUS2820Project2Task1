{
 "cells": [
  {
   "cell_type": "code",
   "execution_count": 49,
   "metadata": {},
   "outputs": [],
   "source": [
    "import pandas as pd\n",
    "import numpy as np\n",
    "from sklearn.ensemble import AdaBoostClassifier, GradientBoostingClassifier, ExtraTreesClassifier, RandomForestClassifier\n",
    "from sklearn.ensemble import VotingClassifier\n",
    "from sklearn.naive_bayes import GaussianNB\n",
    "from sklearn.linear_model import LogisticRegression\n",
    "from sklearn.metrics import confusion_matrix, accuracy_score\n",
    "from sklearn import model_selection\n",
    "from sklearn.discriminant_analysis import QuadraticDiscriminantAnalysis, LinearDiscriminantAnalysis\n",
    "from sklearn.tree import DecisionTreeClassifier\n",
    "from sklearn.neighbors import KNeighborsClassifier\n",
    "from sklearn.model_selection import RandomizedSearchCV, GridSearchCV\n",
    "from sklearn import preprocessing\n",
    "from sklearn.cross_validation import cross_val_score\n",
    "import matplotlib.pyplot as plt\n",
    "%matplotlib inline\n",
    "\n",
    "#Stop warnings\n",
    "import warnings\n",
    "def ignore_warn(*args, **kwargs):\n",
    "    pass\n",
    "warnings.warn = ignore_warn"
   ]
  },
  {
   "cell_type": "code",
   "execution_count": 2,
   "metadata": {
    "collapsed": true
   },
   "outputs": [],
   "source": [
    "data = pd.read_csv('Clothing_Store.csv')\n",
    "\n",
    "dummies = pd.get_dummies(data[['VALPHON']],  drop_first=True)\n",
    "data=data.join(dummies)\n",
    "\n",
    "del data['VALPHON']\n",
    "final_train = data.sample(frac=0.6, random_state=450411920)\n",
    "final_test = data[data.index.isin(final_train.index)==False]\n",
    "#Now we have final train/test which only has predictors whilst y_train/test are the response\n",
    "y_train = final_train.pop('RESP')\n",
    "y_test = final_test.pop('RESP')\n"
   ]
  },
  {
   "cell_type": "markdown",
   "metadata": {},
   "source": [
    "### Going to try out some models here"
   ]
  },
  {
   "cell_type": "markdown",
   "metadata": {},
   "source": [
    "You can see more information about the models I use in this: http://scikit-learn.org/stable/modules/ensemble.html#gradient-boosting"
   ]
  },
  {
   "cell_type": "code",
   "execution_count": 3,
   "metadata": {
    "collapsed": true
   },
   "outputs": [],
   "source": [
    "#In order to store the results from our models\n",
    "pred = []\n",
    "method = []\n",
    "model = []"
   ]
  },
  {
   "cell_type": "code",
   "execution_count": 4,
   "metadata": {
    "collapsed": true
   },
   "outputs": [],
   "source": [
    "#KNN\n",
    "neigh = KNeighborsClassifier(n_neighbors=3)\n",
    "neigh.fit(final_train,y_train)\n",
    "predneigh = neigh.predict(final_test)\n",
    "pred.append(predneigh)\n",
    "method.append('KNN')"
   ]
  },
  {
   "cell_type": "code",
   "execution_count": 5,
   "metadata": {
    "collapsed": true
   },
   "outputs": [],
   "source": [
    "#Adaptive Boosting\n",
    "regr = AdaBoostClassifier(learning_rate = 1, n_estimators = 350)\n",
    "model.append(regr)\n",
    "regr = regr.fit(final_train,y_train)\n",
    "adapred = regr.predict(final_test)\n",
    "pred.append(adapred)\n",
    "method.append('AdaptiveBoost')"
   ]
  },
  {
   "cell_type": "code",
   "execution_count": 6,
   "metadata": {
    "collapsed": true
   },
   "outputs": [],
   "source": [
    "#Quadratic Discriminant analysis\n",
    "QDA = QuadraticDiscriminantAnalysis()\n",
    "QDA.fit(final_train, y_train)\n",
    "predQDA = QDA.predict(final_test)\n",
    "pred.append(predQDA)\n",
    "method.append('QDA')"
   ]
  },
  {
   "cell_type": "code",
   "execution_count": 7,
   "metadata": {
    "collapsed": true
   },
   "outputs": [],
   "source": [
    "#Linear Discriminant analysis\n",
    "LDA = LinearDiscriminantAnalysis()\n",
    "LDA.fit(final_train, y_train)\n",
    "predLDA = LDA.predict(final_test)\n",
    "pred.append(predLDA)\n",
    "method.append('LDA')\n"
   ]
  },
  {
   "cell_type": "code",
   "execution_count": 8,
   "metadata": {
    "collapsed": true
   },
   "outputs": [],
   "source": [
    "#Decision Tree\n",
    "DT = DecisionTreeClassifier(random_state=0)\n",
    "DT.fit(final_train,y_train)\n",
    "predDT = DT.predict(final_test)\n",
    "pred.append(predDT)\n",
    "method.append('Decision Tree')"
   ]
  },
  {
   "cell_type": "code",
   "execution_count": 9,
   "metadata": {
    "collapsed": true
   },
   "outputs": [],
   "source": [
    "#Random Forest \n",
    "RandomFor = RandomForestClassifier(max_depth=None,min_samples_split=2)\n",
    "model.append(RandomFor)\n",
    "RandomFor = RandomFor.fit(final_train,y_train)\n",
    "randomforpred = RandomFor.predict(final_test)\n",
    "pred.append(randomforpred)\n",
    "method.append('Random Forest')"
   ]
  },
  {
   "cell_type": "code",
   "execution_count": 10,
   "metadata": {
    "collapsed": true
   },
   "outputs": [],
   "source": [
    "#Extremely Random Forest\n",
    "Extratree = ExtraTreesClassifier(max_depth=None,min_samples_split=2)\n",
    "model.append(Extratree)\n",
    "Extratree = Extratree.fit(final_train,y_train)\n",
    "predFinalExtRandomForest = Extratree.predict(final_test)\n",
    "pred.append(predFinalExtRandomForest)\n",
    "method.append('Extreme Random Forest')"
   ]
  },
  {
   "cell_type": "code",
   "execution_count": 11,
   "metadata": {
    "collapsed": true
   },
   "outputs": [],
   "source": [
    "#Gradient Boosting Classifier\n",
    "GradBoost = GradientBoostingClassifier(n_estimators=350, learning_rate=0.1,\n",
    "                                 max_depth=1, random_state=0)\n",
    "model.append(GradBoost)\n",
    "GradBoost = GradBoost.fit(final_train,y_train)\n",
    "predGradBoost = GradBoost.predict(final_test)\n",
    "pred.append(predGradBoost)\n",
    "method.append('Gradient Boost')"
   ]
  },
  {
   "cell_type": "code",
   "execution_count": 12,
   "metadata": {
    "collapsed": true
   },
   "outputs": [],
   "source": [
    "#Naive Bayes\n",
    "NaiveB = GaussianNB()\n",
    "model.append(NaiveB)\n",
    "NaiveB = NaiveB.fit(final_train, y_train)\n",
    "predNaiveB = NaiveB.predict(final_test)\n",
    "pred.append(predNaiveB)\n",
    "method.append('Naive Bayes')"
   ]
  },
  {
   "cell_type": "code",
   "execution_count": 13,
   "metadata": {
    "collapsed": true
   },
   "outputs": [],
   "source": [
    "#Logistic regression\n",
    "LogReg = LogisticRegression(random_state=450411920)\n",
    "model.append(LogReg)\n",
    "LogReg = LogReg.fit(final_train,y_train)\n",
    "predLogReg = LogReg.predict(final_test)\n",
    "pred.append(predLogReg)\n",
    "method.append('Logit Reg')"
   ]
  },
  {
   "cell_type": "markdown",
   "metadata": {},
   "source": [
    "We can evaluate how each of our model performs from a confusion matrix.\n",
    "https://machinelearningmastery.com/metrics-evaluate-machine-learning-algorithms-python/"
   ]
  },
  {
   "cell_type": "code",
   "execution_count": 14,
   "metadata": {
    "collapsed": true
   },
   "outputs": [],
   "source": [
    "#Generates us a table for results\n",
    "def getResultTable(rows, predictions):\n",
    "    columns=['Accuracy for Yes', 'Accuracy for No', 'Overall Accuracy']\n",
    "    results=pd.DataFrame(0.0, columns=columns, index=rows)\n",
    "    \n",
    "    for row,pred in zip(range(0,len(rows)),predictions):\n",
    "        matrix = confusion_matrix(y_test, pred)\n",
    "        results.iloc[row,0] = (matrix[0][0]/(matrix[0][0]+matrix[1][0]))\n",
    "        results.iloc[row,1] = (matrix[1][1]/(matrix[0][1]+matrix[1][1]))\n",
    "        results.iloc[row,2] = (accuracy_score(y_test, pred))\n",
    "        \n",
    "    return results.round(3)"
   ]
  },
  {
   "cell_type": "code",
   "execution_count": 15,
   "metadata": {},
   "outputs": [
    {
     "name": "stderr",
     "output_type": "stream",
     "text": [
      "/Users/ChristopherHyland/anaconda/lib/python3.6/site-packages/ipykernel_launcher.py:9: RuntimeWarning: invalid value encountered in long_scalars\n",
      "  if __name__ == '__main__':\n"
     ]
    },
    {
     "data": {
      "text/html": [
       "<div>\n",
       "<style>\n",
       "    .dataframe thead tr:only-child th {\n",
       "        text-align: right;\n",
       "    }\n",
       "\n",
       "    .dataframe thead th {\n",
       "        text-align: left;\n",
       "    }\n",
       "\n",
       "    .dataframe tbody tr th {\n",
       "        vertical-align: top;\n",
       "    }\n",
       "</style>\n",
       "<table border=\"1\" class=\"dataframe\">\n",
       "  <thead>\n",
       "    <tr style=\"text-align: right;\">\n",
       "      <th></th>\n",
       "      <th>Accuracy for Yes</th>\n",
       "      <th>Accuracy for No</th>\n",
       "      <th>Overall Accuracy</th>\n",
       "    </tr>\n",
       "  </thead>\n",
       "  <tbody>\n",
       "    <tr>\n",
       "      <th>KNN</th>\n",
       "      <td>0.836</td>\n",
       "      <td>0.200</td>\n",
       "      <td>0.789</td>\n",
       "    </tr>\n",
       "    <tr>\n",
       "      <th>AdaptiveBoost</th>\n",
       "      <td>0.876</td>\n",
       "      <td>0.594</td>\n",
       "      <td>0.850</td>\n",
       "    </tr>\n",
       "    <tr>\n",
       "      <th>QDA</th>\n",
       "      <td>0.902</td>\n",
       "      <td>0.391</td>\n",
       "      <td>0.782</td>\n",
       "    </tr>\n",
       "    <tr>\n",
       "      <th>LDA</th>\n",
       "      <td>0.868</td>\n",
       "      <td>0.606</td>\n",
       "      <td>0.849</td>\n",
       "    </tr>\n",
       "    <tr>\n",
       "      <th>Decision Tree</th>\n",
       "      <td>0.876</td>\n",
       "      <td>0.381</td>\n",
       "      <td>0.794</td>\n",
       "    </tr>\n",
       "    <tr>\n",
       "      <th>Random Forest</th>\n",
       "      <td>0.864</td>\n",
       "      <td>0.580</td>\n",
       "      <td>0.844</td>\n",
       "    </tr>\n",
       "    <tr>\n",
       "      <th>Extreme Random Forest</th>\n",
       "      <td>0.860</td>\n",
       "      <td>0.576</td>\n",
       "      <td>0.843</td>\n",
       "    </tr>\n",
       "    <tr>\n",
       "      <th>Gradient Boost</th>\n",
       "      <td>0.871</td>\n",
       "      <td>0.655</td>\n",
       "      <td>0.855</td>\n",
       "    </tr>\n",
       "    <tr>\n",
       "      <th>Naive Bayes</th>\n",
       "      <td>0.834</td>\n",
       "      <td>0.224</td>\n",
       "      <td>0.830</td>\n",
       "    </tr>\n",
       "    <tr>\n",
       "      <th>Logit Reg</th>\n",
       "      <td>0.833</td>\n",
       "      <td>NaN</td>\n",
       "      <td>0.833</td>\n",
       "    </tr>\n",
       "  </tbody>\n",
       "</table>\n",
       "</div>"
      ],
      "text/plain": [
       "                       Accuracy for Yes  Accuracy for No  Overall Accuracy\n",
       "KNN                               0.836            0.200             0.789\n",
       "AdaptiveBoost                     0.876            0.594             0.850\n",
       "QDA                               0.902            0.391             0.782\n",
       "LDA                               0.868            0.606             0.849\n",
       "Decision Tree                     0.876            0.381             0.794\n",
       "Random Forest                     0.864            0.580             0.844\n",
       "Extreme Random Forest             0.860            0.576             0.843\n",
       "Gradient Boost                    0.871            0.655             0.855\n",
       "Naive Bayes                       0.834            0.224             0.830\n",
       "Logit Reg                         0.833              NaN             0.833"
      ]
     },
     "execution_count": 15,
     "metadata": {},
     "output_type": "execute_result"
    }
   ],
   "source": [
    "getResultTable(method,pred)"
   ]
  },
  {
   "cell_type": "code",
   "execution_count": 16,
   "metadata": {},
   "outputs": [
    {
     "name": "stdout",
     "output_type": "stream",
     "text": [
      "KNN confusion matrix is:\n",
      "[[6738  509]\n",
      " [1322  127]]\n",
      "Accuracy of predicting Yes is 0.836\n",
      "Accuracy of predicting No is 0.200\n",
      "Overall accuracy is 0.789\n",
      "\n",
      "AdaptiveBoost confusion matrix is:\n",
      "[[6928  319]\n",
      " [ 982  467]]\n",
      "Accuracy of predicting Yes is 0.876\n",
      "Accuracy of predicting No is 0.594\n",
      "Overall accuracy is 0.850\n",
      "\n",
      "QDA confusion matrix is:\n",
      "[[6007 1240]\n",
      " [ 653  796]]\n",
      "Accuracy of predicting Yes is 0.902\n",
      "Accuracy of predicting No is 0.391\n",
      "Overall accuracy is 0.782\n",
      "\n",
      "LDA confusion matrix is:\n",
      "[[6995  252]\n",
      " [1062  387]]\n",
      "Accuracy of predicting Yes is 0.868\n",
      "Accuracy of predicting No is 0.606\n",
      "Overall accuracy is 0.849\n",
      "\n",
      "Decision Tree confusion matrix is:\n",
      "[[6360  887]\n",
      " [ 902  547]]\n",
      "Accuracy of predicting Yes is 0.876\n",
      "Accuracy of predicting No is 0.381\n",
      "Overall accuracy is 0.794\n",
      "\n",
      "Random Forest confusion matrix is:\n",
      "[[6996  251]\n",
      " [1103  346]]\n",
      "Accuracy of predicting Yes is 0.864\n",
      "Accuracy of predicting No is 0.580\n",
      "Overall accuracy is 0.844\n",
      "\n",
      "Extreme Random Forest confusion matrix is:\n",
      "[[7023  224]\n",
      " [1145  304]]\n",
      "Accuracy of predicting Yes is 0.860\n",
      "Accuracy of predicting No is 0.576\n",
      "Overall accuracy is 0.843\n",
      "\n",
      "Gradient Boost confusion matrix is:\n",
      "[[7034  213]\n",
      " [1045  404]]\n",
      "Accuracy of predicting Yes is 0.871\n",
      "Accuracy of predicting No is 0.655\n",
      "Overall accuracy is 0.855\n",
      "\n",
      "Naive Bayes confusion matrix is:\n",
      "[[7202   45]\n",
      " [1436   13]]\n",
      "Accuracy of predicting Yes is 0.834\n",
      "Accuracy of predicting No is 0.224\n",
      "Overall accuracy is 0.830\n",
      "\n",
      "Logit Reg confusion matrix is:\n",
      "[[7247    0]\n",
      " [1449    0]]\n",
      "Accuracy of predicting Yes is 0.833\n",
      "Accuracy of predicting No is nan\n",
      "Overall accuracy is 0.833\n",
      "\n",
      "Best model is Gradient Boost\n",
      "Accuracy of the model is 0.855\n"
     ]
    },
    {
     "name": "stderr",
     "output_type": "stream",
     "text": [
      "/Users/ChristopherHyland/anaconda/lib/python3.6/site-packages/ipykernel_launcher.py:9: RuntimeWarning: invalid value encountered in long_scalars\n",
      "  if __name__ == '__main__':\n"
     ]
    }
   ],
   "source": [
    "#If we want to actually see a confusion matrix\n",
    "maxscore = 0\n",
    "bestmodel = 'none'\n",
    "for prediction, name in zip(pred,method):\n",
    "    print('{} confusion matrix is:'.format(name))\n",
    "    matrix = confusion_matrix(y_test, prediction)\n",
    "    print(matrix)\n",
    "    print('Accuracy of predicting Yes is %.3f'%(matrix[0][0]/(matrix[0][0]+matrix[1][0])))\n",
    "    print('Accuracy of predicting No is %.3f'%(matrix[1][1]/(matrix[0][1]+matrix[1][1])))\n",
    "    print('Overall accuracy is %.3f' % (accuracy_score(y_test, prediction)))\n",
    "    print('')\n",
    "    if (accuracy_score(y_test,prediction)>maxscore):\n",
    "        maxscore = accuracy_score(y_test,prediction)\n",
    "        bestmodel = name\n",
    "\n",
    "print('Best model is {}'.format(bestmodel))\n",
    "print('Accuracy of the model is %.3f' %(maxscore))\n",
    "    #8696 is total observations"
   ]
  },
  {
   "cell_type": "markdown",
   "metadata": {},
   "source": [
    "We can see that Gradient Boosting was the most accurate"
   ]
  },
  {
   "cell_type": "markdown",
   "metadata": {},
   "source": [
    "To interpret a confusion matrix, the column 1 and 2 represent the model predicting Yes or No. Then the rows represent were they actually yes or no. The [0,0] entry means that we predicted that many to be Yes, and it turns out that we were correct in predicting those, so that tells us how many yes observations we predicted correctly. Likewise, the [1,1] entry means how many no's we predicted correctly. The bottom left, [1,0] entry means we predicted yes, but was actually no and [0,1] entry is the vice versa. Conclusively, the diagonals of the matrix tells us how accurate are our predictions"
   ]
  },
  {
   "cell_type": "markdown",
   "metadata": {},
   "source": [
    "# Hyperparameter Tuning"
   ]
  },
  {
   "cell_type": "markdown",
   "metadata": {},
   "source": [
    "Now we try to tune the hyperparameter in our models, we use this package called randomizedsearchcv.\n",
    "\n",
    "This allows us to try out different hyperparameters.\n",
    "\n",
    "http://scikit-learn.org/stable/modules/generated/sklearn.model_selection.RandomizedSearchCV.html#sklearn.model_selection.RandomizedSearchCV"
   ]
  },
  {
   "cell_type": "code",
   "execution_count": 17,
   "metadata": {
    "collapsed": true
   },
   "outputs": [],
   "source": [
    "models = []\n",
    "modelname = []"
   ]
  },
  {
   "cell_type": "markdown",
   "metadata": {},
   "source": [
    "### KNN"
   ]
  },
  {
   "cell_type": "markdown",
   "metadata": {},
   "source": [
    "We begin with KNN with inspiration from:\n",
    "\n",
    "http://www.ritchieng.com/machine-learning-efficiently-search-tuning-param/"
   ]
  },
  {
   "cell_type": "code",
   "execution_count": 18,
   "metadata": {
    "collapsed": true
   },
   "outputs": [],
   "source": [
    "#Try setting from 1 - 25 neighbors\n",
    "k_range = range(1, 25)\n",
    "\n",
    "# we create a list. This allows us to see whether we should weigh all neighbours equally or weigh closer ones more\n",
    "weight_options = ['uniform', 'distance']"
   ]
  },
  {
   "cell_type": "code",
   "execution_count": 19,
   "metadata": {
    "collapsed": true
   },
   "outputs": [],
   "source": [
    "#Creating the objects necessary for us to try cross-validation in order to locate best hyperparameters\n",
    "param_dist = dict(n_neighbors=k_range, weights=weight_options)\n",
    "knn = KNeighborsClassifier()\n",
    "rand = RandomizedSearchCV(knn, param_dist, cv=10, scoring='accuracy', n_iter=10, random_state=5)"
   ]
  },
  {
   "cell_type": "code",
   "execution_count": 20,
   "metadata": {
    "collapsed": true
   },
   "outputs": [],
   "source": [
    "#Fitting the model and testing out random hyperparameters. This saves on computation time\n",
    "knnopt = rand.fit(final_train, y_train)"
   ]
  },
  {
   "cell_type": "code",
   "execution_count": 21,
   "metadata": {},
   "outputs": [
    {
     "name": "stdout",
     "output_type": "stream",
     "text": [
      "Accuracy of this model is 0.834\n",
      "{'weights': 'uniform', 'n_neighbors': 22}\n",
      "KNeighborsClassifier(algorithm='auto', leaf_size=30, metric='minkowski',\n",
      "           metric_params=None, n_jobs=1, n_neighbors=22, p=2,\n",
      "           weights='uniform')\n"
     ]
    }
   ],
   "source": [
    "# examine the best model\n",
    "print('Accuracy of this model is %.3f'%rand.best_score_)\n",
    "print(rand.best_params_)\n",
    "print(rand.best_estimator_)\n",
    "models.append(knnopt)\n",
    "modelname.append('KNN')"
   ]
  },
  {
   "cell_type": "markdown",
   "metadata": {},
   "source": [
    "Best hyperparameters for KNN involves 22 neighbours and having uniform neighbours"
   ]
  },
  {
   "cell_type": "code",
   "execution_count": 22,
   "metadata": {},
   "outputs": [
    {
     "name": "stdout",
     "output_type": "stream",
     "text": [
      "[0.7391884083841449, 0.8200690066610925, 0.79262347447833981, 0.82489923806123699, 0.81171339922396868, 0.82804305752590679, 0.82152594443765903, 0.83011278760604679, 0.82712304700344796, 0.83271991469292261, 0.83179966929414972, 0.83317968507783802, 0.83218322231512887, 0.83387010400323169, 0.83325660707071647, 0.83387010400323192, 0.83302666315918028, 0.83394690855795339, 0.83379365176298159, 0.83394690855795317, 0.83387033887954587, 0.83402359567451767, 0.83402359567451767, 0.83417673503133238]\n"
     ]
    }
   ],
   "source": [
    "#Now constructing a graph for this\n",
    "k_range = range(1, 25)\n",
    "\n",
    "# list of scores from k_range\n",
    "k_scores = []\n",
    "\n",
    "# 1. we will loop through reasonable values of k\n",
    "for k in k_range:\n",
    "    # 2. run KNeighborsClassifier with k neighbours\n",
    "    knn = KNeighborsClassifier(n_neighbors=k, weights = 'uniform')\n",
    "    # 3. obtain cross_val_score for KNeighborsClassifier with k neighbours\n",
    "    scores = cross_val_score(knn, final_train, y_train, cv=10, scoring='accuracy')\n",
    "    # 4. append mean of scores for k neighbors to k_scores list\n",
    "    k_scores.append(scores.mean())\n",
    "print(k_scores)"
   ]
  },
  {
   "cell_type": "code",
   "execution_count": 23,
   "metadata": {},
   "outputs": [
    {
     "data": {
      "text/plain": [
       "<matplotlib.text.Text at 0x120af7c88>"
      ]
     },
     "execution_count": 23,
     "metadata": {},
     "output_type": "execute_result"
    },
    {
     "data": {
      "image/png": "[encoded data removed]",
      "text/plain": [
       "<matplotlib.figure.Figure at 0x117bfe0b8>"
      ]
     },
     "metadata": {},
     "output_type": "display_data"
    }
   ],
   "source": [
    "# plot the value of K for KNN (x-axis) versus the cross-validated accuracy (y-axis)\n",
    "plt.plot(k_range, k_scores)\n",
    "plt.xlabel('Value of K for KNN')\n",
    "plt.ylabel('Cross-Validated Accuracy')\n",
    "plt.title('Neighbours vs Cross-validation Accuracy')"
   ]
  },
  {
   "cell_type": "markdown",
   "metadata": {},
   "source": [
    "We can see that increasing number of neighbours improves accuracy. However, we need to be wary of this."
   ]
  },
  {
   "cell_type": "markdown",
   "metadata": {},
   "source": []
  },
  {
   "cell_type": "markdown",
   "metadata": {},
   "source": [
    "### Decision Tree"
   ]
  },
  {
   "cell_type": "code",
   "execution_count": 24,
   "metadata": {
    "collapsed": true
   },
   "outputs": [],
   "source": [
    "# Setup the parameters and distributions to sample from: param_dist\n",
    "param_dist = {\"max_depth\": [3, None],\n",
    "              \"max_features\": range(1, 9),\n",
    "              \"min_samples_leaf\": range(1, 9),\n",
    "              \"criterion\": [\"gini\", \"entropy\"]}\n",
    "\n",
    "# Instantiate a Decision Tree classifier: tree\n",
    "tree = DecisionTreeClassifier()\n",
    "\n",
    "# Instantiate the RandomizedSearchCV object: tree_cv\n",
    "tree_cv = RandomizedSearchCV(tree,param_dist, cv=10, scoring='accuracy', n_iter=10, random_state=5)\n",
    "\n",
    "#Fitting the model and testing out random hyperparameters. This saves on computation time\n",
    "treeopt = tree_cv.fit(final_train, y_train)\n"
   ]
  },
  {
   "cell_type": "code",
   "execution_count": 25,
   "metadata": {},
   "outputs": [
    {
     "name": "stdout",
     "output_type": "stream",
     "text": [
      "Accuracy of this model is 0.849\n",
      "{'min_samples_leaf': 1, 'max_features': 8, 'max_depth': 3, 'criterion': 'entropy'}\n",
      "DecisionTreeClassifier(class_weight=None, criterion='entropy', max_depth=3,\n",
      "            max_features=8, max_leaf_nodes=None, min_impurity_decrease=0.0,\n",
      "            min_impurity_split=None, min_samples_leaf=1,\n",
      "            min_samples_split=2, min_weight_fraction_leaf=0.0,\n",
      "            presort=False, random_state=None, splitter='best')\n"
     ]
    }
   ],
   "source": [
    "# examine the best model\n",
    "print('Accuracy of this model is %.3f'%tree_cv.best_score_)\n",
    "print(tree_cv.best_params_)\n",
    "print(tree_cv.best_estimator_)\n",
    "models.append(treeopt)\n",
    "modelname.append('Decision Tree')"
   ]
  },
  {
   "cell_type": "markdown",
   "metadata": {},
   "source": [
    "For the decision tree, we should set min sample leaves to 5, have a maximum of 8 features, a max depth of 3, and using the gini criterion."
   ]
  },
  {
   "cell_type": "code",
   "execution_count": 26,
   "metadata": {},
   "outputs": [
    {
     "name": "stdout",
     "output_type": "stream",
     "text": [
      "[0.8467504861939702, 0.84682529430002162, 0.84866566765941054, 0.85042864927329265, 0.84966342224184732, 0.84299223029152837, 0.84261102603369076, 0.84184192354306209]\n"
     ]
    }
   ],
   "source": [
    "#Now constructing a graph for this\n",
    "tree_range = range(2, 10)\n",
    "\n",
    "# list of scores from t_range\n",
    "t_scores = []\n",
    "\n",
    "# 1. we will loop through reasonable values of k\n",
    "for k in tree_range:\n",
    "    # 2. run Decision tree with different value for depth of tree\n",
    "    tree = DecisionTreeClassifier(max_depth = k, criterion='gini', max_features = 8, max_leaf_nodes = None )\n",
    "    # 3. obtain cross_val_score for Decision tree with depth of k\n",
    "    scores = cross_val_score(tree, final_train, y_train, cv=10, scoring='accuracy')\n",
    "    # 4. append mean of scores for decision tree to t_scores list\n",
    "    t_scores.append(scores.mean())\n",
    "print(t_scores)"
   ]
  },
  {
   "cell_type": "code",
   "execution_count": 27,
   "metadata": {},
   "outputs": [
    {
     "data": {
      "text/plain": [
       "<matplotlib.text.Text at 0x115618b38>"
      ]
     },
     "execution_count": 27,
     "metadata": {},
     "output_type": "execute_result"
    },
    {
     "data": {
      "image/png": "[encoded data removed]",
      "text/plain": [
       "<matplotlib.figure.Figure at 0x117bfeba8>"
      ]
     },
     "metadata": {},
     "output_type": "display_data"
    }
   ],
   "source": [
    "# plot the value of Depth for Decision Tree(x-axis) versus the cross-validated accuracy (y-axis)\n",
    "plt.plot(k_range, k_scores)\n",
    "plt.xlabel('Value of Depth for Decision Tree')\n",
    "plt.ylabel('Cross-Validated Accuracy')\n",
    "plt.title('Depth vs Cross-validation Accuracy')"
   ]
  },
  {
   "cell_type": "code",
   "execution_count": null,
   "metadata": {
    "collapsed": true
   },
   "outputs": [],
   "source": []
  },
  {
   "cell_type": "markdown",
   "metadata": {},
   "source": [
    "### Random Forest"
   ]
  },
  {
   "cell_type": "code",
   "execution_count": 28,
   "metadata": {
    "collapsed": true
   },
   "outputs": [],
   "source": [
    "# Setup the parameters and distributions to sample from: param_dist\n",
    "param_dist = {\"n_estimators\": range(5,15),\n",
    "              \"max_depth\": [3, None],\n",
    "              \"max_features\": range(1, 9),\n",
    "              \"min_samples_split\": range(2,5),\n",
    "              \"min_samples_leaf\": range(1, 9),\n",
    "              }\n",
    "\n",
    "# Instantiate a Extremely Random Forest classifier: randext\n",
    "randFor = RandomForestClassifier()\n",
    "\n",
    "# Instantiate the RandomizedSearchCV object: randFor_cv\n",
    "randFor_cv = RandomizedSearchCV(randFor,param_dist, cv=10, scoring='accuracy', n_iter=10, random_state=5)\n",
    "\n",
    "#Fitting the model and testing out random hyperparameters. This saves on computation time\n",
    "optrand = randFor_cv.fit(final_train, y_train)\n"
   ]
  },
  {
   "cell_type": "code",
   "execution_count": 29,
   "metadata": {},
   "outputs": [
    {
     "name": "stdout",
     "output_type": "stream",
     "text": [
      "Accuracy of this model is 0.853\n",
      "{'n_estimators': 10, 'min_samples_split': 3, 'min_samples_leaf': 2, 'max_features': 8, 'max_depth': 3}\n",
      "RandomForestClassifier(bootstrap=True, class_weight=None, criterion='gini',\n",
      "            max_depth=3, max_features=8, max_leaf_nodes=None,\n",
      "            min_impurity_decrease=0.0, min_impurity_split=None,\n",
      "            min_samples_leaf=2, min_samples_split=3,\n",
      "            min_weight_fraction_leaf=0.0, n_estimators=10, n_jobs=1,\n",
      "            oob_score=False, random_state=None, verbose=0,\n",
      "            warm_start=False)\n"
     ]
    }
   ],
   "source": [
    "# examine the best model\n",
    "print('Accuracy of this model is %.3f'%randFor_cv.best_score_)\n",
    "print(randFor_cv.best_params_)\n",
    "print(randFor_cv.best_estimator_)\n",
    "models.append(optrand)\n",
    "modelname.append('Random Forest')"
   ]
  },
  {
   "cell_type": "markdown",
   "metadata": {},
   "source": [
    "Best hyperparameters:\n",
    "\n",
    "n_estimators: 10\n",
    "\n",
    "maximum features: 8\n",
    "\n",
    "min_samples_split: 2\n",
    "\n",
    "min_samples_leaf: 8\n",
    "\n",
    "No maximum depth"
   ]
  },
  {
   "cell_type": "code",
   "execution_count": null,
   "metadata": {
    "collapsed": true
   },
   "outputs": [],
   "source": []
  },
  {
   "cell_type": "markdown",
   "metadata": {},
   "source": [
    "### Extremely Random Forest"
   ]
  },
  {
   "cell_type": "code",
   "execution_count": 30,
   "metadata": {
    "collapsed": true
   },
   "outputs": [],
   "source": [
    "# Setup the parameters and distributions to sample from: param_dist\n",
    "param_dist = {\"n_estimators\": range(5,15),\n",
    "              \"max_depth\": [3, None],\n",
    "              \"max_features\": range(1, 9),\n",
    "              \"min_samples_split\": range(2,5),\n",
    "              \"min_samples_leaf\": range(1, 9),\n",
    "              }\n",
    "\n",
    "# Instantiate a Extremely Random Forest classifier: randext\n",
    "randExt = ExtraTreesClassifier()\n",
    "\n",
    "# Instantiate the RandomizedSearchCV object: randext_cv\n",
    "randExt_cv = RandomizedSearchCV(randExt,param_dist, cv=10, scoring='accuracy', n_iter=10, random_state=5)\n",
    "\n",
    "#Fitting the model and testing out random hyperparameters. This saves on computation time\n",
    "optext = randExt_cv.fit(final_train, y_train)\n"
   ]
  },
  {
   "cell_type": "code",
   "execution_count": 31,
   "metadata": {},
   "outputs": [
    {
     "name": "stdout",
     "output_type": "stream",
     "text": [
      "Accuracy of this model is 0.850\n",
      "{'n_estimators': 11, 'min_samples_split': 3, 'min_samples_leaf': 6, 'max_features': 5, 'max_depth': None}\n",
      "ExtraTreesClassifier(bootstrap=False, class_weight=None, criterion='gini',\n",
      "           max_depth=None, max_features=5, max_leaf_nodes=None,\n",
      "           min_impurity_decrease=0.0, min_impurity_split=None,\n",
      "           min_samples_leaf=6, min_samples_split=3,\n",
      "           min_weight_fraction_leaf=0.0, n_estimators=11, n_jobs=1,\n",
      "           oob_score=False, random_state=None, verbose=0, warm_start=False)\n"
     ]
    }
   ],
   "source": [
    "# examine the best model\n",
    "print('Accuracy of this model is %.3f'%randExt_cv.best_score_)\n",
    "print(randExt_cv.best_params_)\n",
    "print(randExt_cv.best_estimator_)\n",
    "models.append(optext)\n",
    "modelname.append('Extremely Random Forest')"
   ]
  },
  {
   "cell_type": "markdown",
   "metadata": {},
   "source": [
    "{'n_estimators': 11, 'min_samples_split': 3, 'min_samples_leaf': 6, 'max_features': 5, 'max_depth': None} tells us the best parameters"
   ]
  },
  {
   "cell_type": "code",
   "execution_count": null,
   "metadata": {
    "collapsed": true
   },
   "outputs": [],
   "source": []
  },
  {
   "cell_type": "markdown",
   "metadata": {},
   "source": [
    "### Adaptive Boosting"
   ]
  },
  {
   "cell_type": "code",
   "execution_count": 32,
   "metadata": {
    "collapsed": true
   },
   "outputs": [],
   "source": [
    "# Setup the parameters and distributions to sample from: param_dist\n",
    "param_dist = {\"n_estimators\": range(330,400,10),\n",
    "              \"learning_rate\": range(1,5),\n",
    "              }\n",
    "\n",
    "# Instantiate a Adaptie boosting classifier: tree\n",
    "randAda = AdaBoostClassifier()\n",
    "\n",
    "# Instantiate the RandomizedSearchCV object: randada_cv\n",
    "randAda_cv = RandomizedSearchCV(randAda,param_dist, cv=10, scoring='accuracy', n_iter=10, random_state=5)\n",
    "\n",
    "#Fitting the model and testing out random hyperparameters. This saves on computation time\n",
    "optada = randAda_cv.fit(final_train, y_train)\n"
   ]
  },
  {
   "cell_type": "code",
   "execution_count": 33,
   "metadata": {},
   "outputs": [
    {
     "name": "stdout",
     "output_type": "stream",
     "text": [
      "Accuracy of this model is 0.852\n",
      "{'n_estimators': 350, 'learning_rate': 1}\n",
      "AdaBoostClassifier(algorithm='SAMME.R', base_estimator=None, learning_rate=1,\n",
      "          n_estimators=350, random_state=None)\n"
     ]
    }
   ],
   "source": [
    "# examine the best model\n",
    "print('Accuracy of this model is %.3f'%randAda_cv.best_score_)\n",
    "print(randAda_cv.best_params_)\n",
    "print(randAda_cv.best_estimator_)\n",
    "models.append(optada)\n",
    "modelname.append('Adaptive Boosting')"
   ]
  },
  {
   "cell_type": "code",
   "execution_count": null,
   "metadata": {
    "collapsed": true
   },
   "outputs": [],
   "source": []
  },
  {
   "cell_type": "markdown",
   "metadata": {},
   "source": [
    "### Gradient Boosting"
   ]
  },
  {
   "cell_type": "code",
   "execution_count": 34,
   "metadata": {},
   "outputs": [],
   "source": [
    "# Setup the parameters and distributions to sample from: param_dist\n",
    "param_dist = {\"loss\": [\"deviance\", \"exponential\"],\n",
    "              \"n_estimators\": range(250,550,50),\n",
    "              \"learning_rate\": [0.1],\n",
    "              \"min_samples_split\" : [2,4],\n",
    "              \"min_samples_leaf\" : range(1,3)\n",
    "              }\n",
    "\n",
    "# Instantiate a GB boosting classifier: randGB\n",
    "randGB = GradientBoostingClassifier()\n",
    "\n",
    "# Instantiate the RandomizedSearchCV object: randGB_cv\n",
    "randGB_cv = RandomizedSearchCV(randGB,param_dist, cv=10, scoring='accuracy', n_iter=10, random_state=5)\n",
    "\n",
    "#Fitting the model and testing out random hyperparameters. This saves on computation time\n",
    "optgb = randGB_cv.fit(final_train, y_train)\n"
   ]
  },
  {
   "cell_type": "code",
   "execution_count": 35,
   "metadata": {},
   "outputs": [
    {
     "name": "stdout",
     "output_type": "stream",
     "text": [
      "Accuracy of this model is 0.856\n",
      "{'n_estimators': 250, 'min_samples_split': 4, 'min_samples_leaf': 2, 'loss': 'exponential', 'learning_rate': 0.1}\n",
      "GradientBoostingClassifier(criterion='friedman_mse', init=None,\n",
      "              learning_rate=0.1, loss='exponential', max_depth=3,\n",
      "              max_features=None, max_leaf_nodes=None,\n",
      "              min_impurity_decrease=0.0, min_impurity_split=None,\n",
      "              min_samples_leaf=2, min_samples_split=4,\n",
      "              min_weight_fraction_leaf=0.0, n_estimators=250,\n",
      "              presort='auto', random_state=None, subsample=1.0, verbose=0,\n",
      "              warm_start=False)\n"
     ]
    }
   ],
   "source": [
    "# examine the best model\n",
    "print('Accuracy of this model is %.3f'%randGB_cv.best_score_)\n",
    "print(randGB_cv.best_params_)\n",
    "print(randGB_cv.best_estimator_)\n",
    "models.append(optgb)\n",
    "modelname.append('Gradient Boosting')"
   ]
  },
  {
   "cell_type": "markdown",
   "metadata": {},
   "source": [
    "Same interpretation as usual"
   ]
  },
  {
   "cell_type": "code",
   "execution_count": null,
   "metadata": {
    "collapsed": true
   },
   "outputs": [],
   "source": []
  },
  {
   "cell_type": "markdown",
   "metadata": {},
   "source": [
    "### We have finalised tuning our hyperparameters and therefore we can retrain our models to see final results"
   ]
  },
  {
   "cell_type": "code",
   "execution_count": 36,
   "metadata": {
    "collapsed": true
   },
   "outputs": [],
   "source": [
    "#Logistic regression\n",
    "LogReg = LogisticRegression()\n",
    "optlog = LogReg.fit(final_train,y_train)\n",
    "models.append(optlog)\n",
    "modelname.append('Logit')\n",
    "\n",
    "#Naive Bayes\n",
    "NaiveB = GaussianNB()\n",
    "optnb = NaiveB.fit(final_train,y_train)\n",
    "models.append(optnb)\n",
    "modelname.append('Naive Bayes')\n",
    "\n",
    "#Linear Discriminant analysis\n",
    "LDA = LinearDiscriminantAnalysis()\n",
    "optlda = LDA.fit(final_train,y_train)\n",
    "models.append(optlda)\n",
    "modelname.append('LDA')\n",
    "\n",
    "#Quadratic Discriminant analysis\n",
    "QDA = QuadraticDiscriminantAnalysis()\n",
    "optqda = QDA.fit(final_train,y_train)\n",
    "models.append(optqda)\n",
    "modelname.append('QDA')"
   ]
  },
  {
   "cell_type": "code",
   "execution_count": 37,
   "metadata": {
    "collapsed": true
   },
   "outputs": [],
   "source": [
    "#Generates us a table for results with hyperparameter optimised models\n",
    "def getResultTable2(rows, modelsUsed):\n",
    "    columns=['Accuracy for Yes', 'Accuracy for No', 'Overall Accuracy']\n",
    "    results=pd.DataFrame(0.0, columns=columns, index=rows)\n",
    "    predictions = []\n",
    "    for clf in modelsUsed:\n",
    "        pred = clf.predict(final_test)\n",
    "        predictions.append(pred)\n",
    "        \n",
    "    for row,pred in zip(range(0,len(rows)),predictions):\n",
    "        matrix = confusion_matrix(y_test, pred)\n",
    "        results.iloc[row,0] = (matrix[0][0]/(matrix[0][0]+matrix[1][0]))\n",
    "        results.iloc[row,1] = (matrix[1][1]/(matrix[0][1]+matrix[1][1]))\n",
    "        results.iloc[row,2] = (accuracy_score(y_test, pred))\n",
    "        \n",
    "    return results.round(3)"
   ]
  },
  {
   "cell_type": "code",
   "execution_count": 38,
   "metadata": {},
   "outputs": [
    {
     "name": "stderr",
     "output_type": "stream",
     "text": [
      "/Users/ChristopherHyland/anaconda/lib/python3.6/site-packages/ipykernel_launcher.py:13: RuntimeWarning: invalid value encountered in long_scalars\n",
      "  del sys.path[0]\n"
     ]
    },
    {
     "data": {
      "text/html": [
       "<div>\n",
       "<style>\n",
       "    .dataframe thead tr:only-child th {\n",
       "        text-align: right;\n",
       "    }\n",
       "\n",
       "    .dataframe thead th {\n",
       "        text-align: left;\n",
       "    }\n",
       "\n",
       "    .dataframe tbody tr th {\n",
       "        vertical-align: top;\n",
       "    }\n",
       "</style>\n",
       "<table border=\"1\" class=\"dataframe\">\n",
       "  <thead>\n",
       "    <tr style=\"text-align: right;\">\n",
       "      <th></th>\n",
       "      <th>Accuracy for Yes</th>\n",
       "      <th>Accuracy for No</th>\n",
       "      <th>Overall Accuracy</th>\n",
       "    </tr>\n",
       "  </thead>\n",
       "  <tbody>\n",
       "    <tr>\n",
       "      <th>KNN</th>\n",
       "      <td>0.833</td>\n",
       "      <td>NaN</td>\n",
       "      <td>0.833</td>\n",
       "    </tr>\n",
       "    <tr>\n",
       "      <th>Decision Tree</th>\n",
       "      <td>0.846</td>\n",
       "      <td>0.686</td>\n",
       "      <td>0.842</td>\n",
       "    </tr>\n",
       "    <tr>\n",
       "      <th>Random Forest</th>\n",
       "      <td>0.859</td>\n",
       "      <td>0.676</td>\n",
       "      <td>0.850</td>\n",
       "    </tr>\n",
       "    <tr>\n",
       "      <th>Extremely Random Forest</th>\n",
       "      <td>0.861</td>\n",
       "      <td>0.649</td>\n",
       "      <td>0.850</td>\n",
       "    </tr>\n",
       "    <tr>\n",
       "      <th>Adaptive Boosting</th>\n",
       "      <td>0.876</td>\n",
       "      <td>0.594</td>\n",
       "      <td>0.850</td>\n",
       "    </tr>\n",
       "    <tr>\n",
       "      <th>Gradient Boosting</th>\n",
       "      <td>0.873</td>\n",
       "      <td>0.647</td>\n",
       "      <td>0.856</td>\n",
       "    </tr>\n",
       "    <tr>\n",
       "      <th>Logit</th>\n",
       "      <td>0.833</td>\n",
       "      <td>NaN</td>\n",
       "      <td>0.833</td>\n",
       "    </tr>\n",
       "    <tr>\n",
       "      <th>Naive Bayes</th>\n",
       "      <td>0.834</td>\n",
       "      <td>0.224</td>\n",
       "      <td>0.830</td>\n",
       "    </tr>\n",
       "    <tr>\n",
       "      <th>LDA</th>\n",
       "      <td>0.868</td>\n",
       "      <td>0.606</td>\n",
       "      <td>0.849</td>\n",
       "    </tr>\n",
       "    <tr>\n",
       "      <th>QDA</th>\n",
       "      <td>0.902</td>\n",
       "      <td>0.391</td>\n",
       "      <td>0.782</td>\n",
       "    </tr>\n",
       "  </tbody>\n",
       "</table>\n",
       "</div>"
      ],
      "text/plain": [
       "                         Accuracy for Yes  Accuracy for No  Overall Accuracy\n",
       "KNN                                 0.833              NaN             0.833\n",
       "Decision Tree                       0.846            0.686             0.842\n",
       "Random Forest                       0.859            0.676             0.850\n",
       "Extremely Random Forest             0.861            0.649             0.850\n",
       "Adaptive Boosting                   0.876            0.594             0.850\n",
       "Gradient Boosting                   0.873            0.647             0.856\n",
       "Logit                               0.833              NaN             0.833\n",
       "Naive Bayes                         0.834            0.224             0.830\n",
       "LDA                                 0.868            0.606             0.849\n",
       "QDA                                 0.902            0.391             0.782"
      ]
     },
     "execution_count": 38,
     "metadata": {},
     "output_type": "execute_result"
    }
   ],
   "source": [
    "#Warning, this takes a while to run!\n",
    "getResultTable2(modelname, models)"
   ]
  },
  {
   "cell_type": "code",
   "execution_count": null,
   "metadata": {
    "collapsed": true
   },
   "outputs": [],
   "source": []
  },
  {
   "cell_type": "markdown",
   "metadata": {},
   "source": [
    "# Ensembles"
   ]
  },
  {
   "cell_type": "markdown",
   "metadata": {},
   "source": [
    "## We can now combine our models in order to create even better models"
   ]
  },
  {
   "cell_type": "markdown",
   "metadata": {},
   "source": [
    "### We have predictions from our models and we can take a majority vote to predict each observation. Here, we use a majority vote. Here, we assign each model as having a vote that is of equal importance."
   ]
  },
  {
   "cell_type": "code",
   "execution_count": 39,
   "metadata": {
    "collapsed": true
   },
   "outputs": [],
   "source": [
    "ensemmodels = []\n",
    "ensempredictions = []"
   ]
  },
  {
   "cell_type": "markdown",
   "metadata": {},
   "source": [
    "Here, we take the 3 and 4 best models to create our model with hard voting"
   ]
  },
  {
   "cell_type": "code",
   "execution_count": 40,
   "metadata": {
    "collapsed": true
   },
   "outputs": [],
   "source": [
    "ensem = VotingClassifier(estimators=[('Adaptive', optada), ('DecisionTree', treeopt), ('GradientBoost', optgb)], voting='hard')\n",
    "ensemmodels.append('Adaboost DecisionTree GradientBoost')"
   ]
  },
  {
   "cell_type": "code",
   "execution_count": 41,
   "metadata": {},
   "outputs": [],
   "source": [
    "ensem1 = ensem.fit(final_train,y_train)\n",
    "ensempred1 = ensem1.predict(final_test)\n",
    "ensempredictions.append(ensempred1)"
   ]
  },
  {
   "cell_type": "code",
   "execution_count": 42,
   "metadata": {
    "collapsed": true
   },
   "outputs": [],
   "source": [
    "ensem2 = VotingClassifier(estimators=[('Adaptive', optada), ('DecisionTree', treeopt), ('GradientBoost', optgb), ('LDA', optlda)], voting='hard')\n",
    "ensemmodels.append('Adaboost DecisionTree GradientBoost LDA')"
   ]
  },
  {
   "cell_type": "code",
   "execution_count": 43,
   "metadata": {
    "collapsed": true
   },
   "outputs": [],
   "source": [
    "ensem2 = ensem2.fit(final_train,y_train)\n",
    "ensempred2 = ensem2.predict(final_test)\n",
    "ensempredictions.append(ensempred2)"
   ]
  },
  {
   "cell_type": "code",
   "execution_count": 45,
   "metadata": {},
   "outputs": [
    {
     "data": {
      "text/html": [
       "<div>\n",
       "<style>\n",
       "    .dataframe thead tr:only-child th {\n",
       "        text-align: right;\n",
       "    }\n",
       "\n",
       "    .dataframe thead th {\n",
       "        text-align: left;\n",
       "    }\n",
       "\n",
       "    .dataframe tbody tr th {\n",
       "        vertical-align: top;\n",
       "    }\n",
       "</style>\n",
       "<table border=\"1\" class=\"dataframe\">\n",
       "  <thead>\n",
       "    <tr style=\"text-align: right;\">\n",
       "      <th></th>\n",
       "      <th>Accuracy for Yes</th>\n",
       "      <th>Accuracy for No</th>\n",
       "      <th>Overall Accuracy</th>\n",
       "    </tr>\n",
       "  </thead>\n",
       "  <tbody>\n",
       "    <tr>\n",
       "      <th>Adaboost DecisionTree GradientBoost</th>\n",
       "      <td>0.871</td>\n",
       "      <td>0.655</td>\n",
       "      <td>0.856</td>\n",
       "    </tr>\n",
       "    <tr>\n",
       "      <th>Adaboost DecisionTree GradientBoost LDA</th>\n",
       "      <td>0.860</td>\n",
       "      <td>0.694</td>\n",
       "      <td>0.852</td>\n",
       "    </tr>\n",
       "  </tbody>\n",
       "</table>\n",
       "</div>"
      ],
      "text/plain": [
       "                                         Accuracy for Yes  Accuracy for No  \\\n",
       "Adaboost DecisionTree GradientBoost                 0.871            0.655   \n",
       "Adaboost DecisionTree GradientBoost LDA             0.860            0.694   \n",
       "\n",
       "                                         Overall Accuracy  \n",
       "Adaboost DecisionTree GradientBoost                 0.856  \n",
       "Adaboost DecisionTree GradientBoost LDA             0.852  "
      ]
     },
     "execution_count": 45,
     "metadata": {},
     "output_type": "execute_result"
    }
   ],
   "source": [
    "getResultTable(ensemmodels,ensempredictions)"
   ]
  },
  {
   "cell_type": "markdown",
   "metadata": {},
   "source": [
    "Now we use the best ensemble model and then try soft voting. Here, each base model gets a different weight\n",
    "in their vote. We can use gridsearch CV to find optimal level of weighting for each model.\n",
    "\n",
    "http://scikit-learn.org/stable/modules/ensemble.html#voting-classifier"
   ]
  },
  {
   "cell_type": "code",
   "execution_count": 69,
   "metadata": {},
   "outputs": [],
   "source": [
    "finalensem = VotingClassifier(estimators=[('LDA', optada), ('ExtraTrees', Extratree), ('GradientBoost', GradBoost)], voting='soft', weights = [1,1,4])"
   ]
  },
  {
   "cell_type": "code",
   "execution_count": 70,
   "metadata": {},
   "outputs": [
    {
     "data": {
      "text/plain": [
       "VotingClassifier(estimators=[('LDA', RandomizedSearchCV(cv=10, error_score='raise',\n",
       "          estimator=AdaBoostClassifier(algorithm='SAMME.R', base_estimator=None,\n",
       "          learning_rate=1.0, n_estimators=50, random_state=None),\n",
       "          fit_params=None, iid=True, n_iter=10, n_jobs=1,\n",
       "          param_distribution...         presort='auto', random_state=0, subsample=1.0, verbose=0,\n",
       "              warm_start=False))],\n",
       "         flatten_transform=None, n_jobs=1, voting='soft',\n",
       "         weights=[1, 1, 4])"
      ]
     },
     "execution_count": 70,
     "metadata": {},
     "output_type": "execute_result"
    }
   ],
   "source": [
    "finalensem.fit(final_train,y_train)"
   ]
  },
  {
   "cell_type": "code",
   "execution_count": 71,
   "metadata": {
    "collapsed": true
   },
   "outputs": [],
   "source": [
    "finalresults = finalensem.predict(final_test)"
   ]
  },
  {
   "cell_type": "code",
   "execution_count": 72,
   "metadata": {},
   "outputs": [
    {
     "name": "stdout",
     "output_type": "stream",
     "text": [
      "0.855450781969\n"
     ]
    }
   ],
   "source": [
    "#Final results\n",
    "print(accuracy_score(y_test, finalresults))"
   ]
  },
  {
   "cell_type": "markdown",
   "metadata": {},
   "source": [
    "Looks like hardvoting with Adaptive boosting, decision trees, and gradient boosting performed better."
   ]
  },
  {
   "cell_type": "code",
   "execution_count": null,
   "metadata": {
    "collapsed": true
   },
   "outputs": [],
   "source": []
  }
 ],
 "metadata": {
  "kernelspec": {
   "display_name": "Python 3",
   "language": "python",
   "name": "python3"
  },
  "language_info": {
   "codemirror_mode": {
    "name": "ipython",
    "version": 3
   },
   "file_extension": ".py",
   "mimetype": "text/x-python",
   "name": "python",
   "nbconvert_exporter": "python",
   "pygments_lexer": "ipython3",
   "version": "3.6.1"
  }
 },
 "nbformat": 4,
 "nbformat_minor": 2
}
